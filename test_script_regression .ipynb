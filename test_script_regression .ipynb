{
 "cells": [
  {
   "cell_type": "code",
   "execution_count": 25,
   "id": "63ae96be",
   "metadata": {},
   "outputs": [],
   "source": [
    "import pandas as pd \n",
    "import numpy as  np \n",
    "from sklearn.metrics import accuracy_score,r2_score,mean_squared_error\n",
    "import pickle"
   ]
  },
  {
   "cell_type": "code",
   "execution_count": 26,
   "id": "d08e2407",
   "metadata": {},
   "outputs": [],
   "source": [
    "test = pd.read_csv(\"ApartmentRentPrediction.csv\")"
   ]
  },
  {
   "cell_type": "code",
   "execution_count": 27,
   "id": "12d62172",
   "metadata": {},
   "outputs": [],
   "source": [
    "columns =[\"amenities\",\"bedrooms\",\"bathrooms\",\"square_feet\",\"latitude\",\"longitude\",\n",
    "          \"cityname\",\"state\",\"price_display\"]\n",
    "test = test[columns]"
   ]
  },
  {
   "cell_type": "code",
   "execution_count": 28,
   "id": "e7c30d4d",
   "metadata": {},
   "outputs": [],
   "source": [
    "with open(\"mode_values.pickle\", \"rb\") as f:\n",
    "    loaded_mode_mean_values = pickle.load(f)\n",
    "\n",
    "pets_allowed_mode= loaded_mode_mean_values[\"pets_allowed_mode\"]\n",
    "cityname_mode= loaded_mode_mean_values[\"cityname_mode\"]\n",
    "state_mode = loaded_mode_mean_values[\"state_mode\"]\n",
    "bedroom_mean = loaded_mode_mean_values[\"bedrooms_mean\"]\n",
    "bathroom_mean = loaded_mode_mean_values[\"bathrooms_mean\"]\n",
    "long_mean = loaded_mode_mean_values[\"longitude_mean\"]\n",
    "latit_mean = loaded_mode_mean_values[\"latitude_mean\"]\n",
    "\n",
    "\n",
    "test[\"amenities\"].fillna(\"Parking\", inplace=True)\n",
    "test[\"cityname\"].fillna(cityname_mode, inplace=True)\n",
    "test[\"state\"].fillna(state_mode, inplace=True)\n",
    "test[\"bedrooms\"].fillna(bedroom_mean, inplace=True)\n",
    "test[\"bathrooms\"].fillna(bathroom_mean, inplace=True)\n",
    "test[\"longitude\"].fillna(long_mean, inplace=True)\n",
    "test[\"latitude\"].fillna(latit_mean, inplace=True)"
   ]
  },
  {
   "cell_type": "code",
   "execution_count": 29,
   "id": "71639119",
   "metadata": {},
   "outputs": [],
   "source": [
    "with open('top_15_words.pkl', 'rb') as f:\n",
    "    top_15_words = pickle.load(f)\n",
    "    \n",
    "for i, row in test.iterrows():\n",
    "    text = row['amenities']\n",
    "    found = False  # Initialize found flag for each row\n",
    "    a = 0\n",
    "    for word in top_15_words:\n",
    "        if word in text:\n",
    "            found = True\n",
    "            text = text.replace(word, str(top_15_words.index(word) + 1))\n",
    "            a = a+1\n",
    "    \n",
    "    text  = str(a)\n",
    "    if not found:\n",
    "        text = str(0)\n",
    "        \n",
    "    test.at[i, 'amenities'] = text\n",
    "test[\"amenities\"]=test[\"amenities\"].astype(int)"
   ]
  },
  {
   "cell_type": "code",
   "execution_count": 30,
   "id": "22fca255",
   "metadata": {},
   "outputs": [],
   "source": [
    "def in_area(row):\n",
    "    if (-123 <= row['longitude'] <= -114) and (30 <= row['latitude'] <= 38):\n",
    "        return 1\n",
    "    else:\n",
    "        return 0\n",
    "    \n",
    "test['in_area'] = test.apply(in_area, axis=1)"
   ]
  },
  {
   "cell_type": "code",
   "execution_count": 31,
   "id": "1cedc2f4",
   "metadata": {},
   "outputs": [],
   "source": [
    "import pickle\n",
    "\n",
    "with open('city_offer_map.pkl', 'rb') as f:\n",
    "    city_offer_map = pickle.load(f)\n",
    "\n",
    "test['city_offer_what'] = test['cityname'].map(city_offer_map)"
   ]
  },
  {
   "cell_type": "code",
   "execution_count": 32,
   "id": "3bfc2133",
   "metadata": {},
   "outputs": [],
   "source": [
    "with open('label_encoders_reg.pickle', 'rb') as f:\n",
    "    loaded_label_encoders = pickle.load(f)\n",
    "    \n",
    "columns = ['cityname', 'state','city_offer_what']\n",
    "\n",
    "for column in columns:\n",
    "    encoder = loaded_label_encoders[column]\n",
    "#    print(encoder.classes_)\n",
    "    test[column + '_encoded'] = encoder.transform(test[column])\n",
    "\n",
    "    \n",
    "\n",
    "test[\"city_encoded\"]= test[\"cityname_encoded\"]\n",
    "test.drop(columns = \"cityname_encoded\",axis=1,inplace=True)\n",
    "# test[loaded_label_encoders[columns[0]]] = encoder.transform(test[columns[0]])\n",
    "\n",
    "# test[loaded_label_encoders[columns[1]]] = encoder.transform(test[columns[1]])\n",
    "\n",
    "# test[loaded_label_encoders[columns[2]]] = encoder.transform(test[columns[1]])"
   ]
  },
  {
   "cell_type": "code",
   "execution_count": 33,
   "id": "a7febe2e",
   "metadata": {},
   "outputs": [],
   "source": [
    "test.drop(columns=[\"cityname\",\"state\",\"city_offer_what\"],axis=1,inplace=True)"
   ]
  },
  {
   "cell_type": "code",
   "execution_count": 34,
   "id": "09d3f437",
   "metadata": {},
   "outputs": [],
   "source": [
    "\n",
    "test['price_display'] = test['price_display'].str.replace(r'[^\\d.]', '', regex=True).astype(float)"
   ]
  },
  {
   "cell_type": "code",
   "execution_count": 35,
   "id": "e4be38ad",
   "metadata": {},
   "outputs": [],
   "source": [
    "column_order = ['amenities', 'bathrooms', 'bedrooms', 'price_display', \n",
    "                'square_feet', 'latitude', 'longitude', 'in_area', \n",
    "                'city_encoded', 'state_encoded', 'city_offer_what_encoded']\n",
    "\n",
    "# Reordering columns\n",
    "test = test.reindex(columns=column_order)\n",
    "\n",
    "# Displaying DataFrame info\n",
    "#test.info()"
   ]
  },
  {
   "cell_type": "code",
   "execution_count": 36,
   "id": "b067c763",
   "metadata": {},
   "outputs": [
    {
     "data": {
      "text/plain": [
       "count     9000.000000\n",
       "mean      1487.286222\n",
       "std       1088.561190\n",
       "min        200.000000\n",
       "25%        950.000000\n",
       "50%       1275.000000\n",
       "75%       1695.000000\n",
       "max      52500.000000\n",
       "Name: price_display, dtype: float64"
      ]
     },
     "execution_count": 36,
     "metadata": {},
     "output_type": "execute_result"
    }
   ],
   "source": [
    "test[\"price_display\"].describe()"
   ]
  },
  {
   "cell_type": "code",
   "execution_count": 37,
   "id": "1882d209",
   "metadata": {},
   "outputs": [
    {
     "data": {
      "text/plain": [
       "449844.53041715076"
      ]
     },
     "execution_count": 37,
     "metadata": {},
     "output_type": "execute_result"
    }
   ],
   "source": [
    "with open('random_forest_reg_model.pkl', 'rb') as f:\n",
    "    loaded_model = pickle.load(f)\n",
    "    \n",
    "X=test.drop(columns=\"price_display\",axis=1)\n",
    "y=test[\"price_display\"]\n",
    "\n",
    "\n",
    "predictions = loaded_model.predict(X)\n",
    "\n",
    "mean_squared_error(y,predictions)\n"
   ]
  },
  {
   "cell_type": "code",
   "execution_count": 38,
   "id": "8d45a448",
   "metadata": {},
   "outputs": [
    {
     "data": {
      "text/plain": [
       "0.6203311135621741"
      ]
     },
     "execution_count": 38,
     "metadata": {},
     "output_type": "execute_result"
    }
   ],
   "source": [
    "r2_score(y,predictions)"
   ]
  },
  {
   "cell_type": "code",
   "execution_count": null,
   "id": "62dfe524",
   "metadata": {},
   "outputs": [],
   "source": []
  }
 ],
 "metadata": {
  "kernelspec": {
   "display_name": "Python 3",
   "language": "python",
   "name": "python3"
  },
  "language_info": {
   "codemirror_mode": {
    "name": "ipython",
    "version": 3
   },
   "file_extension": ".py",
   "mimetype": "text/x-python",
   "name": "python",
   "nbconvert_exporter": "python",
   "pygments_lexer": "ipython3",
   "version": "3.9.12"
  }
 },
 "nbformat": 4,
 "nbformat_minor": 5
}
