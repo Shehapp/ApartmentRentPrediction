{
 "cells": [
  {
   "cell_type": "code",
   "execution_count": 1,
   "id": "c446cd8c",
   "metadata": {},
   "outputs": [],
   "source": [
    "import pandas as pd \n",
    "import numpy as  np \n",
    "from sklearn.metrics import accuracy_score\n",
    "import pickle"
   ]
  },
  {
   "cell_type": "code",
   "execution_count": 2,
   "id": "d5064ba2",
   "metadata": {},
   "outputs": [],
   "source": [
    "test = pd.read_csv(\"ApartmentRentPrediction_Milestone2.csv\")"
   ]
  },
  {
   "cell_type": "code",
   "execution_count": 3,
   "id": "e5799048",
   "metadata": {},
   "outputs": [],
   "source": [
    "columns =[\"amenities\",\"bedrooms\",\"bathrooms\",\"square_feet\",\"latitude\",\"longitude\",\n",
    "          \"cityname\",\"state\",\"RentCategory\"]\n",
    "test = test[columns]"
   ]
  },
  {
   "cell_type": "code",
   "execution_count": 4,
   "id": "7bdf4eb4",
   "metadata": {},
   "outputs": [],
   "source": [
    "with open(\"mode_values.pickle\", \"rb\") as f:\n",
    "    loaded_mode_mean_values = pickle.load(f)\n",
    "\n",
    "pets_allowed_mode= loaded_mode_mean_values[\"pets_allowed_mode\"]\n",
    "cityname_mode= loaded_mode_mean_values[\"cityname_mode\"]\n",
    "state_mode = loaded_mode_mean_values[\"state_mode\"]\n",
    "bedroom_mean = loaded_mode_mean_values[\"bedrooms_mean\"]\n",
    "bathroom_mean = loaded_mode_mean_values[\"bathrooms_mean\"]\n",
    "long_mean = loaded_mode_mean_values[\"longitude_mean\"]\n",
    "latit_mean = loaded_mode_mean_values[\"latitude_mean\"]\n",
    "\n",
    "\n",
    "test[\"amenities\"].fillna(\"Parking\", inplace=True)\n",
    "test[\"cityname\"].fillna(cityname_mode, inplace=True)\n",
    "test[\"state\"].fillna(state_mode, inplace=True)\n",
    "test[\"bedrooms\"].fillna(bedroom_mean, inplace=True)\n",
    "test[\"bathrooms\"].fillna(bathroom_mean, inplace=True)\n",
    "test[\"longitude\"].fillna(long_mean, inplace=True)\n",
    "test[\"latitude\"].fillna(latit_mean, inplace=True)"
   ]
  },
  {
   "cell_type": "code",
   "execution_count": 5,
   "id": "412a7937",
   "metadata": {},
   "outputs": [
    {
     "data": {
      "text/plain": [
       "Index(['amenities', 'bedrooms', 'bathrooms', 'square_feet', 'latitude',\n",
       "       'longitude', 'cityname', 'state', 'RentCategory'],\n",
       "      dtype='object')"
      ]
     },
     "execution_count": 5,
     "metadata": {},
     "output_type": "execute_result"
    }
   ],
   "source": [
    "test.columns"
   ]
  },
  {
   "cell_type": "code",
   "execution_count": 6,
   "id": "2609378d",
   "metadata": {},
   "outputs": [],
   "source": [
    "with open('top_15_words.pkl', 'rb') as f:\n",
    "    top_15_words = pickle.load(f)"
   ]
  },
  {
   "cell_type": "code",
   "execution_count": 7,
   "id": "f3cb7a20",
   "metadata": {},
   "outputs": [],
   "source": [
    "for i, row in test.iterrows():\n",
    "    text = row['amenities']\n",
    "    found = False  # Initialize found flag for each row\n",
    "    a = 0\n",
    "    for word in top_15_words:\n",
    "        if word in text:\n",
    "            found = True\n",
    "            text = text.replace(word, str(top_15_words.index(word) + 1))\n",
    "            a = a+1\n",
    "    \n",
    "    text  = str(a)\n",
    "    if not found:\n",
    "        text = str(0)\n",
    "        \n",
    "    test.at[i, 'amenities'] = text"
   ]
  },
  {
   "cell_type": "code",
   "execution_count": 8,
   "id": "dc1ad822",
   "metadata": {},
   "outputs": [],
   "source": [
    "test[\"amenities\"]=test[\"amenities\"].astype(int)"
   ]
  },
  {
   "cell_type": "code",
   "execution_count": 9,
   "id": "0d52ab4d",
   "metadata": {},
   "outputs": [],
   "source": [
    "def in_area(row):\n",
    "    if (-123 <= row['longitude'] <= -114) and (30 <= row['latitude'] <= 38):\n",
    "        return 1\n",
    "    else:\n",
    "        return 0"
   ]
  },
  {
   "cell_type": "code",
   "execution_count": 10,
   "id": "dc237d1c",
   "metadata": {},
   "outputs": [],
   "source": [
    "test['in_area'] = test.apply(in_area, axis=1)"
   ]
  },
  {
   "cell_type": "code",
   "execution_count": 11,
   "id": "43d0c0a2",
   "metadata": {},
   "outputs": [],
   "source": [
    "with open('label_encoders.pickle', 'rb') as f:\n",
    "    loaded_label_encoders = pickle.load(f)\n",
    "    \n",
    "columns = ['cityname', 'state','RentCategory']\n",
    "\n",
    "for column in columns:\n",
    "    encoder = loaded_label_encoders[column]\n",
    "#    print(encoder.classes_)\n",
    "    test[column + '_encoded'] = encoder.transform(test[column])\n",
    "\n",
    "    \n",
    "\n",
    "test[\"city_encoded\"]= test[\"cityname_encoded\"]\n",
    "test.drop(columns = \"cityname_encoded\",axis=1,inplace=True)\n",
    "# test[loaded_label_encoders[columns[0]]] = encoder.transform(test[columns[0]])\n",
    "\n",
    "# test[loaded_label_encoders[columns[1]]] = encoder.transform(test[columns[1]])\n",
    "\n",
    "# test[loaded_label_encoders[columns[2]]] = encoder.transform(test[columns[1]])"
   ]
  },
  {
   "cell_type": "code",
   "execution_count": 12,
   "id": "ab48de43",
   "metadata": {},
   "outputs": [],
   "source": [
    "test.drop(columns=[\"cityname\",\"state\",\"RentCategory\"],axis=1,inplace=True)"
   ]
  },
  {
   "cell_type": "code",
   "execution_count": 13,
   "id": "3d79f5d9",
   "metadata": {},
   "outputs": [],
   "source": [
    "test = test[['amenities', 'bathrooms', 'bedrooms', 'square_feet', 'latitude', 'longitude', 'in_area', 'city_encoded', 'state_encoded', 'RentCategory_encoded']]\n",
    "test.columns = ['amenities', 'bathrooms', 'bedrooms', 'square_feet', 'latitude', 'longitude', 'in_area', 'city_encoded', 'state_encoded', 'RentCategory_encoded']"
   ]
  },
  {
   "cell_type": "code",
   "execution_count": 14,
   "id": "82437b15",
   "metadata": {},
   "outputs": [],
   "source": [
    "\n",
    "numerical_columns = ['bathrooms', 'bedrooms', 'square_feet', 'latitude', 'longitude']\n",
    "\n",
    "with open('scaler.pkl', 'rb') as f:\n",
    "    scaler = pickle.load(f)\n",
    "\n",
    "test[numerical_columns] = scaler.transform(test[numerical_columns])"
   ]
  },
  {
   "cell_type": "code",
   "execution_count": 15,
   "id": "09366661",
   "metadata": {},
   "outputs": [],
   "source": [
    "with open('random_forest_model.pkl', 'rb') as f:\n",
    "    loaded_model = pickle.load(f)\n",
    "    \n",
    "X=test.drop(columns=\"RentCategory_encoded\",axis=1)\n",
    "y=test[\"RentCategory_encoded\"]"
   ]
  },
  {
   "cell_type": "code",
   "execution_count": 16,
   "id": "892ad720",
   "metadata": {},
   "outputs": [
    {
     "data": {
      "text/plain": [
       "0.916"
      ]
     },
     "execution_count": 16,
     "metadata": {},
     "output_type": "execute_result"
    }
   ],
   "source": [
    "predictions = loaded_model.predict(X)\n",
    "\n",
    "accuracy_score(y,predictions)"
   ]
  },
  {
   "cell_type": "code",
   "execution_count": null,
   "id": "1489c807",
   "metadata": {},
   "outputs": [],
   "source": []
  }
 ],
 "metadata": {
  "kernelspec": {
   "display_name": "Python 3",
   "language": "python",
   "name": "python3"
  },
  "language_info": {
   "codemirror_mode": {
    "name": "ipython",
    "version": 3
   },
   "file_extension": ".py",
   "mimetype": "text/x-python",
   "name": "python",
   "nbconvert_exporter": "python",
   "pygments_lexer": "ipython3",
   "version": "3.9.12"
  }
 },
 "nbformat": 4,
 "nbformat_minor": 5
}
