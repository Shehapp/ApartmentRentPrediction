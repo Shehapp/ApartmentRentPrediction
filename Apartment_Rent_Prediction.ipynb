{
 "cells": [
  {
   "cell_type": "code",
   "execution_count": 1,
   "id": "701cefdb",
   "metadata": {
    "ExecuteTime": {
     "end_time": "2024-04-19T16:00:57.916093Z",
     "start_time": "2024-04-19T16:00:57.898411Z"
    }
   },
   "outputs": [],
   "source": [
    "import pandas as pd \n",
    "import numpy as np \n",
    "import matplotlib.pyplot as plt \n",
    "import seaborn as sns\n",
    "from sklearn.model_selection import train_test_split, cross_val_score\n",
    "from sklearn.linear_model import LinearRegression,Ridge\n",
    "from sklearn.tree import DecisionTreeRegressor \n",
    "from sklearn.preprocessing import PolynomialFeatures\n",
    "from sklearn.metrics import mean_squared_error,r2_score\n",
    "from sklearn.ensemble import RandomForestRegressor"
   ]
  },
  {
   "cell_type": "code",
   "execution_count": 2,
   "id": "7220b488",
   "metadata": {
    "ExecuteTime": {
     "end_time": "2024-04-19T16:00:58.991496Z",
     "start_time": "2024-04-19T16:00:58.894526Z"
    }
   },
   "outputs": [],
   "source": [
    "data = pd.read_csv(\"ApartmentRentPrediction.csv\")"
   ]
  },
  {
   "cell_type": "code",
   "execution_count": 3,
   "id": "8af1a653",
   "metadata": {
    "ExecuteTime": {
     "end_time": "2024-04-19T16:00:59.007005Z",
     "start_time": "2024-04-19T16:00:58.993495Z"
    }
   },
   "outputs": [],
   "source": [
    "df = data.copy()"
   ]
  },
  {
   "cell_type": "code",
   "execution_count": 4,
   "id": "300120e6",
   "metadata": {
    "ExecuteTime": {
     "end_time": "2024-04-19T16:00:59.070606Z",
     "start_time": "2024-04-19T16:00:59.040549Z"
    }
   },
   "outputs": [
    {
     "name": "stdout",
     "output_type": "stream",
     "text": [
      "<class 'pandas.core.frame.DataFrame'>\n",
      "RangeIndex: 9000 entries, 0 to 8999\n",
      "Data columns (total 22 columns):\n",
      " #   Column         Non-Null Count  Dtype  \n",
      "---  ------         --------------  -----  \n",
      " 0   id             9000 non-null   int64  \n",
      " 1   category       9000 non-null   object \n",
      " 2   title          9000 non-null   object \n",
      " 3   body           9000 non-null   object \n",
      " 4   amenities      5815 non-null   object \n",
      " 5   bathrooms      8970 non-null   float64\n",
      " 6   bedrooms       8993 non-null   float64\n",
      " 7   currency       9000 non-null   object \n",
      " 8   fee            9000 non-null   object \n",
      " 9   has_photo      9000 non-null   object \n",
      " 10  pets_allowed   5249 non-null   object \n",
      " 11  price          9000 non-null   int64  \n",
      " 12  price_display  9000 non-null   object \n",
      " 13  price_type     9000 non-null   object \n",
      " 14  square_feet    9000 non-null   int64  \n",
      " 15  address        6029 non-null   object \n",
      " 16  cityname       8934 non-null   object \n",
      " 17  state          8934 non-null   object \n",
      " 18  latitude       8993 non-null   float64\n",
      " 19  longitude      8993 non-null   float64\n",
      " 20  source         9000 non-null   object \n",
      " 21  time           9000 non-null   int64  \n",
      "dtypes: float64(4), int64(4), object(14)\n",
      "memory usage: 1.5+ MB\n"
     ]
    }
   ],
   "source": [
    "data.info()"
   ]
  },
  {
   "cell_type": "code",
   "execution_count": 5,
   "id": "d10dd7d4",
   "metadata": {
    "ExecuteTime": {
     "end_time": "2024-04-19T16:00:59.165836Z",
     "start_time": "2024-04-19T16:00:59.107669Z"
    }
   },
   "outputs": [
    {
     "name": "stdout",
     "output_type": "stream",
     "text": [
      "id\n",
      "(9000,)\n",
      "category\n",
      "(3,)\n",
      "title\n",
      "(8441,)\n",
      "body\n",
      "(8969,)\n",
      "amenities\n",
      "(2093,)\n",
      "bathrooms\n",
      "(14,)\n",
      "bedrooms\n",
      "(10,)\n",
      "currency\n",
      "(1,)\n",
      "fee\n",
      "(1,)\n",
      "has_photo\n",
      "(3,)\n",
      "pets_allowed\n",
      "(3,)\n",
      "price\n",
      "(1646,)\n",
      "price_display\n",
      "(1647,)\n",
      "price_type\n",
      "(3,)\n",
      "square_feet\n",
      "(1682,)\n",
      "address\n",
      "(6016,)\n",
      "cityname\n",
      "(1497,)\n",
      "state\n",
      "(50,)\n",
      "latitude\n",
      "(2257,)\n",
      "longitude\n",
      "(2254,)\n",
      "source\n",
      "(11,)\n",
      "time\n",
      "(5886,)\n"
     ]
    }
   ],
   "source": [
    "#columns with  more than 5000 distinct values should be removed or preprocessed to include less range \n",
    "object_columns_bt5_lt30=[]\n",
    "object_columns_lt5=[]\n",
    "for i  in data.columns:\n",
    "    print(i)\n",
    "    print( data[i].value_counts().shape)\n",
    "    if(data[i].value_counts().shape[0]<=5 and type(data[i][0]) == str ):\n",
    "        object_columns_lt5.append(i)\n",
    "    elif(data[i].value_counts().shape[0]<=30 and data[i].value_counts().shape[0]>5 and type(data[i][0]) == str ):\n",
    "        object_columns_bt5_lt30.append(i)"
   ]
  },
  {
   "cell_type": "code",
   "execution_count": 6,
   "id": "3db38d13",
   "metadata": {
    "ExecuteTime": {
     "end_time": "2024-04-19T16:00:59.213171Z",
     "start_time": "2024-04-19T16:00:59.195139Z"
    }
   },
   "outputs": [
    {
     "data": {
      "text/plain": [
       "['category', 'currency', 'fee', 'has_photo', 'pets_allowed', 'price_type']"
      ]
     },
     "execution_count": 6,
     "metadata": {},
     "output_type": "execute_result"
    }
   ],
   "source": [
    "object_columns_lt5"
   ]
  },
  {
   "cell_type": "code",
   "execution_count": 7,
   "id": "2820c795",
   "metadata": {
    "ExecuteTime": {
     "end_time": "2024-04-19T16:00:59.339087Z",
     "start_time": "2024-04-19T16:00:59.307948Z"
    }
   },
   "outputs": [
    {
     "data": {
      "text/html": [
       "<div>\n",
       "<style scoped>\n",
       "    .dataframe tbody tr th:only-of-type {\n",
       "        vertical-align: middle;\n",
       "    }\n",
       "\n",
       "    .dataframe tbody tr th {\n",
       "        vertical-align: top;\n",
       "    }\n",
       "\n",
       "    .dataframe thead th {\n",
       "        text-align: right;\n",
       "    }\n",
       "</style>\n",
       "<table border=\"1\" class=\"dataframe\">\n",
       "  <thead>\n",
       "    <tr style=\"text-align: right;\">\n",
       "      <th></th>\n",
       "      <th>id</th>\n",
       "      <th>bathrooms</th>\n",
       "      <th>bedrooms</th>\n",
       "      <th>price</th>\n",
       "      <th>square_feet</th>\n",
       "      <th>latitude</th>\n",
       "      <th>longitude</th>\n",
       "      <th>time</th>\n",
       "    </tr>\n",
       "  </thead>\n",
       "  <tbody>\n",
       "    <tr>\n",
       "      <th>count</th>\n",
       "      <td>9.000000e+03</td>\n",
       "      <td>8970.000000</td>\n",
       "      <td>8993.000000</td>\n",
       "      <td>9000.000000</td>\n",
       "      <td>9000.000000</td>\n",
       "      <td>8993.00000</td>\n",
       "      <td>8993.000000</td>\n",
       "      <td>9.000000e+03</td>\n",
       "    </tr>\n",
       "    <tr>\n",
       "      <th>mean</th>\n",
       "      <td>5.623668e+09</td>\n",
       "      <td>1.380769</td>\n",
       "      <td>1.744023</td>\n",
       "      <td>1487.286222</td>\n",
       "      <td>947.138667</td>\n",
       "      <td>37.67689</td>\n",
       "      <td>-94.778612</td>\n",
       "      <td>1.574906e+09</td>\n",
       "    </tr>\n",
       "    <tr>\n",
       "      <th>std</th>\n",
       "      <td>7.007402e+07</td>\n",
       "      <td>0.616171</td>\n",
       "      <td>0.942446</td>\n",
       "      <td>1088.561190</td>\n",
       "      <td>668.806214</td>\n",
       "      <td>5.51527</td>\n",
       "      <td>15.769232</td>\n",
       "      <td>3.755142e+06</td>\n",
       "    </tr>\n",
       "    <tr>\n",
       "      <th>min</th>\n",
       "      <td>5.508654e+09</td>\n",
       "      <td>1.000000</td>\n",
       "      <td>0.000000</td>\n",
       "      <td>200.000000</td>\n",
       "      <td>106.000000</td>\n",
       "      <td>21.31550</td>\n",
       "      <td>-158.022100</td>\n",
       "      <td>1.568744e+09</td>\n",
       "    </tr>\n",
       "    <tr>\n",
       "      <th>25%</th>\n",
       "      <td>5.509250e+09</td>\n",
       "      <td>1.000000</td>\n",
       "      <td>1.000000</td>\n",
       "      <td>950.000000</td>\n",
       "      <td>650.000000</td>\n",
       "      <td>33.66200</td>\n",
       "      <td>-101.858700</td>\n",
       "      <td>1.568781e+09</td>\n",
       "    </tr>\n",
       "    <tr>\n",
       "      <th>50%</th>\n",
       "      <td>5.668610e+09</td>\n",
       "      <td>1.000000</td>\n",
       "      <td>2.000000</td>\n",
       "      <td>1275.000000</td>\n",
       "      <td>802.000000</td>\n",
       "      <td>38.75550</td>\n",
       "      <td>-93.707700</td>\n",
       "      <td>1.577358e+09</td>\n",
       "    </tr>\n",
       "    <tr>\n",
       "      <th>75%</th>\n",
       "      <td>5.668626e+09</td>\n",
       "      <td>2.000000</td>\n",
       "      <td>2.000000</td>\n",
       "      <td>1695.000000</td>\n",
       "      <td>1100.000000</td>\n",
       "      <td>41.34980</td>\n",
       "      <td>-82.446800</td>\n",
       "      <td>1.577359e+09</td>\n",
       "    </tr>\n",
       "    <tr>\n",
       "      <th>max</th>\n",
       "      <td>5.668663e+09</td>\n",
       "      <td>8.500000</td>\n",
       "      <td>9.000000</td>\n",
       "      <td>52500.000000</td>\n",
       "      <td>40000.000000</td>\n",
       "      <td>61.59400</td>\n",
       "      <td>-70.191600</td>\n",
       "      <td>1.577362e+09</td>\n",
       "    </tr>\n",
       "  </tbody>\n",
       "</table>\n",
       "</div>"
      ],
      "text/plain": [
       "                 id    bathrooms     bedrooms         price   square_feet  \\\n",
       "count  9.000000e+03  8970.000000  8993.000000   9000.000000   9000.000000   \n",
       "mean   5.623668e+09     1.380769     1.744023   1487.286222    947.138667   \n",
       "std    7.007402e+07     0.616171     0.942446   1088.561190    668.806214   \n",
       "min    5.508654e+09     1.000000     0.000000    200.000000    106.000000   \n",
       "25%    5.509250e+09     1.000000     1.000000    950.000000    650.000000   \n",
       "50%    5.668610e+09     1.000000     2.000000   1275.000000    802.000000   \n",
       "75%    5.668626e+09     2.000000     2.000000   1695.000000   1100.000000   \n",
       "max    5.668663e+09     8.500000     9.000000  52500.000000  40000.000000   \n",
       "\n",
       "         latitude    longitude          time  \n",
       "count  8993.00000  8993.000000  9.000000e+03  \n",
       "mean     37.67689   -94.778612  1.574906e+09  \n",
       "std       5.51527    15.769232  3.755142e+06  \n",
       "min      21.31550  -158.022100  1.568744e+09  \n",
       "25%      33.66200  -101.858700  1.568781e+09  \n",
       "50%      38.75550   -93.707700  1.577358e+09  \n",
       "75%      41.34980   -82.446800  1.577359e+09  \n",
       "max      61.59400   -70.191600  1.577362e+09  "
      ]
     },
     "execution_count": 7,
     "metadata": {},
     "output_type": "execute_result"
    }
   ],
   "source": [
    "data.describe()"
   ]
  },
  {
   "cell_type": "code",
   "execution_count": 8,
   "id": "ff17357c",
   "metadata": {
    "ExecuteTime": {
     "end_time": "2024-04-19T16:00:59.386080Z",
     "start_time": "2024-04-19T16:00:59.357141Z"
    },
    "scrolled": true
   },
   "outputs": [
    {
     "data": {
      "text/html": [
       "<div>\n",
       "<style scoped>\n",
       "    .dataframe tbody tr th:only-of-type {\n",
       "        vertical-align: middle;\n",
       "    }\n",
       "\n",
       "    .dataframe tbody tr th {\n",
       "        vertical-align: top;\n",
       "    }\n",
       "\n",
       "    .dataframe thead th {\n",
       "        text-align: right;\n",
       "    }\n",
       "</style>\n",
       "<table border=\"1\" class=\"dataframe\">\n",
       "  <thead>\n",
       "    <tr style=\"text-align: right;\">\n",
       "      <th></th>\n",
       "      <th>id</th>\n",
       "      <th>category</th>\n",
       "      <th>title</th>\n",
       "      <th>body</th>\n",
       "      <th>amenities</th>\n",
       "      <th>bathrooms</th>\n",
       "      <th>bedrooms</th>\n",
       "      <th>currency</th>\n",
       "      <th>fee</th>\n",
       "      <th>has_photo</th>\n",
       "      <th>...</th>\n",
       "      <th>price_display</th>\n",
       "      <th>price_type</th>\n",
       "      <th>square_feet</th>\n",
       "      <th>address</th>\n",
       "      <th>cityname</th>\n",
       "      <th>state</th>\n",
       "      <th>latitude</th>\n",
       "      <th>longitude</th>\n",
       "      <th>source</th>\n",
       "      <th>time</th>\n",
       "    </tr>\n",
       "  </thead>\n",
       "  <tbody>\n",
       "    <tr>\n",
       "      <th>0</th>\n",
       "      <td>5508832632</td>\n",
       "      <td>housing/rent/apartment</td>\n",
       "      <td>Two BR - $1,194/mo - Apartment - come and see ...</td>\n",
       "      <td>Come experience. in Cary, NC offering recently...</td>\n",
       "      <td>Clubhouse,Fireplace,Gym,Patio/Deck,Playground,...</td>\n",
       "      <td>2.5</td>\n",
       "      <td>2.0</td>\n",
       "      <td>USD</td>\n",
       "      <td>No</td>\n",
       "      <td>Thumbnail</td>\n",
       "      <td>...</td>\n",
       "      <td>$1,194</td>\n",
       "      <td>Monthly</td>\n",
       "      <td>800</td>\n",
       "      <td>NaN</td>\n",
       "      <td>Cary</td>\n",
       "      <td>NC</td>\n",
       "      <td>35.7585</td>\n",
       "      <td>-78.7783</td>\n",
       "      <td>RentDigs.com</td>\n",
       "      <td>1568755960</td>\n",
       "    </tr>\n",
       "    <tr>\n",
       "      <th>1</th>\n",
       "      <td>5664576849</td>\n",
       "      <td>housing/rent/apartment</td>\n",
       "      <td>One BR 640 West Wilson Street</td>\n",
       "      <td>This unit is located at 640 West Wilson Street...</td>\n",
       "      <td>Cable or Satellite,Dishwasher,Elevator,Garbage...</td>\n",
       "      <td>1.0</td>\n",
       "      <td>1.0</td>\n",
       "      <td>USD</td>\n",
       "      <td>No</td>\n",
       "      <td>Thumbnail</td>\n",
       "      <td>...</td>\n",
       "      <td>$1,370</td>\n",
       "      <td>Monthly</td>\n",
       "      <td>795</td>\n",
       "      <td>640 West Wilson St</td>\n",
       "      <td>Madison</td>\n",
       "      <td>WI</td>\n",
       "      <td>43.0724</td>\n",
       "      <td>-89.4003</td>\n",
       "      <td>RentLingo</td>\n",
       "      <td>1577015508</td>\n",
       "    </tr>\n",
       "    <tr>\n",
       "      <th>2</th>\n",
       "      <td>5668619365</td>\n",
       "      <td>housing/rent/apartment</td>\n",
       "      <td>One BR 2777 Sw Archer Rd</td>\n",
       "      <td>This unit is located at 2777 Sw Archer Rd, Gai...</td>\n",
       "      <td>Basketball,Cable or Satellite,Dishwasher,Inter...</td>\n",
       "      <td>1.0</td>\n",
       "      <td>1.0</td>\n",
       "      <td>USD</td>\n",
       "      <td>No</td>\n",
       "      <td>Thumbnail</td>\n",
       "      <td>...</td>\n",
       "      <td>$1,009</td>\n",
       "      <td>Monthly</td>\n",
       "      <td>560</td>\n",
       "      <td>2777 SW Archer Road</td>\n",
       "      <td>Gainesville</td>\n",
       "      <td>FL</td>\n",
       "      <td>29.6533</td>\n",
       "      <td>-82.3656</td>\n",
       "      <td>RentLingo</td>\n",
       "      <td>1577358921</td>\n",
       "    </tr>\n",
       "    <tr>\n",
       "      <th>3</th>\n",
       "      <td>5668632604</td>\n",
       "      <td>housing/rent/apartment</td>\n",
       "      <td>One BR 534-542 Park Avenue</td>\n",
       "      <td>This unit is located at 534-542 Park Avenue, O...</td>\n",
       "      <td>NaN</td>\n",
       "      <td>1.0</td>\n",
       "      <td>1.0</td>\n",
       "      <td>USD</td>\n",
       "      <td>No</td>\n",
       "      <td>Thumbnail</td>\n",
       "      <td>...</td>\n",
       "      <td>$695</td>\n",
       "      <td>Monthly</td>\n",
       "      <td>600</td>\n",
       "      <td>534-542 Park Ave</td>\n",
       "      <td>Omaha</td>\n",
       "      <td>NE</td>\n",
       "      <td>41.2562</td>\n",
       "      <td>-96.0404</td>\n",
       "      <td>RentLingo</td>\n",
       "      <td>1577359849</td>\n",
       "    </tr>\n",
       "    <tr>\n",
       "      <th>4</th>\n",
       "      <td>5668637441</td>\n",
       "      <td>housing/rent/apartment</td>\n",
       "      <td>Three BR 2216 S Palm Grove Ave</td>\n",
       "      <td>This unit is located at 2216 S Palm Grove Ave,...</td>\n",
       "      <td>NaN</td>\n",
       "      <td>3.0</td>\n",
       "      <td>3.0</td>\n",
       "      <td>USD</td>\n",
       "      <td>No</td>\n",
       "      <td>Thumbnail</td>\n",
       "      <td>...</td>\n",
       "      <td>$3,695</td>\n",
       "      <td>Monthly</td>\n",
       "      <td>1600</td>\n",
       "      <td>2216 S Palm Grove Avenue</td>\n",
       "      <td>Los Angeles</td>\n",
       "      <td>CA</td>\n",
       "      <td>34.0372</td>\n",
       "      <td>-118.2972</td>\n",
       "      <td>RentLingo</td>\n",
       "      <td>1577360159</td>\n",
       "    </tr>\n",
       "  </tbody>\n",
       "</table>\n",
       "<p>5 rows × 22 columns</p>\n",
       "</div>"
      ],
      "text/plain": [
       "           id                category  \\\n",
       "0  5508832632  housing/rent/apartment   \n",
       "1  5664576849  housing/rent/apartment   \n",
       "2  5668619365  housing/rent/apartment   \n",
       "3  5668632604  housing/rent/apartment   \n",
       "4  5668637441  housing/rent/apartment   \n",
       "\n",
       "                                               title  \\\n",
       "0  Two BR - $1,194/mo - Apartment - come and see ...   \n",
       "1                      One BR 640 West Wilson Street   \n",
       "2                           One BR 2777 Sw Archer Rd   \n",
       "3                         One BR 534-542 Park Avenue   \n",
       "4                     Three BR 2216 S Palm Grove Ave   \n",
       "\n",
       "                                                body  \\\n",
       "0  Come experience. in Cary, NC offering recently...   \n",
       "1  This unit is located at 640 West Wilson Street...   \n",
       "2  This unit is located at 2777 Sw Archer Rd, Gai...   \n",
       "3  This unit is located at 534-542 Park Avenue, O...   \n",
       "4  This unit is located at 2216 S Palm Grove Ave,...   \n",
       "\n",
       "                                           amenities  bathrooms  bedrooms  \\\n",
       "0  Clubhouse,Fireplace,Gym,Patio/Deck,Playground,...        2.5       2.0   \n",
       "1  Cable or Satellite,Dishwasher,Elevator,Garbage...        1.0       1.0   \n",
       "2  Basketball,Cable or Satellite,Dishwasher,Inter...        1.0       1.0   \n",
       "3                                                NaN        1.0       1.0   \n",
       "4                                                NaN        3.0       3.0   \n",
       "\n",
       "  currency fee  has_photo  ... price_display  price_type square_feet  \\\n",
       "0      USD  No  Thumbnail  ...       $1,194      Monthly         800   \n",
       "1      USD  No  Thumbnail  ...       $1,370      Monthly         795   \n",
       "2      USD  No  Thumbnail  ...       $1,009      Monthly         560   \n",
       "3      USD  No  Thumbnail  ...         $695      Monthly         600   \n",
       "4      USD  No  Thumbnail  ...       $3,695      Monthly        1600   \n",
       "\n",
       "                    address     cityname state latitude longitude  \\\n",
       "0                       NaN         Cary    NC  35.7585  -78.7783   \n",
       "1        640 West Wilson St      Madison    WI  43.0724  -89.4003   \n",
       "2       2777 SW Archer Road  Gainesville    FL  29.6533  -82.3656   \n",
       "3          534-542 Park Ave        Omaha    NE  41.2562  -96.0404   \n",
       "4  2216 S Palm Grove Avenue  Los Angeles    CA  34.0372 -118.2972   \n",
       "\n",
       "         source        time  \n",
       "0  RentDigs.com  1568755960  \n",
       "1     RentLingo  1577015508  \n",
       "2     RentLingo  1577358921  \n",
       "3     RentLingo  1577359849  \n",
       "4     RentLingo  1577360159  \n",
       "\n",
       "[5 rows x 22 columns]"
      ]
     },
     "execution_count": 8,
     "metadata": {},
     "output_type": "execute_result"
    }
   ],
   "source": [
    "data.head(5)"
   ]
  },
  {
   "cell_type": "code",
   "execution_count": 9,
   "id": "4db07182",
   "metadata": {
    "ExecuteTime": {
     "end_time": "2024-04-19T16:00:59.478811Z",
     "start_time": "2024-04-19T16:00:59.451323Z"
    },
    "scrolled": false
   },
   "outputs": [
    {
     "name": "stdout",
     "output_type": "stream",
     "text": [
      "<class 'pandas.core.frame.DataFrame'>\n",
      "RangeIndex: 9000 entries, 0 to 8999\n",
      "Data columns (total 22 columns):\n",
      " #   Column         Non-Null Count  Dtype  \n",
      "---  ------         --------------  -----  \n",
      " 0   id             9000 non-null   int64  \n",
      " 1   category       9000 non-null   object \n",
      " 2   title          9000 non-null   object \n",
      " 3   body           9000 non-null   object \n",
      " 4   amenities      5815 non-null   object \n",
      " 5   bathrooms      8970 non-null   float64\n",
      " 6   bedrooms       8993 non-null   float64\n",
      " 7   currency       9000 non-null   object \n",
      " 8   fee            9000 non-null   object \n",
      " 9   has_photo      9000 non-null   object \n",
      " 10  pets_allowed   5249 non-null   object \n",
      " 11  price          9000 non-null   int64  \n",
      " 12  price_display  9000 non-null   object \n",
      " 13  price_type     9000 non-null   object \n",
      " 14  square_feet    9000 non-null   int64  \n",
      " 15  address        6029 non-null   object \n",
      " 16  cityname       8934 non-null   object \n",
      " 17  state          8934 non-null   object \n",
      " 18  latitude       8993 non-null   float64\n",
      " 19  longitude      8993 non-null   float64\n",
      " 20  source         9000 non-null   object \n",
      " 21  time           9000 non-null   int64  \n",
      "dtypes: float64(4), int64(4), object(14)\n",
      "memory usage: 1.5+ MB\n"
     ]
    }
   ],
   "source": [
    "df.info()"
   ]
  },
  {
   "cell_type": "code",
   "execution_count": 10,
   "id": "60cb246b",
   "metadata": {
    "ExecuteTime": {
     "end_time": "2024-04-19T16:00:59.604757Z",
     "start_time": "2024-04-19T16:00:59.590202Z"
    }
   },
   "outputs": [
    {
     "data": {
      "text/plain": [
       "['category', 'currency', 'fee', 'has_photo', 'pets_allowed', 'price_type']"
      ]
     },
     "execution_count": 10,
     "metadata": {},
     "output_type": "execute_result"
    }
   ],
   "source": [
    "object_columns_lt5"
   ]
  },
  {
   "cell_type": "markdown",
   "id": "4af19837",
   "metadata": {},
   "source": [
    "## Null values"
   ]
  },
  {
   "cell_type": "code",
   "execution_count": 11,
   "id": "7110634a",
   "metadata": {
    "ExecuteTime": {
     "end_time": "2024-04-19T16:00:59.762055Z",
     "start_time": "2024-04-19T16:00:59.736442Z"
    },
    "scrolled": true
   },
   "outputs": [
    {
     "data": {
      "text/plain": [
       "id                  0\n",
       "category            0\n",
       "title               0\n",
       "body                0\n",
       "amenities        3185\n",
       "bathrooms          30\n",
       "bedrooms            7\n",
       "currency            0\n",
       "fee                 0\n",
       "has_photo           0\n",
       "pets_allowed     3751\n",
       "price               0\n",
       "price_display       0\n",
       "price_type          0\n",
       "square_feet         0\n",
       "address          2971\n",
       "cityname           66\n",
       "state              66\n",
       "latitude            7\n",
       "longitude           7\n",
       "source              0\n",
       "time                0\n",
       "dtype: int64"
      ]
     },
     "execution_count": 11,
     "metadata": {},
     "output_type": "execute_result"
    }
   ],
   "source": [
    "df.isna().sum()"
   ]
  },
  {
   "cell_type": "code",
   "execution_count": 12,
   "id": "4f89f0be",
   "metadata": {
    "ExecuteTime": {
     "end_time": "2024-04-19T16:00:59.980575Z",
     "start_time": "2024-04-19T16:00:59.964868Z"
    }
   },
   "outputs": [],
   "source": [
    "object_columns_na = (\"amenities\",\"pets_allowed\",\"address\",\"cityname\",\"state\",\"price_type\")"
   ]
  },
  {
   "cell_type": "code",
   "execution_count": 13,
   "id": "88f67a28",
   "metadata": {
    "ExecuteTime": {
     "end_time": "2024-04-19T16:01:00.042686Z",
     "start_time": "2024-04-19T16:01:00.016299Z"
    }
   },
   "outputs": [
    {
     "name": "stdout",
     "output_type": "stream",
     "text": [
      "=================================\n",
      "amenities\n",
      "Parking                                                                                                         212\n",
      "Dishwasher,Refrigerator                                                                                         200\n",
      "Pool                                                                                                            148\n",
      "Dishwasher,Parking,Pool                                                                                         134\n",
      "Dishwasher                                                                                                      133\n",
      "                                                                                                               ... \n",
      "Dishwasher,Garbage Disposal,Gated,Hot Tub,Parking,Patio/Deck,Pool,Refrigerator,Storage                            1\n",
      "Cable or Satellite,Dishwasher,Fireplace,Internet Access,Parking,Patio/Deck,Pool,Refrigerator,Storage              1\n",
      "AC,Basketball,Cable or Satellite,Dishwasher,Gym,Parking,Patio/Deck,Playground,Pool,Refrigerator,Washer Dryer      1\n",
      "AC,Basketball,Cable or Satellite,Clubhouse,Elevator,Fireplace,Gated,Gym,Parking,Pool,Storage,Washer Dryer         1\n",
      "Dishwasher,Fireplace,Parking,Pool,Refrigerator,Storage                                                            1\n",
      "Name: amenities, Length: 2093, dtype: int64\n",
      "=================================\n",
      "pets_allowed\n",
      "Cats,Dogs    4702\n",
      "Cats          433\n",
      "Dogs          114\n",
      "Name: pets_allowed, dtype: int64\n",
      "=================================\n",
      "address\n",
      "500 Sleepy Hollow Rd           3\n",
      "908 8th SW St                  3\n",
      "7098 Fernwood St               2\n",
      "2571 Lake Worth Road           2\n",
      "#4 Pahrump Valley Boulevard    2\n",
      "                              ..\n",
      "8 South 8th St                 1\n",
      "277-279 Columbus Ave           1\n",
      "9860 Fairfax Square            1\n",
      "5700 S Blackstone Avenue       1\n",
      "5505 Zelzah Ave                1\n",
      "Name: address, Length: 6016, dtype: int64\n",
      "=================================\n",
      "cityname\n",
      "Austin         482\n",
      "Dallas         194\n",
      "Houston        173\n",
      "San Antonio    169\n",
      "Los Angeles    151\n",
      "              ... \n",
      "Santa Ana        1\n",
      "Coppell          1\n",
      "Fernley          1\n",
      "Chubbuck         1\n",
      "Camas            1\n",
      "Name: cityname, Length: 1497, dtype: int64\n",
      "=================================\n",
      "state\n",
      "TX    1588\n",
      "CA     863\n",
      "WA     471\n",
      "NC     400\n",
      "MD     373\n",
      "NJ     341\n",
      "GA     332\n",
      "FL     297\n",
      "CO     292\n",
      "OH     284\n",
      "WI     264\n",
      "IL     262\n",
      "IN     216\n",
      "MO     215\n",
      "MN     201\n",
      "OR     184\n",
      "VA     182\n",
      "IA     163\n",
      "MI     162\n",
      "PA     161\n",
      "OK     154\n",
      "MA     138\n",
      "AZ     115\n",
      "NV     108\n",
      "ND      97\n",
      "CT      89\n",
      "NE      89\n",
      "TN      86\n",
      "KS      76\n",
      "UT      74\n",
      "DC      71\n",
      "SC      71\n",
      "NY      63\n",
      "NH      61\n",
      "LA      61\n",
      "SD      59\n",
      "AR      54\n",
      "AL      52\n",
      "AK      42\n",
      "KY      40\n",
      "ID      16\n",
      "VT      14\n",
      "HI      11\n",
      "RI      10\n",
      "NM       9\n",
      "MS       7\n",
      "MT       7\n",
      "DE       5\n",
      "WV       3\n",
      "WY       1\n",
      "Name: state, dtype: int64\n",
      "=================================\n",
      "price_type\n",
      "Monthly           8998\n",
      "Weekly               1\n",
      "Monthly|Weekly       1\n",
      "Name: price_type, dtype: int64\n"
     ]
    }
   ],
   "source": [
    "for i in object_columns_na:\n",
    "    print(\"=================================\")\n",
    "    print(i)\n",
    "    print(df[i].value_counts())"
   ]
  },
  {
   "cell_type": "code",
   "execution_count": 14,
   "id": "7ba5e786",
   "metadata": {
    "ExecuteTime": {
     "end_time": "2024-04-19T16:01:00.104626Z",
     "start_time": "2024-04-19T16:01:00.088875Z"
    }
   },
   "outputs": [],
   "source": [
    "#unknown city can be predicted from state but now for simplicity will be replaced with mode \n",
    "\n",
    "from statistics import mode\n",
    "df[\"amenities\"].fillna(\"Parking\", inplace=True)\n",
    "df[\"pets_allowed\"].fillna(mode(df[\"pets_allowed\"]), inplace=True)\n",
    "df[\"cityname\"].fillna(mode(df[\"cityname\"]), inplace=True)\n",
    "df[\"state\"].fillna(mode(df[\"state\"]), inplace=True)\n"
   ]
  },
  {
   "cell_type": "code",
   "execution_count": 15,
   "id": "78af0a14",
   "metadata": {
    "ExecuteTime": {
     "end_time": "2024-04-19T16:01:00.184283Z",
     "start_time": "2024-04-19T16:01:00.176809Z"
    }
   },
   "outputs": [],
   "source": [
    "import re\n",
    "def extract_road_name(address):\n",
    "    \n",
    "    pattern = r'\\d*\\s+([\\w\\s]+)\\s+\\w+$'\n",
    "    match = re.search(pattern, address)\n",
    "    \n",
    "    if match:\n",
    "        road_name = match.group(1)\n",
    "        return road_name\n",
    "    else:\n",
    "        \n",
    "        return None"
   ]
  },
  {
   "cell_type": "code",
   "execution_count": 16,
   "id": "89d313ff",
   "metadata": {
    "ExecuteTime": {
     "end_time": "2024-04-19T16:01:00.309454Z",
     "start_time": "2024-04-19T16:01:00.287420Z"
    }
   },
   "outputs": [],
   "source": [
    "df[\"address\"] = df[\"address\"].apply(lambda x: extract_road_name(x) if pd.notnull(x) else x)"
   ]
  },
  {
   "cell_type": "code",
   "execution_count": 17,
   "id": "f8a0f92a",
   "metadata": {
    "ExecuteTime": {
     "end_time": "2024-04-19T16:01:00.340652Z",
     "start_time": "2024-04-19T16:01:00.332649Z"
    }
   },
   "outputs": [],
   "source": [
    "df[\"address\"].fillna(method='ffill', inplace=True)\n"
   ]
  },
  {
   "cell_type": "code",
   "execution_count": 18,
   "id": "ada8a3ad",
   "metadata": {
    "ExecuteTime": {
     "end_time": "2024-04-19T16:01:00.402954Z",
     "start_time": "2024-04-19T16:01:00.382413Z"
    }
   },
   "outputs": [
    {
     "data": {
      "text/plain": [
       "E                 89\n",
       "W                 69\n",
       "S                 53\n",
       "N                 52\n",
       "West              40\n",
       "                  ..\n",
       "N Blair            1\n",
       "Briarthorne        1\n",
       "River Crossing     1\n",
       "Wickslow           1\n",
       "Zelzah             1\n",
       "Name: address, Length: 4304, dtype: int64"
      ]
     },
     "execution_count": 18,
     "metadata": {},
     "output_type": "execute_result"
    }
   ],
   "source": [
    "df[\"address\"].value_counts()"
   ]
  },
  {
   "cell_type": "code",
   "execution_count": 19,
   "id": "087cc2ca",
   "metadata": {
    "ExecuteTime": {
     "end_time": "2024-04-19T16:01:00.495563Z",
     "start_time": "2024-04-19T16:01:00.455970Z"
    }
   },
   "outputs": [
    {
     "name": "stdout",
     "output_type": "stream",
     "text": [
      "<class 'pandas.core.frame.DataFrame'>\n",
      "RangeIndex: 9000 entries, 0 to 8999\n",
      "Data columns (total 22 columns):\n",
      " #   Column         Non-Null Count  Dtype  \n",
      "---  ------         --------------  -----  \n",
      " 0   id             9000 non-null   int64  \n",
      " 1   category       9000 non-null   object \n",
      " 2   title          9000 non-null   object \n",
      " 3   body           9000 non-null   object \n",
      " 4   amenities      9000 non-null   object \n",
      " 5   bathrooms      8970 non-null   float64\n",
      " 6   bedrooms       8993 non-null   float64\n",
      " 7   currency       9000 non-null   object \n",
      " 8   fee            9000 non-null   object \n",
      " 9   has_photo      9000 non-null   object \n",
      " 10  pets_allowed   9000 non-null   object \n",
      " 11  price          9000 non-null   int64  \n",
      " 12  price_display  9000 non-null   object \n",
      " 13  price_type     9000 non-null   object \n",
      " 14  square_feet    9000 non-null   int64  \n",
      " 15  address        8999 non-null   object \n",
      " 16  cityname       9000 non-null   object \n",
      " 17  state          9000 non-null   object \n",
      " 18  latitude       8993 non-null   float64\n",
      " 19  longitude      8993 non-null   float64\n",
      " 20  source         9000 non-null   object \n",
      " 21  time           9000 non-null   int64  \n",
      "dtypes: float64(4), int64(4), object(14)\n",
      "memory usage: 1.5+ MB\n"
     ]
    }
   ],
   "source": [
    "df.info()"
   ]
  },
  {
   "cell_type": "code",
   "execution_count": 20,
   "id": "bd8b6c0e",
   "metadata": {
    "ExecuteTime": {
     "end_time": "2024-04-19T16:01:00.979251Z",
     "start_time": "2024-04-19T16:01:00.528145Z"
    }
   },
   "outputs": [
    {
     "data": {
      "image/png": "[encoded data removed]",
      "text/plain": [
       "<Figure size 1440x576 with 6 Axes>"
      ]
     },
     "metadata": {
      "needs_background": "light"
     },
     "output_type": "display_data"
    }
   ],
   "source": [
    "\n",
    "#plot columns having ditinct values less than 5 \n",
    "num_rows = 2\n",
    "num_cols = 3\n",
    "fig, axs = plt.subplots(num_rows, num_cols, figsize=(20, 8))\n",
    "\n",
    "axs = axs.flatten()\n",
    "for i, column in enumerate(object_columns_lt5):\n",
    "    row = i // num_cols\n",
    "    col = i % num_cols\n",
    "    axs[i].bar(df[column].unique(), df[column].value_counts())  # Plotting as a bar plot\n",
    "    axs[i].set_title(column)\n",
    "plt.tight_layout()\n",
    "plt.show()\n"
   ]
  },
  {
   "cell_type": "markdown",
   "id": "8c77bec4",
   "metadata": {},
   "source": [
    "### fee,currency have one value should be dropped\n",
    "### price type same has only one weekly and one monthly better drop it \n",
    "### may trying to combine Has_photos columns(thumbnail,yes) test on the model \n"
   ]
  },
  {
   "cell_type": "code",
   "execution_count": 21,
   "id": "d9772f78",
   "metadata": {
    "ExecuteTime": {
     "end_time": "2024-04-19T16:01:01.245485Z",
     "start_time": "2024-04-19T16:01:00.980751Z"
    }
   },
   "outputs": [
    {
     "data": {
      "image/png": "[encoded data removed]",
      "text/plain": [
       "<Figure size 1440x1440 with 1 Axes>"
      ]
     },
     "metadata": {
      "needs_background": "light"
     },
     "output_type": "display_data"
    }
   ],
   "source": [
    "plt.figure(figsize=(20,20))\n",
    "for column in object_columns_bt5_lt30:\n",
    "    plt.bar(df[column].unique(), df[column].value_counts())  \n",
    "    plt.title(column)\n",
    "plt.tight_layout()\n",
    "plt.show()"
   ]
  },
  {
   "cell_type": "markdown",
   "id": "38dd84c2",
   "metadata": {},
   "source": []
  },
  {
   "cell_type": "code",
   "execution_count": 22,
   "id": "ddf3b231",
   "metadata": {
    "ExecuteTime": {
     "end_time": "2024-04-19T16:01:01.275750Z",
     "start_time": "2024-04-19T16:01:01.246476Z"
    },
    "scrolled": true
   },
   "outputs": [
    {
     "name": "stdout",
     "output_type": "stream",
     "text": [
      "<class 'pandas.core.frame.DataFrame'>\n",
      "RangeIndex: 9000 entries, 0 to 8999\n",
      "Data columns (total 22 columns):\n",
      " #   Column         Non-Null Count  Dtype  \n",
      "---  ------         --------------  -----  \n",
      " 0   id             9000 non-null   int64  \n",
      " 1   category       9000 non-null   object \n",
      " 2   title          9000 non-null   object \n",
      " 3   body           9000 non-null   object \n",
      " 4   amenities      9000 non-null   object \n",
      " 5   bathrooms      8970 non-null   float64\n",
      " 6   bedrooms       8993 non-null   float64\n",
      " 7   currency       9000 non-null   object \n",
      " 8   fee            9000 non-null   object \n",
      " 9   has_photo      9000 non-null   object \n",
      " 10  pets_allowed   9000 non-null   object \n",
      " 11  price          9000 non-null   int64  \n",
      " 12  price_display  9000 non-null   object \n",
      " 13  price_type     9000 non-null   object \n",
      " 14  square_feet    9000 non-null   int64  \n",
      " 15  address        8999 non-null   object \n",
      " 16  cityname       9000 non-null   object \n",
      " 17  state          9000 non-null   object \n",
      " 18  latitude       8993 non-null   float64\n",
      " 19  longitude      8993 non-null   float64\n",
      " 20  source         9000 non-null   object \n",
      " 21  time           9000 non-null   int64  \n",
      "dtypes: float64(4), int64(4), object(14)\n",
      "memory usage: 1.5+ MB\n"
     ]
    }
   ],
   "source": [
    "df.info()"
   ]
  },
  {
   "cell_type": "code",
   "execution_count": 23,
   "id": "86ef0183",
   "metadata": {
    "ExecuteTime": {
     "end_time": "2024-04-19T16:01:01.291858Z",
     "start_time": "2024-04-19T16:01:01.277744Z"
    }
   },
   "outputs": [
    {
     "data": {
      "text/plain": [
       "count     9000.000000\n",
       "mean      1487.286222\n",
       "std       1088.561190\n",
       "min        200.000000\n",
       "25%        950.000000\n",
       "50%       1275.000000\n",
       "75%       1695.000000\n",
       "max      52500.000000\n",
       "Name: price, dtype: float64"
      ]
     },
     "execution_count": 23,
     "metadata": {},
     "output_type": "execute_result"
    }
   ],
   "source": [
    "df[\"price\"].describe()"
   ]
  },
  {
   "cell_type": "markdown",
   "id": "6e518525",
   "metadata": {},
   "source": [
    "#### adding  a price category column to visulize the relation between category columns and the target column"
   ]
  },
  {
   "cell_type": "code",
   "execution_count": 24,
   "id": "5155f66c",
   "metadata": {
    "ExecuteTime": {
     "end_time": "2024-04-19T16:01:01.307382Z",
     "start_time": "2024-04-19T16:01:01.292857Z"
    }
   },
   "outputs": [],
   "source": [
    "\n",
    "bins = [0, 950.000000, 1695.000000 , float('inf')]\n",
    "labels = ['Low', 'Mid', 'High']\n",
    "\n",
    "df['price_category'] = pd.cut(df['price'], bins=bins, labels=labels, right=False)\n"
   ]
  },
  {
   "cell_type": "code",
   "execution_count": 25,
   "id": "608cd5e9",
   "metadata": {
    "ExecuteTime": {
     "end_time": "2024-04-19T16:01:01.322414Z",
     "start_time": "2024-04-19T16:01:01.309376Z"
    }
   },
   "outputs": [
    {
     "data": {
      "text/plain": [
       "Mid     4469\n",
       "High    2288\n",
       "Low     2243\n",
       "Name: price_category, dtype: int64"
      ]
     },
     "execution_count": 25,
     "metadata": {},
     "output_type": "execute_result"
    }
   ],
   "source": [
    "df[\"price_category\"].value_counts()"
   ]
  },
  {
   "cell_type": "code",
   "execution_count": 26,
   "id": "0573e875",
   "metadata": {
    "ExecuteTime": {
     "end_time": "2024-04-19T16:01:01.554798Z",
     "start_time": "2024-04-19T16:01:01.323417Z"
    },
    "scrolled": false
   },
   "outputs": [
    {
     "data": {
      "text/plain": [
       "<AxesSubplot:xlabel='source'>"
      ]
     },
     "execution_count": 26,
     "metadata": {},
     "output_type": "execute_result"
    },
    {
     "data": {
      "image/png": "[encoded data removed]",
      "text/plain": [
       "<Figure size 1440x720 with 1 Axes>"
      ]
     },
     "metadata": {
      "needs_background": "light"
     },
     "output_type": "display_data"
    }
   ],
   "source": [
    "\n",
    "CrosstabResult=pd.crosstab(index=df[\"source\"],columns=df['price_category'])\n",
    " \n",
    "CrosstabResult.plot.bar(figsize=(20,10), rot=0)"
   ]
  },
  {
   "cell_type": "markdown",
   "id": "045e55a7",
   "metadata": {},
   "source": [
    "##### renting from rentlingo privide  a chance of a low price digs is the opposite "
   ]
  },
  {
   "cell_type": "code",
   "execution_count": 27,
   "id": "36ce6399",
   "metadata": {
    "ExecuteTime": {
     "end_time": "2024-04-19T16:01:02.403231Z",
     "start_time": "2024-04-19T16:01:01.555796Z"
    }
   },
   "outputs": [
    {
     "data": {
      "image/png": "[encoded data removed]",
      "text/plain": [
       "<Figure size 1440x720 with 6 Axes>"
      ]
     },
     "metadata": {
      "needs_background": "light"
     },
     "output_type": "display_data"
    }
   ],
   "source": [
    "\n",
    "num_rows = 2\n",
    "num_cols = 3\n",
    "fig, axs = plt.subplots(num_rows, num_cols, figsize=(20, 10))\n",
    "\n",
    "axs = axs.flatten()\n",
    "for i, column in enumerate(object_columns_lt5):\n",
    "    row = i // num_cols\n",
    "    col = i % num_cols\n",
    "    CrosstabResult = pd.crosstab(index=df[column], columns=df['price_category'])\n",
    "    CrosstabResult.plot(kind='bar', ax=axs[i], stacked=True)  # Plotting crosstab as a bar plot\n",
    "    axs[i].set_title(column)\n",
    "    axs[i].set_xlabel(column)\n",
    "    axs[i].set_ylabel('Frequency')\n",
    "\n",
    "plt.tight_layout()\n",
    "plt.show()\n"
   ]
  },
  {
   "cell_type": "markdown",
   "id": "ea1abc59",
   "metadata": {},
   "source": [
    "#### it doesn't seem we have a dominant feature here "
   ]
  },
  {
   "cell_type": "code",
   "execution_count": 28,
   "id": "2ab73de3",
   "metadata": {
    "ExecuteTime": {
     "end_time": "2024-04-19T16:01:03.261697Z",
     "start_time": "2024-04-19T16:01:02.404223Z"
    }
   },
   "outputs": [
    {
     "data": {
      "text/plain": [
       "<AxesSubplot:xlabel='state'>"
      ]
     },
     "execution_count": 28,
     "metadata": {},
     "output_type": "execute_result"
    },
    {
     "data": {
      "image/png": "[encoded data removed]",
      "text/plain": [
       "<Figure size 1440x720 with 1 Axes>"
      ]
     },
     "metadata": {
      "needs_background": "light"
     },
     "output_type": "display_data"
    }
   ],
   "source": [
    "\n",
    "CrosstabResult=pd.crosstab(index=df[\"state\"],columns=df['price_category'])\n",
    " \n",
    "CrosstabResult.plot.bar(figsize=(20,10), rot=0)"
   ]
  },
  {
   "cell_type": "markdown",
   "id": "8ad58769",
   "metadata": {},
   "source": [
    "#### most of the data divided betweeb  tx and ca may be adding city to state column generate a more diverse column \n",
    "#### being in Ca&NJ is a high price\n",
    "#### being in IA&IN is a low price "
   ]
  },
  {
   "cell_type": "code",
   "execution_count": 29,
   "id": "e10f1efa",
   "metadata": {
    "ExecuteTime": {
     "end_time": "2024-04-19T16:01:03.277287Z",
     "start_time": "2024-04-19T16:01:03.264697Z"
    }
   },
   "outputs": [],
   "source": [
    "df[\"citypstate\"]=df[\"cityname\"]+df[\"state\"]"
   ]
  },
  {
   "cell_type": "code",
   "execution_count": 30,
   "id": "8f2d179d",
   "metadata": {
    "ExecuteTime": {
     "end_time": "2024-04-19T16:01:03.526400Z",
     "start_time": "2024-04-19T16:01:03.278287Z"
    }
   },
   "outputs": [
    {
     "data": {
      "image/png": "[encoded data removed]",
      "text/plain": [
       "<Figure size 1440x720 with 1 Axes>"
      ]
     },
     "metadata": {
      "needs_background": "light"
     },
     "output_type": "display_data"
    }
   ],
   "source": [
    "import pandas as pd\n",
    "import matplotlib.pyplot as plt\n",
    "\n",
    "citystate_counts = df['citypstate'].value_counts()\n",
    "filtered_citystates = citystate_counts[citystate_counts > 100].index\n",
    "filtered_df = df[df['citypstate'].isin(filtered_citystates)]\n",
    "CrosstabResult = pd.crosstab(index=filtered_df['citypstate'], columns=df['price_category'])\n",
    "CrosstabResult.plot.bar(figsize=(20, 10), rot=0)\n",
    "plt.title('Crosstab of Price Category by City State (Freq > 100)')\n",
    "plt.xlabel('City State')\n",
    "plt.ylabel('Frequency')\n",
    "plt.show()\n"
   ]
  },
  {
   "cell_type": "markdown",
   "id": "b57268e7",
   "metadata": {},
   "source": [
    "#### losAngles is the highest  houston tx is the lowest"
   ]
  },
  {
   "cell_type": "code",
   "execution_count": 31,
   "id": "ef8f6874",
   "metadata": {
    "ExecuteTime": {
     "end_time": "2024-04-19T16:01:03.542425Z",
     "start_time": "2024-04-19T16:01:03.527392Z"
    }
   },
   "outputs": [
    {
     "data": {
      "text/plain": [
       "AustinTX          548\n",
       "DallasTX          180\n",
       "HoustonTX         173\n",
       "San AntonioTX     169\n",
       "Los AngelesCA     151\n",
       "                 ... \n",
       "WestchaseFL         1\n",
       "O FallonMO          1\n",
       "SanfordFL           1\n",
       "CollingswoodNJ      1\n",
       "CamasWA             1\n",
       "Name: citypstate, Length: 1679, dtype: int64"
      ]
     },
     "execution_count": 31,
     "metadata": {},
     "output_type": "execute_result"
    }
   ],
   "source": [
    "df[\"citypstate\"].value_counts()\n"
   ]
  },
  {
   "cell_type": "markdown",
   "id": "7d5631ae",
   "metadata": {},
   "source": [
    "### finding a good representation for title,body,amienetes\n",
    "\n"
   ]
  },
  {
   "cell_type": "code",
   "execution_count": 32,
   "id": "5158b82b",
   "metadata": {
    "ExecuteTime": {
     "end_time": "2024-04-19T16:01:03.620766Z",
     "start_time": "2024-04-19T16:01:03.574498Z"
    }
   },
   "outputs": [],
   "source": [
    "df[\"body_count\"]=df[\"body\"].apply(lambda x : len(str(x).replace(\" \", \"\")))\n",
    "df[\"title_count\"]=df[\"title\"].apply(lambda x : len(str(x).replace(\" \", \"\")))\n"
   ]
  },
  {
   "cell_type": "code",
   "execution_count": 33,
   "id": "36bda7f0",
   "metadata": {
    "ExecuteTime": {
     "end_time": "2024-04-19T16:01:03.854693Z",
     "start_time": "2024-04-19T16:01:03.621670Z"
    },
    "scrolled": false
   },
   "outputs": [
    {
     "data": {
      "image/png": "[encoded data removed]",
      "text/plain": [
       "<Figure size 720x360 with 2 Axes>"
      ]
     },
     "metadata": {
      "needs_background": "light"
     },
     "output_type": "display_data"
    }
   ],
   "source": [
    "fig, (ax1, ax2) = plt.subplots(1, 2, figsize=(10, 5))\n",
    "\n",
    "ax1.hist(df['title_count'])\n",
    "ax1.set_title('Tilte Count Histogram')\n",
    "\n",
    "ax2.hist(df['body_count'])\n",
    "ax2.set_title('body Count Histogram')\n",
    "\n",
    "plt.show()"
   ]
  },
  {
   "cell_type": "markdown",
   "id": "98c23b1d",
   "metadata": {},
   "source": [
    "#### dealing with the body_count it seems that the bins 300,650( note those are not a bins for a normal distibution)\n",
    "#### dealing with the title_count it seems that the bins 18,48( note those are not a bins for a normal distibution)"
   ]
  },
  {
   "cell_type": "code",
   "execution_count": 34,
   "id": "b8a6b49b",
   "metadata": {
    "ExecuteTime": {
     "end_time": "2024-04-19T16:01:03.870204Z",
     "start_time": "2024-04-19T16:01:03.856695Z"
    }
   },
   "outputs": [],
   "source": [
    "\n",
    "bins1 = [0, 300, 750, float('inf')]\n",
    "labels = ['sm', 'av', 'High']\n",
    "bins2= [0, 18, 48, float('inf')]\n",
    "body_count_category = pd.cut(df['body_count'], bins=bins1, labels=labels, right=False)\n",
    "title_count_category = pd.cut(df['title_count'], bins=bins2, labels=labels, right=False)"
   ]
  },
  {
   "cell_type": "code",
   "execution_count": 35,
   "id": "e3228d93",
   "metadata": {
    "ExecuteTime": {
     "end_time": "2024-04-19T16:01:03.886249Z",
     "start_time": "2024-04-19T16:01:03.871717Z"
    }
   },
   "outputs": [
    {
     "data": {
      "text/plain": [
       "av      7488\n",
       "sm       990\n",
       "High     522\n",
       "Name: title_count, dtype: int64"
      ]
     },
     "execution_count": 35,
     "metadata": {},
     "output_type": "execute_result"
    }
   ],
   "source": [
    "title_count_category.value_counts()"
   ]
  },
  {
   "cell_type": "code",
   "execution_count": 36,
   "id": "10edb698",
   "metadata": {
    "ExecuteTime": {
     "end_time": "2024-04-19T16:01:04.261284Z",
     "start_time": "2024-04-19T16:01:03.887239Z"
    },
    "scrolled": true
   },
   "outputs": [
    {
     "data": {
      "text/plain": [
       "<AxesSubplot:xlabel='title_count'>"
      ]
     },
     "execution_count": 36,
     "metadata": {},
     "output_type": "execute_result"
    },
    {
     "data": {
      "image/png": "[encoded data removed]",
      "text/plain": [
       "<Figure size 1440x720 with 1 Axes>"
      ]
     },
     "metadata": {
      "needs_background": "light"
     },
     "output_type": "display_data"
    },
    {
     "data": {
      "image/png": "[encoded data removed]",
      "text/plain": [
       "<Figure size 1440x720 with 1 Axes>"
      ]
     },
     "metadata": {
      "needs_background": "light"
     },
     "output_type": "display_data"
    }
   ],
   "source": [
    "\n",
    "CrosstabResult=pd.crosstab(index=body_count_category,columns=df['price_category'])\n",
    " \n",
    "CrosstabResult.plot.bar(figsize=(20,10), rot=0)\n",
    "\n",
    "CrosstabResult=pd.crosstab(index=title_count_category,columns=df['price_category'])\n",
    " \n",
    "CrosstabResult.plot.bar(figsize=(20,10), rot=0)"
   ]
  },
  {
   "cell_type": "markdown",
   "id": "26d7b225",
   "metadata": {},
   "source": [
    "#### a bigger title means a chance of it being more expensive \n",
    "#### a smaller title  means a chance of it being less expensive\n",
    "#### replacing title,body with title_count,body_count"
   ]
  },
  {
   "cell_type": "code",
   "execution_count": 37,
   "id": "404e27cc",
   "metadata": {
    "ExecuteTime": {
     "end_time": "2024-04-19T16:01:04.292879Z",
     "start_time": "2024-04-19T16:01:04.263282Z"
    }
   },
   "outputs": [
    {
     "name": "stdout",
     "output_type": "stream",
     "text": [
      "<class 'pandas.core.frame.DataFrame'>\n",
      "RangeIndex: 9000 entries, 0 to 8999\n",
      "Data columns (total 26 columns):\n",
      " #   Column          Non-Null Count  Dtype   \n",
      "---  ------          --------------  -----   \n",
      " 0   id              9000 non-null   int64   \n",
      " 1   category        9000 non-null   object  \n",
      " 2   title           9000 non-null   object  \n",
      " 3   body            9000 non-null   object  \n",
      " 4   amenities       9000 non-null   object  \n",
      " 5   bathrooms       8970 non-null   float64 \n",
      " 6   bedrooms        8993 non-null   float64 \n",
      " 7   currency        9000 non-null   object  \n",
      " 8   fee             9000 non-null   object  \n",
      " 9   has_photo       9000 non-null   object  \n",
      " 10  pets_allowed    9000 non-null   object  \n",
      " 11  price           9000 non-null   int64   \n",
      " 12  price_display   9000 non-null   object  \n",
      " 13  price_type      9000 non-null   object  \n",
      " 14  square_feet     9000 non-null   int64   \n",
      " 15  address         8999 non-null   object  \n",
      " 16  cityname        9000 non-null   object  \n",
      " 17  state           9000 non-null   object  \n",
      " 18  latitude        8993 non-null   float64 \n",
      " 19  longitude       8993 non-null   float64 \n",
      " 20  source          9000 non-null   object  \n",
      " 21  time            9000 non-null   int64   \n",
      " 22  price_category  9000 non-null   category\n",
      " 23  citypstate      9000 non-null   object  \n",
      " 24  body_count      9000 non-null   int64   \n",
      " 25  title_count     9000 non-null   int64   \n",
      "dtypes: category(1), float64(4), int64(6), object(15)\n",
      "memory usage: 1.7+ MB\n"
     ]
    }
   ],
   "source": [
    "df.info()"
   ]
  },
  {
   "cell_type": "code",
   "execution_count": 38,
   "id": "8d7954f2",
   "metadata": {
    "ExecuteTime": {
     "end_time": "2024-04-19T16:01:04.308393Z",
     "start_time": "2024-04-19T16:01:04.294872Z"
    }
   },
   "outputs": [
    {
     "data": {
      "text/plain": [
       "E                 89\n",
       "W                 69\n",
       "S                 53\n",
       "N                 52\n",
       "West              40\n",
       "                  ..\n",
       "N Blair            1\n",
       "Briarthorne        1\n",
       "River Crossing     1\n",
       "Wickslow           1\n",
       "Zelzah             1\n",
       "Name: address, Length: 4304, dtype: int64"
      ]
     },
     "execution_count": 38,
     "metadata": {},
     "output_type": "execute_result"
    }
   ],
   "source": [
    "df[\"address\"].value_counts()"
   ]
  },
  {
   "cell_type": "markdown",
   "id": "cc3d1e6f",
   "metadata": {},
   "source": [
    "### replacing amenities with num of ocuurence of the most freq words "
   ]
  },
  {
   "cell_type": "code",
   "execution_count": 39,
   "id": "ac336756",
   "metadata": {
    "ExecuteTime": {
     "end_time": "2024-04-19T16:01:04.323096Z",
     "start_time": "2024-04-19T16:01:04.310384Z"
    }
   },
   "outputs": [],
   "source": [
    "from collections import Counter\n",
    "words = ' '.join(df['amenities']).split(',')\n",
    "word_counts = Counter(words)\n",
    "top_15_words = [word for word, _ in word_counts.most_common(20)]"
   ]
  },
  {
   "cell_type": "markdown",
   "id": "2fea3643",
   "metadata": {},
   "source": [
    "#### a higher number means more services"
   ]
  },
  {
   "cell_type": "code",
   "execution_count": 40,
   "id": "68f4ff3d",
   "metadata": {
    "ExecuteTime": {
     "end_time": "2024-04-19T16:01:04.724151Z",
     "start_time": "2024-04-19T16:01:04.340630Z"
    }
   },
   "outputs": [],
   "source": [
    "for i, row in df.iterrows():\n",
    "    text = row['amenities']\n",
    "    found = False  # Initialize found flag for each row\n",
    "    a = 0\n",
    "    for word in top_15_words:\n",
    "        if word in text:\n",
    "            found = True\n",
    "            text = text.replace(word, str(top_15_words.index(word) + 1))\n",
    "            a = a+1\n",
    "    \n",
    "    text  = str(a)\n",
    "    if not found:\n",
    "        text = str(0)\n",
    "        \n",
    "    df.at[i, 'amenities'] = text\n"
   ]
  },
  {
   "cell_type": "code",
   "execution_count": 41,
   "id": "7db17479",
   "metadata": {
    "ExecuteTime": {
     "end_time": "2024-04-19T16:01:04.739665Z",
     "start_time": "2024-04-19T16:01:04.726146Z"
    }
   },
   "outputs": [
    {
     "data": {
      "text/plain": [
       "1     3964\n",
       "3      982\n",
       "2      879\n",
       "4      747\n",
       "5      543\n",
       "6      453\n",
       "7      352\n",
       "8      305\n",
       "9      252\n",
       "10     220\n",
       "11     157\n",
       "12      56\n",
       "13      37\n",
       "0       35\n",
       "14      16\n",
       "16       2\n",
       "Name: amenities, dtype: int64"
      ]
     },
     "execution_count": 41,
     "metadata": {},
     "output_type": "execute_result"
    }
   ],
   "source": [
    "df[\"amenities\"].value_counts()"
   ]
  },
  {
   "cell_type": "code",
   "execution_count": 42,
   "id": "011bac7d",
   "metadata": {
    "ExecuteTime": {
     "end_time": "2024-04-19T16:01:05.007668Z",
     "start_time": "2024-04-19T16:01:04.740656Z"
    }
   },
   "outputs": [
    {
     "data": {
      "text/plain": [
       "<AxesSubplot:xlabel='amenities'>"
      ]
     },
     "execution_count": 42,
     "metadata": {},
     "output_type": "execute_result"
    },
    {
     "data": {
      "image/png": "[encoded data removed]",
      "text/plain": [
       "<Figure size 1440x720 with 1 Axes>"
      ]
     },
     "metadata": {
      "needs_background": "light"
     },
     "output_type": "display_data"
    }
   ],
   "source": [
    "CrosstabResult=pd.crosstab(index=df[\"amenities\"],columns=df['price_category'])\n",
    " \n",
    "CrosstabResult.plot.bar(figsize=(20,10), rot=0)"
   ]
  },
  {
   "cell_type": "code",
   "execution_count": 43,
   "id": "d80f9f6b",
   "metadata": {},
   "outputs": [
    {
     "data": {
      "text/plain": [
       "3084.543046357616"
      ]
     },
     "execution_count": 43,
     "metadata": {},
     "output_type": "execute_result"
    }
   ],
   "source": [
    "a = df.groupby('cityname')['price']\n",
    "a.get_group('Los Angeles').mean()\n"
   ]
  },
  {
   "cell_type": "code",
   "execution_count": 44,
   "id": "714853a6",
   "metadata": {},
   "outputs": [],
   "source": [
    "df['city_offer_what'] = df.groupby('cityname')['price'].transform(lambda x: 'high' if x.mean() > 2000 else ('avg' if x.mean() > 1400 else 'low'))"
   ]
  },
  {
   "cell_type": "code",
   "execution_count": 45,
   "id": "76e4041d",
   "metadata": {},
   "outputs": [
    {
     "data": {
      "text/plain": [
       "low     5408\n",
       "avg     2299\n",
       "high    1293\n",
       "Name: city_offer_what, dtype: int64"
      ]
     },
     "execution_count": 45,
     "metadata": {},
     "output_type": "execute_result"
    }
   ],
   "source": [
    "df['city_offer_what'].value_counts()"
   ]
  },
  {
   "cell_type": "code",
   "execution_count": 46,
   "id": "f937ebc2",
   "metadata": {},
   "outputs": [
    {
     "data": {
      "text/plain": [
       "count     9000.000000\n",
       "mean      1487.286222\n",
       "std       1088.561190\n",
       "min        200.000000\n",
       "25%        950.000000\n",
       "50%       1275.000000\n",
       "75%       1695.000000\n",
       "max      52500.000000\n",
       "Name: price, dtype: float64"
      ]
     },
     "execution_count": 46,
     "metadata": {},
     "output_type": "execute_result"
    }
   ],
   "source": [
    "df[\"price\"].describe()"
   ]
  },
  {
   "cell_type": "code",
   "execution_count": 47,
   "id": "cd7ed53e",
   "metadata": {
    "ExecuteTime": {
     "end_time": "2024-04-19T16:01:05.023239Z",
     "start_time": "2024-04-19T16:01:05.010666Z"
    }
   },
   "outputs": [],
   "source": [
    "price_min = df['price'].min()\n",
    "price_max = df['price'].max()\n",
    "norm_p = (df['price'] - price_min) / (price_max - price_min)"
   ]
  },
  {
   "cell_type": "code",
   "execution_count": 48,
   "id": "34dad08e",
   "metadata": {
    "ExecuteTime": {
     "end_time": "2024-04-19T16:01:05.353341Z",
     "start_time": "2024-04-19T16:01:05.025221Z"
    }
   },
   "outputs": [
    {
     "data": {
      "text/plain": [
       "<AxesSubplot:xlabel='longitude', ylabel='latitude'>"
      ]
     },
     "execution_count": 48,
     "metadata": {},
     "output_type": "execute_result"
    },
    {
     "data": {
      "image/png": "[encoded data removed]",
      "text/plain": [
       "<Figure size 1440x576 with 2 Axes>"
      ]
     },
     "metadata": {
      "needs_background": "light"
     },
     "output_type": "display_data"
    }
   ],
   "source": [
    "df.plot(kind = \"scatter\",x='longitude',y='latitude', s = norm_p*1000,cmap='jet',colorbar=True,c=norm_p\n",
    "       ,figsize=(20,8),sharex=False)"
   ]
  },
  {
   "cell_type": "markdown",
   "id": "8270e33f",
   "metadata": {},
   "source": [
    "### can we create a new column for this area longitude(-123,-114)  latitude(30,38)"
   ]
  },
  {
   "cell_type": "code",
   "execution_count": 49,
   "id": "81460956",
   "metadata": {
    "ExecuteTime": {
     "end_time": "2024-04-19T16:01:05.368854Z",
     "start_time": "2024-04-19T16:01:05.358342Z"
    }
   },
   "outputs": [],
   "source": [
    "def in_area(row):\n",
    "    if (-123 <= row['longitude'] <= -114) and (30 <= row['latitude'] <= 38):\n",
    "        return 1\n",
    "    else:\n",
    "        return 0"
   ]
  },
  {
   "cell_type": "code",
   "execution_count": 50,
   "id": "644018f3",
   "metadata": {
    "ExecuteTime": {
     "end_time": "2024-04-19T16:01:05.447656Z",
     "start_time": "2024-04-19T16:01:05.370364Z"
    }
   },
   "outputs": [],
   "source": [
    "df['in_area'] = df.apply(in_area, axis=1)"
   ]
  },
  {
   "cell_type": "markdown",
   "id": "87d28fb3",
   "metadata": {},
   "source": [
    "####  at 35 , -120 the price increases in this area  dropping this column  will affect the model "
   ]
  },
  {
   "cell_type": "code",
   "execution_count": 51,
   "id": "3fe11125",
   "metadata": {
    "ExecuteTime": {
     "end_time": "2024-04-19T16:01:05.463689Z",
     "start_time": "2024-04-19T16:01:05.449646Z"
    }
   },
   "outputs": [],
   "source": [
    "# trying to use latitude and longitude  \n",
    "df.dropna(subset=[\"latitude\", \"longitude\"], inplace=True)\n",
    "# from math import radians, cos, sin, asin, sqrt\n",
    "# \n",
    "# \n",
    "# def haversine(lon1, lat1, lon2, lat2):\n",
    "#     \"\"\"\n",
    "#     Calculate the great circle distance in kilometers between two points \n",
    "#     on the earth (specified in decimal degrees)\n",
    "#     \"\"\"\n",
    "#     # convert decimal degrees to radians \n",
    "#     lon1, lat1, lon2, lat2 = map(radians, [lon1, lat1, lon2, lat2])\n",
    "# \n",
    "#     # haversine formula \n",
    "#     dlon = lon2 - lon1 \n",
    "#     dlat = lat2 - lat1 \n",
    "#     a = sin(dlat/2)**2 + cos(lat1) * cos(lat2) * sin(dlon/2)**2\n",
    "#     c = 2 * asin(sqrt(a)) \n",
    "#     r = 6371 # Radius of earth in kilometers. Use 3956 for miles. Determines return value units.\n",
    "#     return c * r\n",
    "# \n",
    "# austin_lat = 30.2695\n",
    "# austin_long = -97.7159\n",
    "# \n",
    "# # calculate distance \n",
    "# df[\"distance_from_austin\"] = df.apply(lambda x: haversine(austin_long, austin_lat, x[\"longitude\"], x[\"latitude\"]), axis=1)\n",
    "# \n",
    "# # drop latitude and longitude columns\n",
    "# #df.drop([\"latitude\", \"longitude\"], axis=1, inplace=True)\n",
    "# #plot distance_from_austin with price if cityname is austin\n",
    "# plt.scatter(df[\"distance_from_austin\"], df[\"price\"], c=df[\"cityname\"].apply(lambda x: 1 if x == \"Austin\" else 0), cmap=\"coolwarm\" , s=10, alpha=0.5)\n",
    "# plt.show()\n",
    "\n",
    "# i think price is not related to distance from austin\n"
   ]
  },
  {
   "cell_type": "code",
   "execution_count": 52,
   "id": "8512f97d92b4d1b6",
   "metadata": {
    "ExecuteTime": {
     "end_time": "2024-04-19T16:01:05.620340Z",
     "start_time": "2024-04-19T16:01:05.465681Z"
    }
   },
   "outputs": [
    {
     "name": "stdout",
     "output_type": "stream",
     "text": [
      "0\n"
     ]
    },
    {
     "data": {
      "image/png": "[encoded data removed]",
      "text/plain": [
       "<Figure size 432x288 with 1 Axes>"
      ]
     },
     "metadata": {
      "needs_background": "light"
     },
     "output_type": "display_data"
    }
   ],
   "source": [
    "#square_feet column\n",
    "print(df[\"square_feet\"].isna().sum())#0\n",
    "#plot square_feet with price\n",
    "plt.scatter(df[\"square_feet\"], df[\"price\"], s=10, alpha=0.5)\n",
    "plt.show()"
   ]
  },
  {
   "cell_type": "markdown",
   "id": "eabb0344",
   "metadata": {},
   "source": [
    "### dealing with encoding \n",
    "#### category,currency,fee,price_type,address , source label_encoder \n",
    "#### has_photos ,pets_alloweed one_hot encoding\n",
    "#### price_display should be float and then drop it\n",
    "#### freq encoder  city , state ,citypstate\n",
    "#### drop price category "
   ]
  },
  {
   "cell_type": "code",
   "execution_count": 53,
   "id": "6ae22f8a",
   "metadata": {
    "ExecuteTime": {
     "end_time": "2024-04-19T16:01:05.807379Z",
     "start_time": "2024-04-19T16:01:05.793866Z"
    }
   },
   "outputs": [],
   "source": [
    "## columns to drop after encoding\n",
    "columns_to_dop=['city_offer_what','category','source','pets_allowed','has_photo','cityname','state','citypstate','price_category','currency','fee','price_type','address','title','body']\n",
    "#columns_to_dop=['category','source','citypstate','price_category','currency','fee','price_type','address','title','body']\n"
   ]
  },
  {
   "cell_type": "code",
   "execution_count": null,
   "id": "6981c5bf",
   "metadata": {
    "ExecuteTime": {
     "end_time": "2024-04-19T16:01:05.823415Z",
     "start_time": "2024-04-19T16:01:05.809374Z"
    }
   },
   "outputs": [],
   "source": []
  },
  {
   "cell_type": "code",
   "execution_count": 54,
   "id": "3119d6d2",
   "metadata": {
    "ExecuteTime": {
     "end_time": "2024-04-19T16:01:05.838563Z",
     "start_time": "2024-04-19T16:01:05.824415Z"
    }
   },
   "outputs": [],
   "source": [
    "df['has_photo'] = df['has_photo'].replace('Thumbnail','Yes')"
   ]
  },
  {
   "cell_type": "code",
   "execution_count": 55,
   "id": "deded5a7",
   "metadata": {
    "ExecuteTime": {
     "end_time": "2024-04-19T16:01:05.870682Z",
     "start_time": "2024-04-19T16:01:05.840562Z"
    }
   },
   "outputs": [],
   "source": [
    "import pandas as pd\n",
    "from sklearn.preprocessing import LabelEncoder\n",
    "\n",
    "label_encoder = LabelEncoder()\n",
    "df['category_encoded'] = label_encoder.fit_transform(df['category'])\n",
    "df['source_encoded'] = label_encoder.fit_transform(df['source'])\n",
    "df['currency_encoded'] = label_encoder.fit_transform(df['currency'])\n",
    "df['fee_encoded'] = label_encoder.fit_transform(df['fee'])\n",
    "df['price_type_enc'] = label_encoder.fit_transform(df['price_type'])\n",
    "df['address_encoded'] = label_encoder.fit_transform(df['address'])\n",
    "df['city_encoded'] = label_encoder.fit_transform(df['cityname'])\n",
    "df['state_encoded'] = label_encoder.fit_transform(df['state'])\n",
    "df['pets_allowed_en'] = label_encoder.fit_transform(df['pets_allowed'])\n",
    "df['has_photo_en'] = label_encoder.fit_transform(df['has_photo'])\n",
    "df['city_offer_what_encoded'] = label_encoder.fit_transform(df['city_offer_what'])\n"
   ]
  },
  {
   "cell_type": "code",
   "execution_count": 56,
   "id": "365f1f18",
   "metadata": {
    "ExecuteTime": {
     "end_time": "2024-04-19T16:01:05.886230Z",
     "start_time": "2024-04-19T16:01:05.874709Z"
    }
   },
   "outputs": [],
   "source": [
    "#df = pd.get_dummies(df, columns=['has_photo', 'pets_allowed']) \n",
    "#df = pd.get_dummies(df, columns=['state']) "
   ]
  },
  {
   "cell_type": "code",
   "execution_count": 57,
   "id": "7a03109b",
   "metadata": {
    "ExecuteTime": {
     "end_time": "2024-04-19T16:01:05.901785Z",
     "start_time": "2024-04-19T16:01:05.888227Z"
    }
   },
   "outputs": [],
   "source": [
    "#freq_encoder_city = df.groupby('cityname').size() / len(df)\n",
    "#freq_encoder_state = df.groupby('state').size() / len(df)\n",
    "#freq_encoder_city_state = df.groupby('citypstate').size() / len(df)\n",
    "\n",
    "#df['city_freq_encoded'] = df['cityname'].map(freq_encoder_city)\n",
    "#df['state_freq_encoded'] = df['state'].map(freq_encoder_state)\n",
    "#df['city_state_freq_encoded'] = df['citypstate'].map(freq_encoder_city_state)"
   ]
  },
  {
   "cell_type": "code",
   "execution_count": 58,
   "id": "7be211b4",
   "metadata": {
    "ExecuteTime": {
     "end_time": "2024-04-19T16:01:05.963608Z",
     "start_time": "2024-04-19T16:01:05.950470Z"
    }
   },
   "outputs": [],
   "source": [
    "df.drop(columns=columns_to_dop,axis=1,inplace=True)"
   ]
  },
  {
   "cell_type": "markdown",
   "id": "b2db414f",
   "metadata": {},
   "source": [
    "#### converting amenitites and price_display to int/float"
   ]
  },
  {
   "cell_type": "code",
   "execution_count": 59,
   "id": "21f43e0b",
   "metadata": {
    "ExecuteTime": {
     "end_time": "2024-04-19T16:01:05.995649Z",
     "start_time": "2024-04-19T16:01:05.965597Z"
    }
   },
   "outputs": [],
   "source": [
    "df[\"amenities\"]=df[\"amenities\"].astype(int)\n",
    "df['price_display'] = df['price_display'].str.replace(r'[^\\d.]', '', regex=True).astype(float)"
   ]
  },
  {
   "cell_type": "code",
   "execution_count": 60,
   "id": "bce9a008",
   "metadata": {
    "ExecuteTime": {
     "end_time": "2024-04-19T16:01:06.011640Z",
     "start_time": "2024-04-19T16:01:05.997632Z"
    },
    "scrolled": true
   },
   "outputs": [
    {
     "name": "stdout",
     "output_type": "stream",
     "text": [
      "<class 'pandas.core.frame.DataFrame'>\n",
      "Int64Index: 8993 entries, 0 to 8999\n",
      "Data columns (total 24 columns):\n",
      " #   Column                   Non-Null Count  Dtype  \n",
      "---  ------                   --------------  -----  \n",
      " 0   id                       8993 non-null   int64  \n",
      " 1   amenities                8993 non-null   int32  \n",
      " 2   bathrooms                8963 non-null   float64\n",
      " 3   bedrooms                 8986 non-null   float64\n",
      " 4   price                    8993 non-null   int64  \n",
      " 5   price_display            8993 non-null   float64\n",
      " 6   square_feet              8993 non-null   int64  \n",
      " 7   latitude                 8993 non-null   float64\n",
      " 8   longitude                8993 non-null   float64\n",
      " 9   time                     8993 non-null   int64  \n",
      " 10  body_count               8993 non-null   int64  \n",
      " 11  title_count              8993 non-null   int64  \n",
      " 12  in_area                  8993 non-null   int64  \n",
      " 13  category_encoded         8993 non-null   int32  \n",
      " 14  source_encoded           8993 non-null   int32  \n",
      " 15  currency_encoded         8993 non-null   int32  \n",
      " 16  fee_encoded              8993 non-null   int32  \n",
      " 17  price_type_enc           8993 non-null   int32  \n",
      " 18  address_encoded          8993 non-null   int32  \n",
      " 19  city_encoded             8993 non-null   int32  \n",
      " 20  state_encoded            8993 non-null   int32  \n",
      " 21  pets_allowed_en          8993 non-null   int32  \n",
      " 22  has_photo_en             8993 non-null   int32  \n",
      " 23  city_offer_what_encoded  8993 non-null   int32  \n",
      "dtypes: float64(5), int32(12), int64(7)\n",
      "memory usage: 1.3 MB\n"
     ]
    }
   ],
   "source": [
    "df.info()"
   ]
  },
  {
   "cell_type": "code",
   "execution_count": 61,
   "id": "6773c793",
   "metadata": {
    "ExecuteTime": {
     "end_time": "2024-04-19T16:01:06.184428Z",
     "start_time": "2024-04-19T16:01:06.013640Z"
    }
   },
   "outputs": [
    {
     "data": {
      "image/png": "[encoded data removed]",
      "text/plain": [
       "<Figure size 576x432 with 1 Axes>"
      ]
     },
     "metadata": {
      "needs_background": "light"
     },
     "output_type": "display_data"
    }
   ],
   "source": [
    "plt.figure(figsize=(8, 6))\n",
    "sns.kdeplot(df[\"price_display\"], shade=True)\n",
    "plt.xlabel(\"Price\")\n",
    "plt.ylabel(\"Density\")\n",
    "plt.title(\"Kernel Density Estimate for Price Display\")\n",
    "plt.show()"
   ]
  },
  {
   "cell_type": "code",
   "execution_count": 62,
   "id": "869b121f",
   "metadata": {
    "ExecuteTime": {
     "end_time": "2024-04-19T16:01:06.200511Z",
     "start_time": "2024-04-19T16:01:06.186428Z"
    }
   },
   "outputs": [
    {
     "name": "stdout",
     "output_type": "stream",
     "text": [
      "<class 'pandas.core.frame.DataFrame'>\n",
      "Int64Index: 8993 entries, 0 to 8999\n",
      "Data columns (total 24 columns):\n",
      " #   Column                   Non-Null Count  Dtype  \n",
      "---  ------                   --------------  -----  \n",
      " 0   id                       8993 non-null   int64  \n",
      " 1   amenities                8993 non-null   int32  \n",
      " 2   bathrooms                8963 non-null   float64\n",
      " 3   bedrooms                 8986 non-null   float64\n",
      " 4   price                    8993 non-null   int64  \n",
      " 5   price_display            8993 non-null   float64\n",
      " 6   square_feet              8993 non-null   int64  \n",
      " 7   latitude                 8993 non-null   float64\n",
      " 8   longitude                8993 non-null   float64\n",
      " 9   time                     8993 non-null   int64  \n",
      " 10  body_count               8993 non-null   int64  \n",
      " 11  title_count              8993 non-null   int64  \n",
      " 12  in_area                  8993 non-null   int64  \n",
      " 13  category_encoded         8993 non-null   int32  \n",
      " 14  source_encoded           8993 non-null   int32  \n",
      " 15  currency_encoded         8993 non-null   int32  \n",
      " 16  fee_encoded              8993 non-null   int32  \n",
      " 17  price_type_enc           8993 non-null   int32  \n",
      " 18  address_encoded          8993 non-null   int32  \n",
      " 19  city_encoded             8993 non-null   int32  \n",
      " 20  state_encoded            8993 non-null   int32  \n",
      " 21  pets_allowed_en          8993 non-null   int32  \n",
      " 22  has_photo_en             8993 non-null   int32  \n",
      " 23  city_offer_what_encoded  8993 non-null   int32  \n",
      "dtypes: float64(5), int32(12), int64(7)\n",
      "memory usage: 1.3 MB\n"
     ]
    }
   ],
   "source": [
    "df.info()"
   ]
  },
  {
   "cell_type": "code",
   "execution_count": 63,
   "id": "6ce01ba3",
   "metadata": {
    "ExecuteTime": {
     "end_time": "2024-04-19T16:01:06.231112Z",
     "start_time": "2024-04-19T16:01:06.202458Z"
    }
   },
   "outputs": [
    {
     "data": {
      "text/html": [
       "<div>\n",
       "<style scoped>\n",
       "    .dataframe tbody tr th:only-of-type {\n",
       "        vertical-align: middle;\n",
       "    }\n",
       "\n",
       "    .dataframe tbody tr th {\n",
       "        vertical-align: top;\n",
       "    }\n",
       "\n",
       "    .dataframe thead th {\n",
       "        text-align: right;\n",
       "    }\n",
       "</style>\n",
       "<table border=\"1\" class=\"dataframe\">\n",
       "  <thead>\n",
       "    <tr style=\"text-align: right;\">\n",
       "      <th></th>\n",
       "      <th>amenities</th>\n",
       "      <th>bathrooms</th>\n",
       "      <th>bedrooms</th>\n",
       "      <th>price</th>\n",
       "      <th>price_display</th>\n",
       "      <th>square_feet</th>\n",
       "      <th>latitude</th>\n",
       "      <th>longitude</th>\n",
       "      <th>time</th>\n",
       "      <th>body_count</th>\n",
       "      <th>...</th>\n",
       "      <th>source_encoded</th>\n",
       "      <th>currency_encoded</th>\n",
       "      <th>fee_encoded</th>\n",
       "      <th>price_type_enc</th>\n",
       "      <th>address_encoded</th>\n",
       "      <th>city_encoded</th>\n",
       "      <th>state_encoded</th>\n",
       "      <th>pets_allowed_en</th>\n",
       "      <th>has_photo_en</th>\n",
       "      <th>city_offer_what_encoded</th>\n",
       "    </tr>\n",
       "  </thead>\n",
       "  <tbody>\n",
       "    <tr>\n",
       "      <th>0</th>\n",
       "      <td>6</td>\n",
       "      <td>2.5</td>\n",
       "      <td>2.0</td>\n",
       "      <td>1194</td>\n",
       "      <td>1194.0</td>\n",
       "      <td>800</td>\n",
       "      <td>35.7585</td>\n",
       "      <td>-78.7783</td>\n",
       "      <td>1568755960</td>\n",
       "      <td>791</td>\n",
       "      <td>...</td>\n",
       "      <td>7</td>\n",
       "      <td>0</td>\n",
       "      <td>0</td>\n",
       "      <td>0</td>\n",
       "      <td>4304</td>\n",
       "      <td>221</td>\n",
       "      <td>26</td>\n",
       "      <td>1</td>\n",
       "      <td>1</td>\n",
       "      <td>2</td>\n",
       "    </tr>\n",
       "    <tr>\n",
       "      <th>1</th>\n",
       "      <td>9</td>\n",
       "      <td>1.0</td>\n",
       "      <td>1.0</td>\n",
       "      <td>1370</td>\n",
       "      <td>1370.0</td>\n",
       "      <td>795</td>\n",
       "      <td>43.0724</td>\n",
       "      <td>-89.4003</td>\n",
       "      <td>1577015508</td>\n",
       "      <td>264</td>\n",
       "      <td>...</td>\n",
       "      <td>8</td>\n",
       "      <td>0</td>\n",
       "      <td>0</td>\n",
       "      <td>0</td>\n",
       "      <td>4177</td>\n",
       "      <td>763</td>\n",
       "      <td>47</td>\n",
       "      <td>1</td>\n",
       "      <td>1</td>\n",
       "      <td>0</td>\n",
       "    </tr>\n",
       "    <tr>\n",
       "      <th>2</th>\n",
       "      <td>6</td>\n",
       "      <td>1.0</td>\n",
       "      <td>1.0</td>\n",
       "      <td>1009</td>\n",
       "      <td>1009.0</td>\n",
       "      <td>560</td>\n",
       "      <td>29.6533</td>\n",
       "      <td>-82.3656</td>\n",
       "      <td>1577358921</td>\n",
       "      <td>262</td>\n",
       "      <td>...</td>\n",
       "      <td>8</td>\n",
       "      <td>0</td>\n",
       "      <td>0</td>\n",
       "      <td>0</td>\n",
       "      <td>3304</td>\n",
       "      <td>481</td>\n",
       "      <td>9</td>\n",
       "      <td>1</td>\n",
       "      <td>1</td>\n",
       "      <td>2</td>\n",
       "    </tr>\n",
       "    <tr>\n",
       "      <th>3</th>\n",
       "      <td>1</td>\n",
       "      <td>1.0</td>\n",
       "      <td>1.0</td>\n",
       "      <td>695</td>\n",
       "      <td>695.0</td>\n",
       "      <td>600</td>\n",
       "      <td>41.2562</td>\n",
       "      <td>-96.0404</td>\n",
       "      <td>1577359849</td>\n",
       "      <td>114</td>\n",
       "      <td>...</td>\n",
       "      <td>8</td>\n",
       "      <td>0</td>\n",
       "      <td>0</td>\n",
       "      <td>0</td>\n",
       "      <td>2702</td>\n",
       "      <td>982</td>\n",
       "      <td>28</td>\n",
       "      <td>1</td>\n",
       "      <td>1</td>\n",
       "      <td>2</td>\n",
       "    </tr>\n",
       "    <tr>\n",
       "      <th>4</th>\n",
       "      <td>1</td>\n",
       "      <td>3.0</td>\n",
       "      <td>3.0</td>\n",
       "      <td>3695</td>\n",
       "      <td>3695.0</td>\n",
       "      <td>1600</td>\n",
       "      <td>34.0372</td>\n",
       "      <td>-118.2972</td>\n",
       "      <td>1577360159</td>\n",
       "      <td>120</td>\n",
       "      <td>...</td>\n",
       "      <td>8</td>\n",
       "      <td>0</td>\n",
       "      <td>0</td>\n",
       "      <td>0</td>\n",
       "      <td>3166</td>\n",
       "      <td>747</td>\n",
       "      <td>4</td>\n",
       "      <td>1</td>\n",
       "      <td>1</td>\n",
       "      <td>1</td>\n",
       "    </tr>\n",
       "  </tbody>\n",
       "</table>\n",
       "<p>5 rows × 23 columns</p>\n",
       "</div>"
      ],
      "text/plain": [
       "   amenities  bathrooms  bedrooms  price  price_display  square_feet  \\\n",
       "0          6        2.5       2.0   1194         1194.0          800   \n",
       "1          9        1.0       1.0   1370         1370.0          795   \n",
       "2          6        1.0       1.0   1009         1009.0          560   \n",
       "3          1        1.0       1.0    695          695.0          600   \n",
       "4          1        3.0       3.0   3695         3695.0         1600   \n",
       "\n",
       "   latitude  longitude        time  body_count  ...  source_encoded  \\\n",
       "0   35.7585   -78.7783  1568755960         791  ...               7   \n",
       "1   43.0724   -89.4003  1577015508         264  ...               8   \n",
       "2   29.6533   -82.3656  1577358921         262  ...               8   \n",
       "3   41.2562   -96.0404  1577359849         114  ...               8   \n",
       "4   34.0372  -118.2972  1577360159         120  ...               8   \n",
       "\n",
       "   currency_encoded  fee_encoded  price_type_enc  address_encoded  \\\n",
       "0                 0            0               0             4304   \n",
       "1                 0            0               0             4177   \n",
       "2                 0            0               0             3304   \n",
       "3                 0            0               0             2702   \n",
       "4                 0            0               0             3166   \n",
       "\n",
       "   city_encoded  state_encoded  pets_allowed_en  has_photo_en  \\\n",
       "0           221             26                1             1   \n",
       "1           763             47                1             1   \n",
       "2           481              9                1             1   \n",
       "3           982             28                1             1   \n",
       "4           747              4                1             1   \n",
       "\n",
       "   city_offer_what_encoded  \n",
       "0                        2  \n",
       "1                        0  \n",
       "2                        2  \n",
       "3                        2  \n",
       "4                        1  \n",
       "\n",
       "[5 rows x 23 columns]"
      ]
     },
     "execution_count": 63,
     "metadata": {},
     "output_type": "execute_result"
    }
   ],
   "source": [
    "# id column\n",
    "df.drop(\"id\", axis=1, inplace=True)\n",
    "df.head()\n"
   ]
  },
  {
   "cell_type": "code",
   "execution_count": 64,
   "id": "9e82d66f",
   "metadata": {
    "ExecuteTime": {
     "end_time": "2024-04-19T16:01:06.246640Z",
     "start_time": "2024-04-19T16:01:06.233120Z"
    }
   },
   "outputs": [
    {
     "name": "stdout",
     "output_type": "stream",
     "text": [
      "1.000000    5971\n",
      "2.000000    2176\n",
      "2.500000     282\n",
      "1.500000     250\n",
      "3.000000     162\n",
      "3.500000      59\n",
      "4.000000      41\n",
      "1.380899      30\n",
      "4.500000       9\n",
      "5.000000       7\n",
      "7.000000       2\n",
      "8.000000       1\n",
      "5.500000       1\n",
      "8.500000       1\n",
      "6.000000       1\n",
      "Name: bathrooms, dtype: int64\n"
     ]
    }
   ],
   "source": [
    "# bathrooms column\n",
    "\n",
    "#replace nan with mean\n",
    "df[\"bathrooms\"].fillna(df[\"bathrooms\"].mean(), inplace=True)\n",
    "\n",
    "#floor it 1.5 => 1\n",
    "#df[\"bathrooms\"] = df[\"bathrooms\"].apply(lambda x: int(x))\n",
    "\n",
    "# if value is greater than 4 replace it with 5\n",
    "#df[\"bathrooms\"] = df[\"bathrooms\"].apply(lambda x: 5 if x > 4 else x)\n",
    "print(df[\"bathrooms\"].value_counts())\n",
    "\n",
    "# apply one hot encoding \n",
    "#df = pd.concat([df, pd.get_dummies(df[\"bathrooms\"], prefix=\"bathrooms\")], axis=1)\n",
    "#df.drop(\"bathrooms\", axis=1, inplace=True)"
   ]
  },
  {
   "cell_type": "code",
   "execution_count": 65,
   "id": "644765f4",
   "metadata": {
    "ExecuteTime": {
     "end_time": "2024-04-19T16:01:06.278721Z",
     "start_time": "2024-04-19T16:01:06.250630Z"
    }
   },
   "outputs": [
    {
     "name": "stdout",
     "output_type": "stream",
     "text": [
      "1.00000    4163\n",
      "2.00000    3034\n",
      "3.00000    1153\n",
      "4.00000     368\n",
      "0.00000     171\n",
      "5.00000      79\n",
      "6.00000      12\n",
      "1.74438       7\n",
      "7.00000       3\n",
      "8.00000       2\n",
      "9.00000       1\n",
      "Name: bedrooms, dtype: int64\n"
     ]
    }
   ],
   "source": [
    "# bedrooms column\n",
    "\n",
    "#replace nan with mean\n",
    "df[\"bedrooms\"].fillna(df[\"bedrooms\"].mean(), inplace=True)\n",
    "\n",
    "#df[\"bedrooms\"] = df[\"bedrooms\"].apply(lambda x: int(x))\n",
    "\n",
    "\n",
    "#df[\"bedrooms\"] = df[\"bedrooms\"].apply(lambda x: 5 if x > 5 else x)\n",
    "\n",
    "print(df[\"bedrooms\"].value_counts())\n",
    "\n",
    "# apply one hot encoding \n",
    "#df = pd.concat([df, pd.get_dummies(df[\"bedrooms\"], prefix=\"bedrooms\")], axis=1)\n",
    "#df.drop(\"bedrooms\", axis=1, inplace=True)"
   ]
  },
  {
   "cell_type": "code",
   "execution_count": 66,
   "id": "92adf79f",
   "metadata": {
    "ExecuteTime": {
     "end_time": "2024-04-19T16:01:06.310179Z",
     "start_time": "2024-04-19T16:01:06.280226Z"
    },
    "scrolled": true
   },
   "outputs": [],
   "source": [
    "# price column\n",
    "df.drop(\"price\", axis=1, inplace=True)\n",
    "#df.head()"
   ]
  },
  {
   "cell_type": "code",
   "execution_count": 67,
   "id": "d2e7fd94",
   "metadata": {
    "ExecuteTime": {
     "end_time": "2024-04-19T16:01:06.326215Z",
     "start_time": "2024-04-19T16:01:06.311690Z"
    },
    "scrolled": true
   },
   "outputs": [
    {
     "name": "stdout",
     "output_type": "stream",
     "text": [
      "<class 'pandas.core.frame.DataFrame'>\n",
      "Int64Index: 8993 entries, 0 to 8999\n",
      "Data columns (total 22 columns):\n",
      " #   Column                   Non-Null Count  Dtype  \n",
      "---  ------                   --------------  -----  \n",
      " 0   amenities                8993 non-null   int32  \n",
      " 1   bathrooms                8993 non-null   float64\n",
      " 2   bedrooms                 8993 non-null   float64\n",
      " 3   price_display            8993 non-null   float64\n",
      " 4   square_feet              8993 non-null   int64  \n",
      " 5   latitude                 8993 non-null   float64\n",
      " 6   longitude                8993 non-null   float64\n",
      " 7   time                     8993 non-null   int64  \n",
      " 8   body_count               8993 non-null   int64  \n",
      " 9   title_count              8993 non-null   int64  \n",
      " 10  in_area                  8993 non-null   int64  \n",
      " 11  category_encoded         8993 non-null   int32  \n",
      " 12  source_encoded           8993 non-null   int32  \n",
      " 13  currency_encoded         8993 non-null   int32  \n",
      " 14  fee_encoded              8993 non-null   int32  \n",
      " 15  price_type_enc           8993 non-null   int32  \n",
      " 16  address_encoded          8993 non-null   int32  \n",
      " 17  city_encoded             8993 non-null   int32  \n",
      " 18  state_encoded            8993 non-null   int32  \n",
      " 19  pets_allowed_en          8993 non-null   int32  \n",
      " 20  has_photo_en             8993 non-null   int32  \n",
      " 21  city_offer_what_encoded  8993 non-null   int32  \n",
      "dtypes: float64(5), int32(12), int64(5)\n",
      "memory usage: 1.2 MB\n"
     ]
    }
   ],
   "source": [
    "df.info()"
   ]
  },
  {
   "cell_type": "markdown",
   "id": "ef90b4d6",
   "metadata": {},
   "source": [
    "## removing outliers  from the target column "
   ]
  },
  {
   "cell_type": "code",
   "execution_count": 68,
   "id": "fb5a4b63",
   "metadata": {
    "ExecuteTime": {
     "end_time": "2024-04-19T16:01:06.589585Z",
     "start_time": "2024-04-19T16:01:06.327211Z"
    },
    "scrolled": false
   },
   "outputs": [
    {
     "data": {
      "image/png": "[encoded data removed]",
      "text/plain": [
       "<Figure size 720x432 with 1 Axes>"
      ]
     },
     "metadata": {
      "needs_background": "light"
     },
     "output_type": "display_data"
    },
    {
     "data": {
      "image/png": "[encoded data removed]",
      "text/plain": [
       "<Figure size 576x432 with 1 Axes>"
      ]
     },
     "metadata": {
      "needs_background": "light"
     },
     "output_type": "display_data"
    }
   ],
   "source": [
    "import matplotlib.pyplot as plt\n",
    "\n",
    "# Create a histogram\n",
    "plt.figure(figsize=(10, 6))\n",
    "plt.hist(df['price_display'], bins=20, color='skyblue', edgecolor='black')\n",
    "plt.title('Distribution of Price')\n",
    "plt.xlabel('price_display')\n",
    "plt.ylabel('Frequency')\n",
    "plt.grid(True)\n",
    "plt.show()\n",
    "\n",
    "# Create a boxplot\n",
    "plt.figure(figsize=(8, 6))\n",
    "plt.boxplot(df['price_display'], vert=False)\n",
    "plt.title('Boxplot of Price')\n",
    "plt.xlabel('Price')\n",
    "plt.grid(True)\n",
    "plt.show()"
   ]
  },
  {
   "cell_type": "code",
   "execution_count": 69,
   "id": "b903e582",
   "metadata": {
    "ExecuteTime": {
     "end_time": "2024-04-19T16:01:06.605191Z",
     "start_time": "2024-04-19T16:01:06.590581Z"
    }
   },
   "outputs": [],
   "source": [
    "\n",
    "# Assuming 'data' is your dataset and 'column_name' is the name of the column you want to Winsorize\n",
    "lower_percentile = 1  # Set the lower percentile (e.g., 1st percentile)\n",
    "upper_percentile = 99  # Set the upper percentile (e.g., 99th percentile)\n",
    "\n",
    "lower_threshold = np.percentile(df['price_display'], lower_percentile)\n",
    "upper_threshold = np.percentile(df['price_display'], upper_percentile)\n",
    "\n",
    "# Apply Winsorization\n",
    "df['price_display']= np.where(df['price_display'] < lower_threshold, lower_threshold, df['price_display'])\n",
    "df['price_display'] = np.where(df['price_display'] > upper_threshold, upper_threshold, df['price_display'])\n",
    "\n",
    "\n"
   ]
  },
  {
   "cell_type": "code",
   "execution_count": 70,
   "id": "f02214c3",
   "metadata": {},
   "outputs": [],
   "source": [
    "\n",
    "bins = [0, 950.000000, 1695.000000 , float('inf')]\n",
    "labels = ['Low', 'Mid', 'High']\n",
    "\n",
    "df['price_category'] = pd.cut(df['price_display'], bins=bins, labels=labels, right=False)\n"
   ]
  },
  {
   "cell_type": "code",
   "execution_count": 71,
   "id": "f9b2503e",
   "metadata": {
    "ExecuteTime": {
     "end_time": "2024-04-19T16:01:06.621242Z",
     "start_time": "2024-04-19T16:01:06.606186Z"
    }
   },
   "outputs": [
    {
     "data": {
      "text/plain": [
       "count    8993.000000\n",
       "mean     1461.675058\n",
       "std       781.792995\n",
       "min       529.920000\n",
       "25%       950.000000\n",
       "50%      1275.000000\n",
       "75%      1695.000000\n",
       "max      4995.000000\n",
       "Name: price_display, dtype: float64"
      ]
     },
     "execution_count": 71,
     "metadata": {},
     "output_type": "execute_result"
    }
   ],
   "source": [
    "df[\"price_display\"].describe()"
   ]
  },
  {
   "cell_type": "markdown",
   "id": "57a2d1a1",
   "metadata": {},
   "source": [
    "#### there is alot of states and cities but what we need is feature to indicate if this city offers a high or a low price \n",
    "#### note if our test data in aanother folder we need to  merge city_price_group column with test data based on city column"
   ]
  },
  {
   "cell_type": "markdown",
   "id": "bb2d5d73",
   "metadata": {},
   "source": [
    "## feature extraction "
   ]
  },
  {
   "cell_type": "code",
   "execution_count": 72,
   "id": "c7d5e262",
   "metadata": {},
   "outputs": [
    {
     "data": {
      "text/plain": [
       "<AxesSubplot:>"
      ]
     },
     "execution_count": 72,
     "metadata": {},
     "output_type": "execute_result"
    },
    {
     "data": {
      "image/png": "[encoded data removed]",
      "text/plain": [
       "<Figure size 432x288 with 1 Axes>"
      ]
     },
     "metadata": {
      "needs_background": "light"
     },
     "output_type": "display_data"
    }
   ],
   "source": [
    "df[\"price_display\"].hist()"
   ]
  },
  {
   "cell_type": "code",
   "execution_count": 73,
   "id": "6c1db6a7",
   "metadata": {
    "ExecuteTime": {
     "end_time": "2024-04-19T16:01:06.668312Z",
     "start_time": "2024-04-19T16:01:06.655794Z"
    },
    "scrolled": true
   },
   "outputs": [
    {
     "name": "stdout",
     "output_type": "stream",
     "text": [
      "<class 'pandas.core.series.Series'>\n",
      "Int64Index: 8993 entries, 0 to 8999\n",
      "Series name: price_display\n",
      "Non-Null Count  Dtype  \n",
      "--------------  -----  \n",
      "8993 non-null   float64\n",
      "dtypes: float64(1)\n",
      "memory usage: 140.5 KB\n"
     ]
    }
   ],
   "source": [
    "df[\"price_display\"].info()"
   ]
  },
  {
   "cell_type": "code",
   "execution_count": 74,
   "id": "04cbb27f",
   "metadata": {},
   "outputs": [
    {
     "data": {
      "image/png": "[encoded data removed]",
      "text/plain": [
       "<Figure size 1440x720 with 2 Axes>"
      ]
     },
     "metadata": {
      "needs_background": "light"
     },
     "output_type": "display_data"
    }
   ],
   "source": [
    "import pandas as pd\n",
    "import seaborn as sns\n",
    "import matplotlib.pyplot as plt\n",
    "\n",
    "# Assuming df is your DataFrame\n",
    "# If you have missing values, you might want to handle them first\n",
    "\n",
    "# Compute the correlation matrix\n",
    "correlation_matrix = df.corr()\n",
    "\n",
    "# Plotting the correlation matrix using seaborn without annotation\n",
    "plt.figure(figsize=(20, 10))\n",
    "sns.heatmap(correlation_matrix, annot=False, cmap='coolwarm', linewidths=0.5)\n",
    "plt.title('Correlation Matrix')\n",
    "plt.show()\n"
   ]
  },
  {
   "cell_type": "code",
   "execution_count": 75,
   "id": "8f3a04a5",
   "metadata": {
    "ExecuteTime": {
     "end_time": "2024-04-19T16:01:06.699173Z",
     "start_time": "2024-04-19T16:01:06.670309Z"
    }
   },
   "outputs": [
    {
     "data": {
      "text/plain": [
       "city_offer_what_encoded   -0.370625\n",
       "state_encoded             -0.230566\n",
       "longitude                 -0.216661\n",
       "amenities                 -0.133914\n",
       "time                      -0.039198\n",
       "address_encoded           -0.028321\n",
       "has_photo_en              -0.026856\n",
       "category_encoded          -0.018319\n",
       "price_type_enc            -0.004435\n",
       "source_encoded            -0.003680\n",
       "body_count                -0.002739\n",
       "latitude                   0.040482\n",
       "title_count                0.048552\n",
       "pets_allowed_en            0.063325\n",
       "city_encoded               0.073409\n",
       "bedrooms                   0.364425\n",
       "square_feet                0.412532\n",
       "in_area                    0.451387\n",
       "bathrooms                  0.454402\n",
       "price_display              1.000000\n",
       "currency_encoded                NaN\n",
       "fee_encoded                     NaN\n",
       "Name: price_display, dtype: float64"
      ]
     },
     "execution_count": 75,
     "metadata": {},
     "output_type": "execute_result"
    }
   ],
   "source": [
    "df.corr()[\"price_display\"].sort_values()"
   ]
  },
  {
   "cell_type": "code",
   "execution_count": 76,
   "id": "65932205",
   "metadata": {
    "ExecuteTime": {
     "end_time": "2024-04-19T16:01:06.917886Z",
     "start_time": "2024-04-19T16:01:06.913883Z"
    }
   },
   "outputs": [],
   "source": [
    "useless_columns = [\"time\",\"currency_encoded\",\n",
    "                   \"fee_encoded\",\"price_type_enc\",\"address_encoded\",\"source_encoded\"\n",
    "                  ,\"price_type_enc\",\"body_count\",\n",
    "                    \"category_encoded\"\n",
    "                  ,\"pets_allowed_en\",\"has_photo_en\",\"title_count\"\n",
    "                  ,\"city_encoded\",\"price_category\"]"
   ]
  },
  {
   "cell_type": "code",
   "execution_count": 77,
   "id": "3171f79e",
   "metadata": {
    "ExecuteTime": {
     "end_time": "2024-04-19T16:01:07.480567Z",
     "start_time": "2024-04-19T16:01:07.458554Z"
    }
   },
   "outputs": [],
   "source": [
    "d = df.drop(columns=useless_columns)"
   ]
  },
  {
   "cell_type": "code",
   "execution_count": 78,
   "id": "ddf7b1ab",
   "metadata": {},
   "outputs": [
    {
     "name": "stdout",
     "output_type": "stream",
     "text": [
      "<class 'pandas.core.frame.DataFrame'>\n",
      "Int64Index: 8993 entries, 0 to 8999\n",
      "Data columns (total 10 columns):\n",
      " #   Column                   Non-Null Count  Dtype  \n",
      "---  ------                   --------------  -----  \n",
      " 0   amenities                8993 non-null   int32  \n",
      " 1   bathrooms                8993 non-null   float64\n",
      " 2   bedrooms                 8993 non-null   float64\n",
      " 3   price_display            8993 non-null   float64\n",
      " 4   square_feet              8993 non-null   int64  \n",
      " 5   latitude                 8993 non-null   float64\n",
      " 6   longitude                8993 non-null   float64\n",
      " 7   in_area                  8993 non-null   int64  \n",
      " 8   state_encoded            8993 non-null   int32  \n",
      " 9   city_offer_what_encoded  8993 non-null   int32  \n",
      "dtypes: float64(5), int32(3), int64(2)\n",
      "memory usage: 667.4 KB\n"
     ]
    }
   ],
   "source": [
    "\n",
    "\n",
    "d.info()\n",
    "X = d.drop(columns=['price_display'])  # Features\n",
    "y = d['price_display']  # Target variable\n",
    "\n",
    "X_train, X_test, y_train, y_test = train_test_split(X, y, test_size=0.2, random_state=12) "
   ]
  },
  {
   "cell_type": "code",
   "execution_count": 79,
   "id": "da62f521",
   "metadata": {},
   "outputs": [
    {
     "data": {
      "text/plain": [
       "Index(['amenities', 'bathrooms', 'bedrooms', 'square_feet', 'latitude',\n",
       "       'longitude', 'in_area', 'state_encoded', 'city_offer_what_encoded'],\n",
       "      dtype='object')"
      ]
     },
     "execution_count": 79,
     "metadata": {},
     "output_type": "execute_result"
    }
   ],
   "source": [
    "X.columns"
   ]
  },
  {
   "cell_type": "code",
   "execution_count": 80,
   "id": "c3f143e2",
   "metadata": {},
   "outputs": [],
   "source": [
    "degree = 2 # You can change the degree of the polynomial\n",
    "poly = PolynomialFeatures(degree)\n",
    "X_train_poly = poly.fit_transform(X_train)\n",
    "X_test_poly = poly.transform(X_test)"
   ]
  },
  {
   "cell_type": "code",
   "execution_count": 81,
   "id": "ccb15b8c",
   "metadata": {
    "ExecuteTime": {
     "end_time": "2024-04-19T16:01:07.841294Z",
     "start_time": "2024-04-19T16:01:07.826234Z"
    },
    "scrolled": true
   },
   "outputs": [
    {
     "data": {
      "text/plain": [
       "(7194, 55)"
      ]
     },
     "execution_count": 81,
     "metadata": {},
     "output_type": "execute_result"
    }
   ],
   "source": [
    "X_train_poly.shape"
   ]
  },
  {
   "cell_type": "code",
   "execution_count": 82,
   "id": "49aa4c1d",
   "metadata": {
    "ExecuteTime": {
     "end_time": "2024-04-19T16:01:08.236033Z",
     "start_time": "2024-04-19T16:01:08.196978Z"
    }
   },
   "outputs": [],
   "source": [
    "model = LinearRegression()\n",
    "model_lin = LinearRegression()\n",
    "model_rid = Ridge(alpha=1.0)\n",
    "model_des = DecisionTreeRegressor(max_depth=8)\n",
    "rf_regressor = RandomForestRegressor(n_estimators=100, random_state=42 )\n",
    "\n",
    "cv_scores = cross_val_score(rf_regressor, X_train, y_train, cv=5)\n",
    "\n",
    "model.fit(X_train_poly, y_train)\n",
    "model_lin.fit(X_train,y_train)\n",
    "model_rid.fit(X_train,y_train)\n",
    "model_des.fit(X_train,y_train)\n",
    "\n",
    "\n",
    "rf_regressor.fit(X_train, y_train)\n",
    "\n",
    "\n",
    "y_pred = model.predict(X_test_poly)\n",
    "y_pred_lin = model_lin.predict(X_test)\n",
    "y_pred_re = model_rid.predict(X_test)\n",
    "y_pre_des = model_des.predict(X_test)\n",
    "\n",
    "y_pred_Random_forest = rf_regressor.predict(X_test)"
   ]
  },
  {
   "cell_type": "code",
   "execution_count": 83,
   "id": "2dfe047b",
   "metadata": {},
   "outputs": [
    {
     "name": "stdout",
     "output_type": "stream",
     "text": [
      "Cross-validated Scores: [0.75220073 0.74304597 0.75719979 0.79277321 0.74798211]\n"
     ]
    }
   ],
   "source": [
    "cv_scores = cross_val_score(rf_regressor, X_train, y_train, cv=5) \n",
    "print(\"Cross-validated Scores:\", cv_scores)"
   ]
  },
  {
   "cell_type": "code",
   "execution_count": 84,
   "id": "340ae155",
   "metadata": {},
   "outputs": [
    {
     "name": "stdout",
     "output_type": "stream",
     "text": [
      "Mean Squared Error on test set polynomia;: 179775.7076979727\n",
      "Mean Squared Error on test set linear: 318405.37681969884\n",
      "Mean Squared Error on test set line ridge: 318403.7932572818\n",
      "Mean Squared Error on test set line desision tree: 165012.32912890424\n",
      "Mean Squared Error on test set line Random_forest: 117742.52490748388\n",
      "r2_score random forest for : 0.812284331064423\n"
     ]
    }
   ],
   "source": [
    "\n",
    "# Evaluating the model performance\n",
    "mse_test = mean_squared_error(y_test, y_pred)\n",
    "mse_test_lin = mean_squared_error(y_test, y_pred_lin)\n",
    "mse_test_rid = mean_squared_error(y_test, y_pred_re)\n",
    "mse_test_des = mean_squared_error(y_test, y_pre_des)\n",
    "mse_test_Rand = mean_squared_error(y_test, y_pred_Random_forest)\n",
    "\n",
    "print(\"Mean Squared Error on test set polynomia;:\", mse_test)\n",
    "print(\"Mean Squared Error on test set linear:\", mse_test_lin)\n",
    "print(\"Mean Squared Error on test set line ridge:\", mse_test_rid)\n",
    "print(\"Mean Squared Error on test set line desision tree:\", mse_test_des)\n",
    "print(\"Mean Squared Error on test set line Random_forest:\", mse_test_Rand)\n",
    "\n",
    "print(\"r2_score random forest for :\", r2_score(y_test, y_pred_Random_forest))\n"
   ]
  },
  {
   "cell_type": "code",
   "execution_count": 85,
   "id": "f4344824",
   "metadata": {
    "ExecuteTime": {
     "end_time": "2024-04-19T16:01:08.470517Z",
     "start_time": "2024-04-19T16:01:08.461926Z"
    }
   },
   "outputs": [
    {
     "data": {
      "image/png": "[encoded data removed]",
      "text/plain": [
       "<Figure size 720x432 with 1 Axes>"
      ]
     },
     "metadata": {
      "needs_background": "light"
     },
     "output_type": "display_data"
    }
   ],
   "source": [
    "import matplotlib.pyplot as plt\n",
    "\n",
    "# Plotting\n",
    "plt.figure(figsize=(10, 6))\n",
    "\n",
    "# Scatter plot for predicted vs actual prices\n",
    "plt.scatter(y_test, y_pred_Random_forest, color='blue', label='Predicted')\n",
    "\n",
    "# Plotting the line of equality\n",
    "plt.plot([min(y_test), max(y_test)], [min(y_test), max(y_test)], color='red', linestyle='--', label='Actual')\n",
    "\n",
    "# Labels and title\n",
    "plt.title('Predicted vs Actual Prices')\n",
    "plt.xlabel('Actual Prices')\n",
    "plt.ylabel('Predicted Prices')\n",
    "plt.legend()\n",
    "\n",
    "# Show plot\n",
    "plt.show()\n"
   ]
  },
  {
   "cell_type": "code",
   "execution_count": null,
   "id": "6b990f85",
   "metadata": {},
   "outputs": [],
   "source": []
  }
 ],
 "metadata": {
  "kernelspec": {
   "display_name": "Python 3",
   "language": "python",
   "name": "python3"
  },
  "language_info": {
   "codemirror_mode": {
    "name": "ipython",
    "version": 3
   },
   "file_extension": ".py",
   "mimetype": "text/x-python",
   "name": "python",
   "nbconvert_exporter": "python",
   "pygments_lexer": "ipython3",
   "version": "3.9.12"
  }
 },
 "nbformat": 4,
 "nbformat_minor": 5
}
