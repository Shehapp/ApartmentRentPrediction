{
 "cells": [
  {
   "cell_type": "code",
   "execution_count": 225,
   "id": "c67b98f3",
   "metadata": {
    "ExecuteTime": {
     "end_time": "2024-04-13T21:12:25.305458Z",
     "start_time": "2024-04-13T21:12:25.296477Z"
    }
   },
   "outputs": [],
   "source": [
    "import pandas as pd \n",
    "import numpy as np \n",
    "import matplotlib.pyplot as plt "
   ]
  },
  {
   "cell_type": "code",
   "execution_count": 226,
   "id": "eda92c00",
   "metadata": {
    "ExecuteTime": {
     "end_time": "2024-04-13T21:12:25.399977Z",
     "start_time": "2024-04-13T21:12:25.321457Z"
    }
   },
   "outputs": [],
   "source": [
    "data = pd.read_csv(\"ApartmentRentPrediction.csv\")"
   ]
  },
  {
   "cell_type": "code",
   "execution_count": 227,
   "id": "afb0cb21",
   "metadata": {
    "ExecuteTime": {
     "end_time": "2024-04-13T21:12:25.415969Z",
     "start_time": "2024-04-13T21:12:25.401969Z"
    }
   },
   "outputs": [],
   "source": [
    "df = data.copy()"
   ]
  },
  {
   "cell_type": "code",
   "execution_count": 228,
   "id": "375a68c8",
   "metadata": {
    "ExecuteTime": {
     "end_time": "2024-04-13T21:12:25.447970Z",
     "start_time": "2024-04-13T21:12:25.416970Z"
    }
   },
   "outputs": [
    {
     "name": "stdout",
     "output_type": "stream",
     "text": [
      "<class 'pandas.core.frame.DataFrame'>\n",
      "RangeIndex: 9000 entries, 0 to 8999\n",
      "Data columns (total 22 columns):\n",
      " #   Column         Non-Null Count  Dtype  \n",
      "---  ------         --------------  -----  \n",
      " 0   id             9000 non-null   int64  \n",
      " 1   category       9000 non-null   object \n",
      " 2   title          9000 non-null   object \n",
      " 3   body           9000 non-null   object \n",
      " 4   amenities      5815 non-null   object \n",
      " 5   bathrooms      8970 non-null   float64\n",
      " 6   bedrooms       8993 non-null   float64\n",
      " 7   currency       9000 non-null   object \n",
      " 8   fee            9000 non-null   object \n",
      " 9   has_photo      9000 non-null   object \n",
      " 10  pets_allowed   5249 non-null   object \n",
      " 11  price          9000 non-null   int64  \n",
      " 12  price_display  9000 non-null   object \n",
      " 13  price_type     9000 non-null   object \n",
      " 14  square_feet    9000 non-null   int64  \n",
      " 15  address        6029 non-null   object \n",
      " 16  cityname       8934 non-null   object \n",
      " 17  state          8934 non-null   object \n",
      " 18  latitude       8993 non-null   float64\n",
      " 19  longitude      8993 non-null   float64\n",
      " 20  source         9000 non-null   object \n",
      " 21  time           9000 non-null   int64  \n",
      "dtypes: float64(4), int64(4), object(14)\n",
      "memory usage: 1.5+ MB\n"
     ]
    }
   ],
   "source": [
    "data.info()"
   ]
  },
  {
   "cell_type": "code",
   "execution_count": null,
   "id": "f47956ca",
   "metadata": {
    "is_executing": true
   },
   "outputs": [
    {
     "name": "stdout",
     "output_type": "stream",
     "text": [
      "id\n",
      "(9000,)\n",
      "category\n",
      "(3,)\n",
      "title\n",
      "(8441,)\n",
      "body\n",
      "(8969,)\n",
      "amenities\n",
      "(2093,)\n",
      "bathrooms\n",
      "(14,)\n",
      "bedrooms\n",
      "(10,)\n",
      "currency\n",
      "(1,)\n",
      "fee\n",
      "(1,)\n",
      "has_photo\n",
      "(3,)\n",
      "pets_allowed\n",
      "(3,)\n",
      "price\n",
      "(1646,)\n",
      "price_display\n",
      "(1647,)\n",
      "price_type\n",
      "(3,)\n",
      "square_feet\n",
      "(1682,)\n",
      "address\n",
      "(6016,)\n",
      "cityname\n",
      "(1497,)\n",
      "state\n",
      "(50,)\n",
      "latitude\n",
      "(2257,)\n",
      "longitude\n",
      "(2254,)\n",
      "source\n",
      "(11,)\n",
      "time\n",
      "(5886,)\n"
     ]
    }
   ],
   "source": [
    "#columns with  more than 5000 distinct values should be removed or preprocessed to include less range \n",
    "for i  in data.columns:\n",
    "    print(i)\n",
    "    print( data[i].value_counts().shape)"
   ]
  },
  {
   "cell_type": "code",
   "execution_count": null,
   "id": "af372136",
   "metadata": {
    "is_executing": true,
    "ExecuteTime": {
     "start_time": "2024-04-13T21:12:25.480974Z"
    }
   },
   "outputs": [
    {
     "data": {
      "text/plain": "                 id    bathrooms     bedrooms         price   square_feet  \\\ncount  9.000000e+03  8970.000000  8993.000000   9000.000000   9000.000000   \nmean   5.623668e+09     1.380769     1.744023   1487.286222    947.138667   \nstd    7.007402e+07     0.616171     0.942446   1088.561190    668.806214   \nmin    5.508654e+09     1.000000     0.000000    200.000000    106.000000   \n25%    5.509250e+09     1.000000     1.000000    950.000000    650.000000   \n50%    5.668610e+09     1.000000     2.000000   1275.000000    802.000000   \n75%    5.668626e+09     2.000000     2.000000   1695.000000   1100.000000   \nmax    5.668663e+09     8.500000     9.000000  52500.000000  40000.000000   \n\n         latitude    longitude          time  \ncount  8993.00000  8993.000000  9.000000e+03  \nmean     37.67689   -94.778612  1.574906e+09  \nstd       5.51527    15.769232  3.755142e+06  \nmin      21.31550  -158.022100  1.568744e+09  \n25%      33.66200  -101.858700  1.568781e+09  \n50%      38.75550   -93.707700  1.577358e+09  \n75%      41.34980   -82.446800  1.577359e+09  \nmax      61.59400   -70.191600  1.577362e+09  ",
      "text/html": "<div>\n<style scoped>\n    .dataframe tbody tr th:only-of-type {\n        vertical-align: middle;\n    }\n\n    .dataframe tbody tr th {\n        vertical-align: top;\n    }\n\n    .dataframe thead th {\n        text-align: right;\n    }\n</style>\n<table border=\"1\" class=\"dataframe\">\n  <thead>\n    <tr style=\"text-align: right;\">\n      <th></th>\n      <th>id</th>\n      <th>bathrooms</th>\n      <th>bedrooms</th>\n      <th>price</th>\n      <th>square_feet</th>\n      <th>latitude</th>\n      <th>longitude</th>\n      <th>time</th>\n    </tr>\n  </thead>\n  <tbody>\n    <tr>\n      <th>count</th>\n      <td>9.000000e+03</td>\n      <td>8970.000000</td>\n      <td>8993.000000</td>\n      <td>9000.000000</td>\n      <td>9000.000000</td>\n      <td>8993.00000</td>\n      <td>8993.000000</td>\n      <td>9.000000e+03</td>\n    </tr>\n    <tr>\n      <th>mean</th>\n      <td>5.623668e+09</td>\n      <td>1.380769</td>\n      <td>1.744023</td>\n      <td>1487.286222</td>\n      <td>947.138667</td>\n      <td>37.67689</td>\n      <td>-94.778612</td>\n      <td>1.574906e+09</td>\n    </tr>\n    <tr>\n      <th>std</th>\n      <td>7.007402e+07</td>\n      <td>0.616171</td>\n      <td>0.942446</td>\n      <td>1088.561190</td>\n      <td>668.806214</td>\n      <td>5.51527</td>\n      <td>15.769232</td>\n      <td>3.755142e+06</td>\n    </tr>\n    <tr>\n      <th>min</th>\n      <td>5.508654e+09</td>\n      <td>1.000000</td>\n      <td>0.000000</td>\n      <td>200.000000</td>\n      <td>106.000000</td>\n      <td>21.31550</td>\n      <td>-158.022100</td>\n      <td>1.568744e+09</td>\n    </tr>\n    <tr>\n      <th>25%</th>\n      <td>5.509250e+09</td>\n      <td>1.000000</td>\n      <td>1.000000</td>\n      <td>950.000000</td>\n      <td>650.000000</td>\n      <td>33.66200</td>\n      <td>-101.858700</td>\n      <td>1.568781e+09</td>\n    </tr>\n    <tr>\n      <th>50%</th>\n      <td>5.668610e+09</td>\n      <td>1.000000</td>\n      <td>2.000000</td>\n      <td>1275.000000</td>\n      <td>802.000000</td>\n      <td>38.75550</td>\n      <td>-93.707700</td>\n      <td>1.577358e+09</td>\n    </tr>\n    <tr>\n      <th>75%</th>\n      <td>5.668626e+09</td>\n      <td>2.000000</td>\n      <td>2.000000</td>\n      <td>1695.000000</td>\n      <td>1100.000000</td>\n      <td>41.34980</td>\n      <td>-82.446800</td>\n      <td>1.577359e+09</td>\n    </tr>\n    <tr>\n      <th>max</th>\n      <td>5.668663e+09</td>\n      <td>8.500000</td>\n      <td>9.000000</td>\n      <td>52500.000000</td>\n      <td>40000.000000</td>\n      <td>61.59400</td>\n      <td>-70.191600</td>\n      <td>1.577362e+09</td>\n    </tr>\n  </tbody>\n</table>\n</div>"
     },
     "execution_count": 230,
     "metadata": {},
     "output_type": "execute_result"
    }
   ],
   "source": [
    "data.describe()"
   ]
  },
  {
   "cell_type": "code",
   "execution_count": null,
   "id": "295b3972",
   "metadata": {
    "scrolled": true,
    "is_executing": true,
    "ExecuteTime": {
     "start_time": "2024-04-13T21:12:25.512997Z"
    }
   },
   "outputs": [
    {
     "data": {
      "text/plain": "           id                category  \\\n0  5508832632  housing/rent/apartment   \n1  5664576849  housing/rent/apartment   \n2  5668619365  housing/rent/apartment   \n3  5668632604  housing/rent/apartment   \n4  5668637441  housing/rent/apartment   \n\n                                               title  \\\n0  Two BR - $1,194/mo - Apartment - come and see ...   \n1                      One BR 640 West Wilson Street   \n2                           One BR 2777 Sw Archer Rd   \n3                         One BR 534-542 Park Avenue   \n4                     Three BR 2216 S Palm Grove Ave   \n\n                                                body  \\\n0  Come experience. in Cary, NC offering recently...   \n1  This unit is located at 640 West Wilson Street...   \n2  This unit is located at 2777 Sw Archer Rd, Gai...   \n3  This unit is located at 534-542 Park Avenue, O...   \n4  This unit is located at 2216 S Palm Grove Ave,...   \n\n                                           amenities  bathrooms  bedrooms  \\\n0  Clubhouse,Fireplace,Gym,Patio/Deck,Playground,...        2.5       2.0   \n1  Cable or Satellite,Dishwasher,Elevator,Garbage...        1.0       1.0   \n2  Basketball,Cable or Satellite,Dishwasher,Inter...        1.0       1.0   \n3                                                NaN        1.0       1.0   \n4                                                NaN        3.0       3.0   \n\n  currency fee  has_photo  ... price_display  price_type square_feet  \\\n0      USD  No  Thumbnail  ...       $1,194      Monthly         800   \n1      USD  No  Thumbnail  ...       $1,370      Monthly         795   \n2      USD  No  Thumbnail  ...       $1,009      Monthly         560   \n3      USD  No  Thumbnail  ...         $695      Monthly         600   \n4      USD  No  Thumbnail  ...       $3,695      Monthly        1600   \n\n                    address     cityname state latitude longitude  \\\n0                       NaN         Cary    NC  35.7585  -78.7783   \n1        640 West Wilson St      Madison    WI  43.0724  -89.4003   \n2       2777 SW Archer Road  Gainesville    FL  29.6533  -82.3656   \n3          534-542 Park Ave        Omaha    NE  41.2562  -96.0404   \n4  2216 S Palm Grove Avenue  Los Angeles    CA  34.0372 -118.2972   \n\n         source        time  \n0  RentDigs.com  1568755960  \n1     RentLingo  1577015508  \n2     RentLingo  1577358921  \n3     RentLingo  1577359849  \n4     RentLingo  1577360159  \n\n[5 rows x 22 columns]",
      "text/html": "<div>\n<style scoped>\n    .dataframe tbody tr th:only-of-type {\n        vertical-align: middle;\n    }\n\n    .dataframe tbody tr th {\n        vertical-align: top;\n    }\n\n    .dataframe thead th {\n        text-align: right;\n    }\n</style>\n<table border=\"1\" class=\"dataframe\">\n  <thead>\n    <tr style=\"text-align: right;\">\n      <th></th>\n      <th>id</th>\n      <th>category</th>\n      <th>title</th>\n      <th>body</th>\n      <th>amenities</th>\n      <th>bathrooms</th>\n      <th>bedrooms</th>\n      <th>currency</th>\n      <th>fee</th>\n      <th>has_photo</th>\n      <th>...</th>\n      <th>price_display</th>\n      <th>price_type</th>\n      <th>square_feet</th>\n      <th>address</th>\n      <th>cityname</th>\n      <th>state</th>\n      <th>latitude</th>\n      <th>longitude</th>\n      <th>source</th>\n      <th>time</th>\n    </tr>\n  </thead>\n  <tbody>\n    <tr>\n      <th>0</th>\n      <td>5508832632</td>\n      <td>housing/rent/apartment</td>\n      <td>Two BR - $1,194/mo - Apartment - come and see ...</td>\n      <td>Come experience. in Cary, NC offering recently...</td>\n      <td>Clubhouse,Fireplace,Gym,Patio/Deck,Playground,...</td>\n      <td>2.5</td>\n      <td>2.0</td>\n      <td>USD</td>\n      <td>No</td>\n      <td>Thumbnail</td>\n      <td>...</td>\n      <td>$1,194</td>\n      <td>Monthly</td>\n      <td>800</td>\n      <td>NaN</td>\n      <td>Cary</td>\n      <td>NC</td>\n      <td>35.7585</td>\n      <td>-78.7783</td>\n      <td>RentDigs.com</td>\n      <td>1568755960</td>\n    </tr>\n    <tr>\n      <th>1</th>\n      <td>5664576849</td>\n      <td>housing/rent/apartment</td>\n      <td>One BR 640 West Wilson Street</td>\n      <td>This unit is located at 640 West Wilson Street...</td>\n      <td>Cable or Satellite,Dishwasher,Elevator,Garbage...</td>\n      <td>1.0</td>\n      <td>1.0</td>\n      <td>USD</td>\n      <td>No</td>\n      <td>Thumbnail</td>\n      <td>...</td>\n      <td>$1,370</td>\n      <td>Monthly</td>\n      <td>795</td>\n      <td>640 West Wilson St</td>\n      <td>Madison</td>\n      <td>WI</td>\n      <td>43.0724</td>\n      <td>-89.4003</td>\n      <td>RentLingo</td>\n      <td>1577015508</td>\n    </tr>\n    <tr>\n      <th>2</th>\n      <td>5668619365</td>\n      <td>housing/rent/apartment</td>\n      <td>One BR 2777 Sw Archer Rd</td>\n      <td>This unit is located at 2777 Sw Archer Rd, Gai...</td>\n      <td>Basketball,Cable or Satellite,Dishwasher,Inter...</td>\n      <td>1.0</td>\n      <td>1.0</td>\n      <td>USD</td>\n      <td>No</td>\n      <td>Thumbnail</td>\n      <td>...</td>\n      <td>$1,009</td>\n      <td>Monthly</td>\n      <td>560</td>\n      <td>2777 SW Archer Road</td>\n      <td>Gainesville</td>\n      <td>FL</td>\n      <td>29.6533</td>\n      <td>-82.3656</td>\n      <td>RentLingo</td>\n      <td>1577358921</td>\n    </tr>\n    <tr>\n      <th>3</th>\n      <td>5668632604</td>\n      <td>housing/rent/apartment</td>\n      <td>One BR 534-542 Park Avenue</td>\n      <td>This unit is located at 534-542 Park Avenue, O...</td>\n      <td>NaN</td>\n      <td>1.0</td>\n      <td>1.0</td>\n      <td>USD</td>\n      <td>No</td>\n      <td>Thumbnail</td>\n      <td>...</td>\n      <td>$695</td>\n      <td>Monthly</td>\n      <td>600</td>\n      <td>534-542 Park Ave</td>\n      <td>Omaha</td>\n      <td>NE</td>\n      <td>41.2562</td>\n      <td>-96.0404</td>\n      <td>RentLingo</td>\n      <td>1577359849</td>\n    </tr>\n    <tr>\n      <th>4</th>\n      <td>5668637441</td>\n      <td>housing/rent/apartment</td>\n      <td>Three BR 2216 S Palm Grove Ave</td>\n      <td>This unit is located at 2216 S Palm Grove Ave,...</td>\n      <td>NaN</td>\n      <td>3.0</td>\n      <td>3.0</td>\n      <td>USD</td>\n      <td>No</td>\n      <td>Thumbnail</td>\n      <td>...</td>\n      <td>$3,695</td>\n      <td>Monthly</td>\n      <td>1600</td>\n      <td>2216 S Palm Grove Avenue</td>\n      <td>Los Angeles</td>\n      <td>CA</td>\n      <td>34.0372</td>\n      <td>-118.2972</td>\n      <td>RentLingo</td>\n      <td>1577360159</td>\n    </tr>\n  </tbody>\n</table>\n<p>5 rows × 22 columns</p>\n</div>"
     },
     "execution_count": 231,
     "metadata": {},
     "output_type": "execute_result"
    }
   ],
   "source": [
    "data.head(5)"
   ]
  },
  {
   "cell_type": "code",
   "execution_count": null,
   "id": "0bd961d7",
   "metadata": {
    "scrolled": true,
    "is_executing": true,
    "ExecuteTime": {
     "start_time": "2024-04-13T21:12:25.528997Z"
    }
   },
   "outputs": [
    {
     "name": "stdout",
     "output_type": "stream",
     "text": [
      "<class 'pandas.core.frame.DataFrame'>\n",
      "RangeIndex: 9000 entries, 0 to 8999\n",
      "Data columns (total 22 columns):\n",
      " #   Column         Non-Null Count  Dtype  \n",
      "---  ------         --------------  -----  \n",
      " 0   id             9000 non-null   int64  \n",
      " 1   category       9000 non-null   object \n",
      " 2   title          9000 non-null   object \n",
      " 3   body           9000 non-null   object \n",
      " 4   amenities      5815 non-null   object \n",
      " 5   bathrooms      8970 non-null   float64\n",
      " 6   bedrooms       8993 non-null   float64\n",
      " 7   currency       9000 non-null   object \n",
      " 8   fee            9000 non-null   object \n",
      " 9   has_photo      9000 non-null   object \n",
      " 10  pets_allowed   5249 non-null   object \n",
      " 11  price          9000 non-null   int64  \n",
      " 12  price_display  9000 non-null   object \n",
      " 13  price_type     9000 non-null   object \n",
      " 14  square_feet    9000 non-null   int64  \n",
      " 15  address        6029 non-null   object \n",
      " 16  cityname       8934 non-null   object \n",
      " 17  state          8934 non-null   object \n",
      " 18  latitude       8993 non-null   float64\n",
      " 19  longitude      8993 non-null   float64\n",
      " 20  source         9000 non-null   object \n",
      " 21  time           9000 non-null   int64  \n",
      "dtypes: float64(4), int64(4), object(14)\n",
      "memory usage: 1.5+ MB\n"
     ]
    }
   ],
   "source": [
    "df.info()"
   ]
  },
  {
   "cell_type": "markdown",
   "id": "6ef8c537",
   "metadata": {},
   "source": [
    "## Null values"
   ]
  },
  {
   "cell_type": "code",
   "execution_count": null,
   "id": "a5ee2e6c",
   "metadata": {
    "scrolled": true,
    "is_executing": true,
    "ExecuteTime": {
     "start_time": "2024-04-13T21:12:25.560998Z"
    }
   },
   "outputs": [
    {
     "data": {
      "text/plain": "id                  0\ncategory            0\ntitle               0\nbody                0\namenities        3185\nbathrooms          30\nbedrooms            7\ncurrency            0\nfee                 0\nhas_photo           0\npets_allowed     3751\nprice               0\nprice_display       0\nprice_type          0\nsquare_feet         0\naddress          2971\ncityname           66\nstate              66\nlatitude            7\nlongitude           7\nsource              0\ntime                0\ndtype: int64"
     },
     "execution_count": 233,
     "metadata": {},
     "output_type": "execute_result"
    }
   ],
   "source": [
    "df.isna().sum()"
   ]
  },
  {
   "cell_type": "code",
   "execution_count": null,
   "id": "21984765",
   "metadata": {
    "is_executing": true,
    "ExecuteTime": {
     "start_time": "2024-04-13T21:12:25.592557Z"
    }
   },
   "outputs": [],
   "source": [
    "object_columns_na = (\"amenities\",\"pets_allowed\",\"address\",\"cityname\",\"state\")"
   ]
  },
  {
   "cell_type": "code",
   "execution_count": null,
   "id": "7a807a0c",
   "metadata": {
    "scrolled": true,
    "is_executing": true,
    "ExecuteTime": {
     "start_time": "2024-04-13T21:12:25.609552Z"
    }
   },
   "outputs": [
    {
     "name": "stdout",
     "output_type": "stream",
     "text": [
      "=================================\n",
      "amenities\n",
      "Parking                                                                                                         212\n",
      "Dishwasher,Refrigerator                                                                                         200\n",
      "Pool                                                                                                            148\n",
      "Dishwasher,Parking,Pool                                                                                         134\n",
      "Dishwasher                                                                                                      133\n",
      "                                                                                                               ... \n",
      "Dishwasher,Garbage Disposal,Gated,Hot Tub,Parking,Patio/Deck,Pool,Refrigerator,Storage                            1\n",
      "Cable or Satellite,Dishwasher,Fireplace,Internet Access,Parking,Patio/Deck,Pool,Refrigerator,Storage              1\n",
      "AC,Basketball,Cable or Satellite,Dishwasher,Gym,Parking,Patio/Deck,Playground,Pool,Refrigerator,Washer Dryer      1\n",
      "AC,Basketball,Cable or Satellite,Clubhouse,Elevator,Fireplace,Gated,Gym,Parking,Pool,Storage,Washer Dryer         1\n",
      "Dishwasher,Fireplace,Parking,Pool,Refrigerator,Storage                                                            1\n",
      "Name: amenities, Length: 2093, dtype: int64\n",
      "=================================\n",
      "pets_allowed\n",
      "Cats,Dogs    4702\n",
      "Cats          433\n",
      "Dogs          114\n",
      "Name: pets_allowed, dtype: int64\n",
      "=================================\n",
      "address\n",
      "500 Sleepy Hollow Rd           3\n",
      "908 8th SW St                  3\n",
      "7098 Fernwood St               2\n",
      "2571 Lake Worth Road           2\n",
      "#4 Pahrump Valley Boulevard    2\n",
      "                              ..\n",
      "8 South 8th St                 1\n",
      "277-279 Columbus Ave           1\n",
      "9860 Fairfax Square            1\n",
      "5700 S Blackstone Avenue       1\n",
      "5505 Zelzah Ave                1\n",
      "Name: address, Length: 6016, dtype: int64\n",
      "=================================\n",
      "cityname\n",
      "Austin         482\n",
      "Dallas         194\n",
      "Houston        173\n",
      "San Antonio    169\n",
      "Los Angeles    151\n",
      "              ... \n",
      "Santa Ana        1\n",
      "Coppell          1\n",
      "Fernley          1\n",
      "Chubbuck         1\n",
      "Camas            1\n",
      "Name: cityname, Length: 1497, dtype: int64\n",
      "=================================\n",
      "state\n",
      "TX    1588\n",
      "CA     863\n",
      "WA     471\n",
      "NC     400\n",
      "MD     373\n",
      "NJ     341\n",
      "GA     332\n",
      "FL     297\n",
      "CO     292\n",
      "OH     284\n",
      "WI     264\n",
      "IL     262\n",
      "IN     216\n",
      "MO     215\n",
      "MN     201\n",
      "OR     184\n",
      "VA     182\n",
      "IA     163\n",
      "MI     162\n",
      "PA     161\n",
      "OK     154\n",
      "MA     138\n",
      "AZ     115\n",
      "NV     108\n",
      "ND      97\n",
      "CT      89\n",
      "NE      89\n",
      "TN      86\n",
      "KS      76\n",
      "UT      74\n",
      "DC      71\n",
      "SC      71\n",
      "NY      63\n",
      "NH      61\n",
      "LA      61\n",
      "SD      59\n",
      "AR      54\n",
      "AL      52\n",
      "AK      42\n",
      "KY      40\n",
      "ID      16\n",
      "VT      14\n",
      "HI      11\n",
      "RI      10\n",
      "NM       9\n",
      "MS       7\n",
      "MT       7\n",
      "DE       5\n",
      "WV       3\n",
      "WY       1\n",
      "Name: state, dtype: int64\n"
     ]
    }
   ],
   "source": [
    "for i in object_columns_na:\n",
    "    print(\"=================================\")\n",
    "    print(i)\n",
    "    print(df[i].value_counts())"
   ]
  },
  {
   "cell_type": "code",
   "execution_count": null,
   "id": "1bc130dc",
   "metadata": {
    "is_executing": true,
    "ExecuteTime": {
     "start_time": "2024-04-13T21:12:25.641552Z"
    }
   },
   "outputs": [],
   "source": [
    "#unknown city can be predicted from state but now for simplicity will be replaced with mode \n",
    "\n",
    "from statistics import mode\n",
    "df[\"amenities\"].fillna(\"Parking\", inplace=True)\n",
    "df[\"pets_allowed\"].fillna(mode(df[\"pets_allowed\"]), inplace=True)\n",
    "df[\"cityname\"].fillna(mode(df[\"cityname\"]), inplace=True)\n",
    "df[\"state\"].fillna(mode(df[\"state\"]), inplace=True)\n"
   ]
  },
  {
   "cell_type": "code",
   "execution_count": null,
   "id": "9164edb0",
   "metadata": {
    "is_executing": true,
    "ExecuteTime": {
     "start_time": "2024-04-13T21:12:25.688078Z"
    }
   },
   "outputs": [],
   "source": [
    "import re\n",
    "def extract_road_name(address):\n",
    "    \n",
    "    pattern = r'\\d*\\s+([\\w\\s]+)\\s+\\w+$'\n",
    "    match = re.search(pattern, address)\n",
    "    \n",
    "    if match:\n",
    "        road_name = match.group(1)\n",
    "        return road_name\n",
    "    else:\n",
    "        \n",
    "        return None"
   ]
  },
  {
   "cell_type": "code",
   "execution_count": null,
   "id": "e7878a43",
   "metadata": {
    "is_executing": true,
    "ExecuteTime": {
     "start_time": "2024-04-13T21:12:25.720076Z"
    }
   },
   "outputs": [],
   "source": [
    "df[\"address\"] = df[\"address\"].apply(lambda x: extract_road_name(x) if pd.notnull(x) else x)"
   ]
  },
  {
   "cell_type": "code",
   "execution_count": null,
   "id": "c3b27df8",
   "metadata": {
    "is_executing": true,
    "ExecuteTime": {
     "start_time": "2024-04-13T21:12:25.783080Z"
    }
   },
   "outputs": [],
   "source": [
    "df[\"address\"].fillna(method='ffill', inplace=True)\n"
   ]
  },
  {
   "cell_type": "code",
   "execution_count": 236,
   "id": "09b542dd",
   "metadata": {
    "ExecuteTime": {
     "end_time": "2024-04-13T21:12:25.639562Z",
     "start_time": "2024-04-13T21:12:25.624551Z"
    }
   },
   "outputs": [
    {
     "data": {
      "text/plain": "500 Sleepy Hollow Rd           3\n908 8th SW St                  3\n7098 Fernwood St               2\n2571 Lake Worth Road           2\n#4 Pahrump Valley Boulevard    2\n                              ..\n8 South 8th St                 1\n277-279 Columbus Ave           1\n9860 Fairfax Square            1\n5700 S Blackstone Avenue       1\n5505 Zelzah Ave                1\nName: address, Length: 6016, dtype: int64"
     },
     "execution_count": 236,
     "metadata": {},
     "output_type": "execute_result"
    }
   ],
   "source": [
    "df[\"address\"].value_counts()"
   ]
  },
  {
   "cell_type": "code",
   "execution_count": 238,
   "id": "fc023f8c",
   "metadata": {
    "ExecuteTime": {
     "end_time": "2024-04-13T21:12:25.687086Z",
     "start_time": "2024-04-13T21:12:25.656552Z"
    }
   },
   "outputs": [
    {
     "name": "stdout",
     "output_type": "stream",
     "text": [
      "<class 'pandas.core.frame.DataFrame'>\n",
      "RangeIndex: 9000 entries, 0 to 8999\n",
      "Data columns (total 22 columns):\n",
      " #   Column         Non-Null Count  Dtype  \n",
      "---  ------         --------------  -----  \n",
      " 0   id             9000 non-null   int64  \n",
      " 1   category       9000 non-null   object \n",
      " 2   title          9000 non-null   object \n",
      " 3   body           9000 non-null   object \n",
      " 4   amenities      9000 non-null   object \n",
      " 5   bathrooms      8970 non-null   float64\n",
      " 6   bedrooms       8993 non-null   float64\n",
      " 7   currency       9000 non-null   object \n",
      " 8   fee            9000 non-null   object \n",
      " 9   has_photo      9000 non-null   object \n",
      " 10  pets_allowed   9000 non-null   object \n",
      " 11  price          9000 non-null   int64  \n",
      " 12  price_display  9000 non-null   object \n",
      " 13  price_type     9000 non-null   object \n",
      " 14  square_feet    9000 non-null   int64  \n",
      " 15  address        6029 non-null   object \n",
      " 16  cityname       9000 non-null   object \n",
      " 17  state          9000 non-null   object \n",
      " 18  latitude       8993 non-null   float64\n",
      " 19  longitude      8993 non-null   float64\n",
      " 20  source         9000 non-null   object \n",
      " 21  time           9000 non-null   int64  \n",
      "dtypes: float64(4), int64(4), object(14)\n",
      "memory usage: 1.5+ MB\n"
     ]
    }
   ],
   "source": [
    "df.info()"
   ]
  },
  {
   "cell_type": "markdown",
   "id": "d86244d0",
   "metadata": {},
   "source": [
    "# tarek -> object columns preprocessing and plotting\n",
    "# shehap - > int/float preprocessing and plotting "
   ]
  },
  {
   "cell_type": "code",
   "outputs": [
    {
     "data": {
      "text/plain": "                 category                                              title  \\\n0  housing/rent/apartment  Two BR - $1,194/mo - Apartment - come and see ...   \n1  housing/rent/apartment                      One BR 640 West Wilson Street   \n2  housing/rent/apartment                           One BR 2777 Sw Archer Rd   \n3  housing/rent/apartment                         One BR 534-542 Park Avenue   \n4  housing/rent/apartment                     Three BR 2216 S Palm Grove Ave   \n\n                                                body  \\\n0  Come experience. in Cary, NC offering recently...   \n1  This unit is located at 640 West Wilson Street...   \n2  This unit is located at 2777 Sw Archer Rd, Gai...   \n3  This unit is located at 534-542 Park Avenue, O...   \n4  This unit is located at 2216 S Palm Grove Ave,...   \n\n                                           amenities  bathrooms  bedrooms  \\\n0  Clubhouse,Fireplace,Gym,Patio/Deck,Playground,...        2.5       2.0   \n1  Cable or Satellite,Dishwasher,Elevator,Garbage...        1.0       1.0   \n2  Basketball,Cable or Satellite,Dishwasher,Inter...        1.0       1.0   \n3                                            Parking        1.0       1.0   \n4                                            Parking        3.0       3.0   \n\n  currency fee  has_photo pets_allowed  ...  price_display price_type  \\\n0      USD  No  Thumbnail    Cats,Dogs  ...        $1,194     Monthly   \n1      USD  No  Thumbnail    Cats,Dogs  ...        $1,370     Monthly   \n2      USD  No  Thumbnail    Cats,Dogs  ...        $1,009     Monthly   \n3      USD  No  Thumbnail    Cats,Dogs  ...          $695     Monthly   \n4      USD  No  Thumbnail    Cats,Dogs  ...        $3,695     Monthly   \n\n  square_feet                   address     cityname state latitude  \\\n0         800                       NaN         Cary    NC  35.7585   \n1         795        640 West Wilson St      Madison    WI  43.0724   \n2         560       2777 SW Archer Road  Gainesville    FL  29.6533   \n3         600          534-542 Park Ave        Omaha    NE  41.2562   \n4        1600  2216 S Palm Grove Avenue  Los Angeles    CA  34.0372   \n\n   longitude        source        time  \n0   -78.7783  RentDigs.com  1568755960  \n1   -89.4003     RentLingo  1577015508  \n2   -82.3656     RentLingo  1577358921  \n3   -96.0404     RentLingo  1577359849  \n4  -118.2972     RentLingo  1577360159  \n\n[5 rows x 21 columns]",
      "text/html": "<div>\n<style scoped>\n    .dataframe tbody tr th:only-of-type {\n        vertical-align: middle;\n    }\n\n    .dataframe tbody tr th {\n        vertical-align: top;\n    }\n\n    .dataframe thead th {\n        text-align: right;\n    }\n</style>\n<table border=\"1\" class=\"dataframe\">\n  <thead>\n    <tr style=\"text-align: right;\">\n      <th></th>\n      <th>category</th>\n      <th>title</th>\n      <th>body</th>\n      <th>amenities</th>\n      <th>bathrooms</th>\n      <th>bedrooms</th>\n      <th>currency</th>\n      <th>fee</th>\n      <th>has_photo</th>\n      <th>pets_allowed</th>\n      <th>...</th>\n      <th>price_display</th>\n      <th>price_type</th>\n      <th>square_feet</th>\n      <th>address</th>\n      <th>cityname</th>\n      <th>state</th>\n      <th>latitude</th>\n      <th>longitude</th>\n      <th>source</th>\n      <th>time</th>\n    </tr>\n  </thead>\n  <tbody>\n    <tr>\n      <th>0</th>\n      <td>housing/rent/apartment</td>\n      <td>Two BR - $1,194/mo - Apartment - come and see ...</td>\n      <td>Come experience. in Cary, NC offering recently...</td>\n      <td>Clubhouse,Fireplace,Gym,Patio/Deck,Playground,...</td>\n      <td>2.5</td>\n      <td>2.0</td>\n      <td>USD</td>\n      <td>No</td>\n      <td>Thumbnail</td>\n      <td>Cats,Dogs</td>\n      <td>...</td>\n      <td>$1,194</td>\n      <td>Monthly</td>\n      <td>800</td>\n      <td>NaN</td>\n      <td>Cary</td>\n      <td>NC</td>\n      <td>35.7585</td>\n      <td>-78.7783</td>\n      <td>RentDigs.com</td>\n      <td>1568755960</td>\n    </tr>\n    <tr>\n      <th>1</th>\n      <td>housing/rent/apartment</td>\n      <td>One BR 640 West Wilson Street</td>\n      <td>This unit is located at 640 West Wilson Street...</td>\n      <td>Cable or Satellite,Dishwasher,Elevator,Garbage...</td>\n      <td>1.0</td>\n      <td>1.0</td>\n      <td>USD</td>\n      <td>No</td>\n      <td>Thumbnail</td>\n      <td>Cats,Dogs</td>\n      <td>...</td>\n      <td>$1,370</td>\n      <td>Monthly</td>\n      <td>795</td>\n      <td>640 West Wilson St</td>\n      <td>Madison</td>\n      <td>WI</td>\n      <td>43.0724</td>\n      <td>-89.4003</td>\n      <td>RentLingo</td>\n      <td>1577015508</td>\n    </tr>\n    <tr>\n      <th>2</th>\n      <td>housing/rent/apartment</td>\n      <td>One BR 2777 Sw Archer Rd</td>\n      <td>This unit is located at 2777 Sw Archer Rd, Gai...</td>\n      <td>Basketball,Cable or Satellite,Dishwasher,Inter...</td>\n      <td>1.0</td>\n      <td>1.0</td>\n      <td>USD</td>\n      <td>No</td>\n      <td>Thumbnail</td>\n      <td>Cats,Dogs</td>\n      <td>...</td>\n      <td>$1,009</td>\n      <td>Monthly</td>\n      <td>560</td>\n      <td>2777 SW Archer Road</td>\n      <td>Gainesville</td>\n      <td>FL</td>\n      <td>29.6533</td>\n      <td>-82.3656</td>\n      <td>RentLingo</td>\n      <td>1577358921</td>\n    </tr>\n    <tr>\n      <th>3</th>\n      <td>housing/rent/apartment</td>\n      <td>One BR 534-542 Park Avenue</td>\n      <td>This unit is located at 534-542 Park Avenue, O...</td>\n      <td>Parking</td>\n      <td>1.0</td>\n      <td>1.0</td>\n      <td>USD</td>\n      <td>No</td>\n      <td>Thumbnail</td>\n      <td>Cats,Dogs</td>\n      <td>...</td>\n      <td>$695</td>\n      <td>Monthly</td>\n      <td>600</td>\n      <td>534-542 Park Ave</td>\n      <td>Omaha</td>\n      <td>NE</td>\n      <td>41.2562</td>\n      <td>-96.0404</td>\n      <td>RentLingo</td>\n      <td>1577359849</td>\n    </tr>\n    <tr>\n      <th>4</th>\n      <td>housing/rent/apartment</td>\n      <td>Three BR 2216 S Palm Grove Ave</td>\n      <td>This unit is located at 2216 S Palm Grove Ave,...</td>\n      <td>Parking</td>\n      <td>3.0</td>\n      <td>3.0</td>\n      <td>USD</td>\n      <td>No</td>\n      <td>Thumbnail</td>\n      <td>Cats,Dogs</td>\n      <td>...</td>\n      <td>$3,695</td>\n      <td>Monthly</td>\n      <td>1600</td>\n      <td>2216 S Palm Grove Avenue</td>\n      <td>Los Angeles</td>\n      <td>CA</td>\n      <td>34.0372</td>\n      <td>-118.2972</td>\n      <td>RentLingo</td>\n      <td>1577360159</td>\n    </tr>\n  </tbody>\n</table>\n<p>5 rows × 21 columns</p>\n</div>"
     },
     "execution_count": 240,
     "metadata": {},
     "output_type": "execute_result"
    }
   ],
   "source": [
    "# id column\n",
    "df.drop(\"id\", axis=1, inplace=True)\n",
    "df.head()"
   ],
   "metadata": {
    "collapsed": false,
    "ExecuteTime": {
     "end_time": "2024-04-13T21:12:25.719093Z",
     "start_time": "2024-04-13T21:12:25.704077Z"
    }
   },
   "id": "6ffa2993863f5bf7",
   "execution_count": 240
  },
  {
   "cell_type": "code",
   "outputs": [
    {
     "name": "stdout",
     "output_type": "stream",
     "text": [
      "1    6257\n",
      "2    2459\n",
      "3     221\n",
      "4      50\n",
      "5      13\n",
      "Name: bathrooms, dtype: int64\n"
     ]
    }
   ],
   "source": [
    "# bathrooms column\n",
    "\n",
    "#replace nan with mean\n",
    "df[\"bathrooms\"].fillna(df[\"bathrooms\"].mean(), inplace=True)\n",
    "\n",
    "#floor it 1.5 => 1\n",
    "df[\"bathrooms\"] = df[\"bathrooms\"].apply(lambda x: int(x))\n",
    "\n",
    "# if value is greater than 4 replace it with 5\n",
    "df[\"bathrooms\"] = df[\"bathrooms\"].apply(lambda x: 5 if x > 4 else x)\n",
    "print(df[\"bathrooms\"].value_counts())\n",
    "\n",
    "# apply one hot encoding \n",
    "df = pd.concat([df, pd.get_dummies(df[\"bathrooms\"], prefix=\"bathrooms\")], axis=1)\n",
    "df.drop(\"bathrooms\", axis=1, inplace=True)"
   ],
   "metadata": {
    "collapsed": false,
    "ExecuteTime": {
     "end_time": "2024-04-13T21:12:25.782088Z",
     "start_time": "2024-04-13T21:12:25.752077Z"
    }
   },
   "id": "e6736d83296ae4e1",
   "execution_count": 242
  },
  {
   "cell_type": "code",
   "outputs": [
    {
     "name": "stdout",
     "output_type": "stream",
     "text": [
      "1    4175\n",
      "2    3036\n",
      "3    1153\n",
      "4     368\n",
      "0     171\n",
      "5      97\n",
      "Name: bedrooms, dtype: int64\n"
     ]
    }
   ],
   "source": [
    "# bedrooms column\n",
    "\n",
    "#replace nan with mean\n",
    "df[\"bedrooms\"].fillna(df[\"bedrooms\"].mean(), inplace=True)\n",
    "\n",
    "df[\"bedrooms\"] = df[\"bedrooms\"].apply(lambda x: int(x))\n",
    "\n",
    "\n",
    "df[\"bedrooms\"] = df[\"bedrooms\"].apply(lambda x: 5 if x > 5 else x)\n",
    "\n",
    "print(df[\"bedrooms\"].value_counts())\n",
    "\n",
    "# apply one hot encoding \n",
    "df = pd.concat([df, pd.get_dummies(df[\"bedrooms\"], prefix=\"bedrooms\")], axis=1)\n",
    "df.drop(\"bedrooms\", axis=1, inplace=True)"
   ],
   "metadata": {
    "collapsed": false,
    "ExecuteTime": {
     "end_time": "2024-04-13T21:12:25.813373Z",
     "start_time": "2024-04-13T21:12:25.798374Z"
    }
   },
   "id": "31ac3666f4a40bfd",
   "execution_count": 244
  },
  {
   "cell_type": "code",
   "outputs": [
    {
     "name": "stdout",
     "output_type": "stream",
     "text": [
      "Index(['category', 'title', 'body', 'amenities', 'currency', 'fee',\n",
      "       'has_photo', 'pets_allowed', 'price', 'price_display', 'price_type',\n",
      "       'square_feet', 'address', 'cityname', 'state', 'latitude', 'longitude',\n",
      "       'source', 'time', 'bathrooms_1', 'bathrooms_2', 'bathrooms_3',\n",
      "       'bathrooms_4', 'bathrooms_5', 'bedrooms_0', 'bedrooms_1', 'bedrooms_2',\n",
      "       'bedrooms_3', 'bedrooms_4', 'bedrooms_5'],\n",
      "      dtype='object')\n"
     ]
    }
   ],
   "source": [
    "print(df.columns)"
   ],
   "metadata": {
    "collapsed": false,
    "ExecuteTime": {
     "end_time": "2024-04-13T21:12:36.183771Z",
     "start_time": "2024-04-13T21:12:36.177756Z"
    }
   },
   "id": "8f832da6a94e4590",
   "execution_count": 246
  },
  {
   "cell_type": "markdown",
   "source": [],
   "metadata": {
    "collapsed": false
   },
   "id": "c16803549d889997"
  }
 ],
 "metadata": {
  "kernelspec": {
   "display_name": "Python 3 (ipykernel)",
   "language": "python",
   "name": "python3"
  },
  "language_info": {
   "codemirror_mode": {
    "name": "ipython",
    "version": 3
   },
   "file_extension": ".py",
   "mimetype": "text/x-python",
   "name": "python",
   "nbconvert_exporter": "python",
   "pygments_lexer": "ipython3",
   "version": "3.9.12"
  }
 },
 "nbformat": 4,
 "nbformat_minor": 5
}
