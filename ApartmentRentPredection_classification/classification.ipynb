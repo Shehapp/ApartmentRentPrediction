{
 "cells": [
  {
   "cell_type": "code",
   "execution_count": 1,
   "id": "107a350e",
   "metadata": {},
   "outputs": [],
   "source": [
    "import pickle\n",
    "import time\n",
    "import pandas as pd \n",
    "import numpy as np \n",
    "import matplotlib.pyplot as plt \n",
    "import seaborn as sns\n",
    "from sklearn.model_selection import train_test_split, cross_val_score\n",
    "from sklearn.linear_model import LinearRegression,Ridge,LogisticRegression\n",
    "from sklearn.tree import DecisionTreeRegressor \n",
    "from sklearn.preprocessing import PolynomialFeatures\n",
    "from sklearn.metrics import mean_squared_error,r2_score,mean_absolute_error,accuracy_score\n",
    "from sklearn.ensemble import RandomForestRegressor , RandomForestClassifier ,GradientBoostingClassifier\n",
    "from sklearn.svm import SVC"
   ]
  },
  {
   "cell_type": "code",
   "execution_count": 2,
   "id": "c2434453",
   "metadata": {},
   "outputs": [],
   "source": [
    "data = pd.read_csv(\"ApartmentRentPrediction_Milestone2.csv\")"
   ]
  },
  {
   "cell_type": "code",
   "execution_count": 3,
   "id": "9ba007d0",
   "metadata": {},
   "outputs": [],
   "source": [
    "df = data.copy()"
   ]
  },
  {
   "cell_type": "code",
   "execution_count": 4,
   "id": "f92db8b3",
   "metadata": {},
   "outputs": [
    {
     "name": "stdout",
     "output_type": "stream",
     "text": [
      "<class 'pandas.core.frame.DataFrame'>\n",
      "RangeIndex: 9000 entries, 0 to 8999\n",
      "Data columns (total 21 columns):\n",
      " #   Column        Non-Null Count  Dtype  \n",
      "---  ------        --------------  -----  \n",
      " 0   id            9000 non-null   int64  \n",
      " 1   category      9000 non-null   object \n",
      " 2   title         9000 non-null   object \n",
      " 3   body          9000 non-null   object \n",
      " 4   amenities     5815 non-null   object \n",
      " 5   bathrooms     8970 non-null   float64\n",
      " 6   bedrooms      8993 non-null   float64\n",
      " 7   currency      9000 non-null   object \n",
      " 8   fee           9000 non-null   object \n",
      " 9   has_photo     9000 non-null   object \n",
      " 10  pets_allowed  5249 non-null   object \n",
      " 11  RentCategory  9000 non-null   object \n",
      " 12  price_type    9000 non-null   object \n",
      " 13  square_feet   9000 non-null   int64  \n",
      " 14  address       6029 non-null   object \n",
      " 15  cityname      8934 non-null   object \n",
      " 16  state         8934 non-null   object \n",
      " 17  latitude      8993 non-null   float64\n",
      " 18  longitude     8993 non-null   float64\n",
      " 19  source        9000 non-null   object \n",
      " 20  time          9000 non-null   int64  \n",
      "dtypes: float64(4), int64(3), object(14)\n",
      "memory usage: 1.4+ MB\n"
     ]
    }
   ],
   "source": [
    "data.info()"
   ]
  },
  {
   "cell_type": "code",
   "execution_count": 5,
   "id": "5f88a3eb",
   "metadata": {},
   "outputs": [
    {
     "data": {
      "text/plain": [
       "<AxesSubplot:xlabel='RentCategory', ylabel='count'>"
      ]
     },
     "execution_count": 5,
     "metadata": {},
     "output_type": "execute_result"
    },
    {
     "data": {
      "image/png": "[encoded data removed]",
      "text/plain": [
       "<Figure size 432x288 with 1 Axes>"
      ]
     },
     "metadata": {
      "needs_background": "light"
     },
     "output_type": "display_data"
    }
   ],
   "source": [
    "sns.countplot(x = df[\"RentCategory\"])"
   ]
  },
  {
   "cell_type": "code",
   "execution_count": 6,
   "id": "e57586e0",
   "metadata": {},
   "outputs": [],
   "source": [
    "object_columns_na = (\"amenities\",\"pets_allowed\",\"address\",\"cityname\",\"state\",\"price_type\")"
   ]
  },
  {
   "cell_type": "code",
   "execution_count": 7,
   "id": "c383d920",
   "metadata": {},
   "outputs": [],
   "source": [
    "#unknown city can be predicted from state but now for simplicity will be replaced with mode \n",
    "\n",
    "from statistics import mode\n",
    "df[\"amenities\"].fillna(\"Parking\", inplace=True)\n",
    "df[\"pets_allowed\"].fillna(mode(df[\"pets_allowed\"]), inplace=True)\n",
    "df[\"cityname\"].fillna(mode(df[\"cityname\"]), inplace=True)\n",
    "df[\"state\"].fillna(mode(df[\"state\"]), inplace=True)\n",
    "df[\"address\"].fillna(method='ffill', inplace=True)\n",
    "df[\"bedrooms\"].fillna(df[\"bedrooms\"].mean(), inplace=True)\n",
    "df[\"bathrooms\"].fillna(df[\"bathrooms\"].mean(), inplace=True)\n",
    "df[\"longitude\"].fillna(df[\"longitude\"].mean(), inplace=True)\n",
    "df[\"latitude\"].fillna(df[\"latitude\"].mean(), inplace=True)\n",
    "\n",
    "\n",
    "mode_mean_values = {\n",
    "    \"pets_allowed_mode\": df[\"pets_allowed\"].mode()[0],\n",
    "    \"cityname_mode\": df[\"cityname\"].mode()[0],\n",
    "    \"state_mode\": df[\"state\"].mode()[0],\n",
    "    \"bedrooms_mean\": df[\"bedrooms\"].mean(),\n",
    "    \"bathrooms_mean\": df[\"bathrooms\"].mean(),\n",
    "    \"longitude_mean\": df[\"longitude\"].mean(),\n",
    "    \"latitude_mean\": df[\"latitude\"].mean()\n",
    "}"
   ]
  },
  {
   "cell_type": "code",
   "execution_count": 8,
   "id": "2fe941ba",
   "metadata": {},
   "outputs": [],
   "source": [
    "with open(\"mode_values.pickle\", \"wb\") as f:\n",
    "    pickle.dump(mode_mean_values, f)\n",
    "\n",
    "    "
   ]
  },
  {
   "cell_type": "code",
   "execution_count": 9,
   "id": "48141088",
   "metadata": {},
   "outputs": [],
   "source": [
    "df[\"body_count\"]=df[\"body\"].apply(lambda x : len(str(x).replace(\" \", \"\")))\n",
    "df[\"title_count\"]=df[\"title\"].apply(lambda x : len(str(x).replace(\" \", \"\")))\n"
   ]
  },
  {
   "cell_type": "code",
   "execution_count": 10,
   "id": "b1a4b016",
   "metadata": {},
   "outputs": [],
   "source": [
    "\n",
    "bins1 = [0, 300, 750, float('inf')]\n",
    "labels = ['sm', 'av', 'High']\n",
    "bins2= [0, 18, 48, float('inf')]\n",
    "body_count_category = pd.cut(df['body_count'], bins=bins1, labels=labels, right=False)\n",
    "title_count_category = pd.cut(df['title_count'], bins=bins2, labels=labels, right=False)"
   ]
  },
  {
   "cell_type": "code",
   "execution_count": 11,
   "id": "fb2d92db",
   "metadata": {},
   "outputs": [],
   "source": [
    "from collections import Counter\n",
    "words = ' '.join(df['amenities']).split(',')\n",
    "word_counts = Counter(words)\n",
    "top_15_words = [word for word, _ in word_counts.most_common(20)]"
   ]
  },
  {
   "cell_type": "code",
   "execution_count": 12,
   "id": "0bad3e95",
   "metadata": {},
   "outputs": [],
   "source": [
    "for i, row in df.iterrows():\n",
    "    text = row['amenities']\n",
    "    found = False  # Initialize found flag for each row\n",
    "    a = 0\n",
    "    for word in top_15_words:\n",
    "        if word in text:\n",
    "            found = True\n",
    "            text = text.replace(word, str(top_15_words.index(word) + 1))\n",
    "            a = a+1\n",
    "    \n",
    "    text  = str(a)\n",
    "    if not found:\n",
    "        text = str(0)\n",
    "        \n",
    "    df.at[i, 'amenities'] = text\n",
    "\n",
    "with open('top_15_words.pkl', 'wb') as f:\n",
    "    pickle.dump(top_15_words, f)"
   ]
  },
  {
   "cell_type": "code",
   "execution_count": 13,
   "id": "4f4a7adf",
   "metadata": {},
   "outputs": [],
   "source": [
    "def in_area(row):\n",
    "    if (-123 <= row['longitude'] <= -114) and (30 <= row['latitude'] <= 38):\n",
    "        return 1\n",
    "    else:\n",
    "        return 0"
   ]
  },
  {
   "cell_type": "code",
   "execution_count": 14,
   "id": "c10fc8f2",
   "metadata": {},
   "outputs": [],
   "source": [
    "df['in_area'] = df.apply(in_area, axis=1)"
   ]
  },
  {
   "cell_type": "code",
   "execution_count": null,
   "id": "09b529e4",
   "metadata": {},
   "outputs": [],
   "source": []
  },
  {
   "cell_type": "code",
   "execution_count": 15,
   "id": "677f16db",
   "metadata": {},
   "outputs": [],
   "source": [
    "## columns to drop after encoding\n",
    "columns_to_dop=['category','source','pets_allowed','has_photo','cityname',\n",
    "                'state','currency','fee','price_type',\n",
    "                'address','title','body']\n",
    "#columns_to_dop=['category','source','citypstate','price_category','currency','fee','price_type','address','title','body']\n"
   ]
  },
  {
   "cell_type": "code",
   "execution_count": 16,
   "id": "03ccd7d8",
   "metadata": {},
   "outputs": [],
   "source": [
    "df['has_photo'] = df['has_photo'].replace('Thumbnail','Yes')"
   ]
  },
  {
   "cell_type": "code",
   "execution_count": 17,
   "id": "6cd5b1b3",
   "metadata": {},
   "outputs": [],
   "source": [
    "import pandas as pd\n",
    "from sklearn.preprocessing import LabelEncoder\n",
    "label_encoders = {}\n",
    "\n",
    "# Dictionary containing DataFrame columns to encode\n",
    "columns_to_encode = {\n",
    "    'category': 'category_encoded',\n",
    "    'source': 'source_encoded',\n",
    "    'currency': 'currency_encoded',\n",
    "    'fee': 'fee_encoded',\n",
    "    'price_type': 'price_type_enc',\n",
    "    'address': 'address_encoded',\n",
    "    'cityname': 'city_encoded',\n",
    "    'state': 'state_encoded',\n",
    "    'pets_allowed': 'pets_allowed_en',\n",
    "    'has_photo': 'has_photo_en',\n",
    "    'RentCategory': 'RentCategory_en'\n",
    "}\n",
    "\n",
    "for column, encoded_column_name in columns_to_encode.items():\n",
    "    label_encoder = LabelEncoder()\n",
    "    df[encoded_column_name] = label_encoder.fit_transform(df[column])\n",
    "    label_encoders[column] = label_encoder\n",
    "\n",
    "with open('label_encoders.pickle', 'wb') as f:\n",
    "    pickle.dump(label_encoders, f)\n",
    "    \n",
    "df[\"amenities\"]=df[\"amenities\"].astype(int)\n",
    "#df['city_offer_what_encoded'] = label_encoder.fit_transform(df['city_offer_what'])\n"
   ]
  },
  {
   "cell_type": "code",
   "execution_count": 18,
   "id": "9d3fe735",
   "metadata": {},
   "outputs": [
    {
     "data": {
      "text/plain": [
       "Index(['id', 'category', 'title', 'body', 'amenities', 'bathrooms', 'bedrooms',\n",
       "       'currency', 'fee', 'has_photo', 'pets_allowed', 'RentCategory',\n",
       "       'price_type', 'square_feet', 'address', 'cityname', 'state', 'latitude',\n",
       "       'longitude', 'source', 'time', 'body_count', 'title_count', 'in_area',\n",
       "       'category_encoded', 'source_encoded', 'currency_encoded', 'fee_encoded',\n",
       "       'price_type_enc', 'address_encoded', 'city_encoded', 'state_encoded',\n",
       "       'pets_allowed_en', 'has_photo_en', 'RentCategory_en'],\n",
       "      dtype='object')"
      ]
     },
     "execution_count": 18,
     "metadata": {},
     "output_type": "execute_result"
    }
   ],
   "source": [
    "df.columns"
   ]
  },
  {
   "cell_type": "code",
   "execution_count": 19,
   "id": "1118469a",
   "metadata": {},
   "outputs": [],
   "source": [
    "df.drop(columns=columns_to_dop,axis=1,inplace=True)"
   ]
  },
  {
   "cell_type": "code",
   "execution_count": 20,
   "id": "d3a599d7",
   "metadata": {},
   "outputs": [],
   "source": [
    "# id column\n",
    "df.drop(\"id\", axis=1, inplace=True)"
   ]
  },
  {
   "cell_type": "code",
   "execution_count": 21,
   "id": "644a40be",
   "metadata": {},
   "outputs": [],
   "source": [
    "from sklearn.preprocessing import StandardScaler\n",
    "\n",
    "numerical_columns = ['bathrooms', 'bedrooms', 'square_feet', 'latitude', 'longitude']\n",
    "\n",
    "scaler = StandardScaler()\n",
    "\n",
    "df[numerical_columns] = scaler.fit_transform(df[numerical_columns])\n",
    "\n",
    "with open('scaler.pkl', 'wb') as f:\n",
    "    pickle.dump(scaler, f)\n",
    "    "
   ]
  },
  {
   "cell_type": "code",
   "execution_count": 22,
   "id": "5ea7e27d",
   "metadata": {},
   "outputs": [
    {
     "data": {
      "text/plain": [
       "in_area            -0.290052\n",
       "bathrooms          -0.145542\n",
       "square_feet        -0.139454\n",
       "bedrooms           -0.101332\n",
       "city_encoded       -0.078558\n",
       "time               -0.061096\n",
       "latitude           -0.010923\n",
       "category_encoded   -0.009034\n",
       "pets_allowed_en    -0.008427\n",
       "source_encoded      0.002219\n",
       "price_type_enc      0.005382\n",
       "address_encoded     0.006326\n",
       "has_photo_en        0.008959\n",
       "title_count         0.046677\n",
       "body_count          0.076431\n",
       "amenities           0.091228\n",
       "longitude           0.135473\n",
       "state_encoded       0.166555\n",
       "RentCategory_en     1.000000\n",
       "currency_encoded         NaN\n",
       "fee_encoded              NaN\n",
       "Name: RentCategory_en, dtype: float64"
      ]
     },
     "execution_count": 22,
     "metadata": {},
     "output_type": "execute_result"
    }
   ],
   "source": [
    "df.corr()[\"RentCategory_en\"].sort_values()"
   ]
  },
  {
   "cell_type": "code",
   "execution_count": 23,
   "id": "e6f31200",
   "metadata": {},
   "outputs": [],
   "source": [
    "useless_columns = [\"time\",\"currency_encoded\",\n",
    "                   \"fee_encoded\",\"price_type_enc\",\"address_encoded\",\"source_encoded\"\n",
    "                  ,\"price_type_enc\",\"body_count\",\n",
    "                    \"category_encoded\",\"RentCategory\",\"title_count\"\n",
    "                  ,\"pets_allowed_en\",\"has_photo_en\"]"
   ]
  },
  {
   "cell_type": "code",
   "execution_count": 24,
   "id": "0f699d95",
   "metadata": {},
   "outputs": [],
   "source": [
    "d = df.drop(columns=useless_columns)\n"
   ]
  },
  {
   "cell_type": "code",
   "execution_count": 25,
   "id": "bd8fe7ca",
   "metadata": {},
   "outputs": [
    {
     "name": "stdout",
     "output_type": "stream",
     "text": [
      "<class 'pandas.core.frame.DataFrame'>\n",
      "RangeIndex: 9000 entries, 0 to 8999\n",
      "Data columns (total 10 columns):\n",
      " #   Column           Non-Null Count  Dtype  \n",
      "---  ------           --------------  -----  \n",
      " 0   amenities        9000 non-null   int32  \n",
      " 1   bathrooms        9000 non-null   float64\n",
      " 2   bedrooms         9000 non-null   float64\n",
      " 3   square_feet      9000 non-null   float64\n",
      " 4   latitude         9000 non-null   float64\n",
      " 5   longitude        9000 non-null   float64\n",
      " 6   in_area          9000 non-null   int64  \n",
      " 7   city_encoded     9000 non-null   int32  \n",
      " 8   state_encoded    9000 non-null   int32  \n",
      " 9   RentCategory_en  9000 non-null   int32  \n",
      "dtypes: float64(5), int32(4), int64(1)\n",
      "memory usage: 562.6 KB\n"
     ]
    }
   ],
   "source": [
    "\n",
    "\n",
    "d.info()\n",
    "X = d.drop(columns=['RentCategory_en'])  # Features\n",
    "y = d['RentCategory_en']  # Target variable\n",
    "\n",
    "X_train, X_test, y_train, y_test = train_test_split(X, y, test_size=0.2, random_state=12) "
   ]
  },
  {
   "cell_type": "code",
   "execution_count": 26,
   "id": "a6f706d5",
   "metadata": {},
   "outputs": [],
   "source": [
    "acc=[]\n",
    "training_time=[]\n",
    "testing_time=[]"
   ]
  },
  {
   "cell_type": "markdown",
   "id": "a4ef62b1",
   "metadata": {},
   "source": [
    "#### random forest"
   ]
  },
  {
   "cell_type": "code",
   "execution_count": 27,
   "id": "0f9b5b8e",
   "metadata": {},
   "outputs": [],
   "source": [
    "model_randomforest =RandomForestClassifier(n_estimators=500 , max_depth=15)"
   ]
  },
  {
   "cell_type": "code",
   "execution_count": 28,
   "id": "cc038d8f",
   "metadata": {},
   "outputs": [
    {
     "name": "stdout",
     "output_type": "stream",
     "text": [
      "0.7955555555555556\n"
     ]
    }
   ],
   "source": [
    "start_time = time.time()\n",
    "model_randomforest.fit(X_train,y_train)\n",
    "training = time.time() - start_time\n",
    "training_time.append(training)\n",
    "\n",
    "start_time = time.time()\n",
    "y_pre = model_randomforest.predict(X_test)\n",
    "testing = time.time() - start_time\n",
    "testing_time.append(testing )\n",
    "\n",
    "a = accuracy_score(y_test,y_pre)\n",
    "acc.append(a)\n",
    "print(a)\n",
    "\n",
    "with open('random_forest_model.pkl', 'wb') as f:\n",
    "    pickle.dump(model_randomforest, f)"
   ]
  },
  {
   "cell_type": "code",
   "execution_count": 29,
   "id": "f15d9ff1",
   "metadata": {},
   "outputs": [
    {
     "data": {
      "text/plain": [
       "0.9461111111111111"
      ]
     },
     "execution_count": 29,
     "metadata": {},
     "output_type": "execute_result"
    }
   ],
   "source": [
    "y_pret = model_randomforest.predict(X_train)\n",
    "accuracy_score(y_train,y_pret)"
   ]
  },
  {
   "cell_type": "code",
   "execution_count": 30,
   "id": "092d9157",
   "metadata": {},
   "outputs": [],
   "source": [
    "model_randomforest2 =RandomForestClassifier(n_estimators=500 , max_depth=7)"
   ]
  },
  {
   "cell_type": "code",
   "execution_count": 31,
   "id": "05b3c6d2",
   "metadata": {},
   "outputs": [
    {
     "name": "stdout",
     "output_type": "stream",
     "text": [
      "0.755\n"
     ]
    }
   ],
   "source": [
    "start_time = time.time()\n",
    "model_randomforest2.fit(X_train,y_train)\n",
    "training = time.time() - start_time\n",
    "training_time.append(training)\n",
    "\n",
    "start_time = time.time()\n",
    "y_pre = model_randomforest2.predict(X_test)\n",
    "testing = time.time() - start_time\n",
    "testing_time.append(testing )\n",
    "\n",
    "a = accuracy_score(y_test,y_pre)\n",
    "acc.append(a)\n",
    "print(a)"
   ]
  },
  {
   "cell_type": "markdown",
   "id": "6165cdae",
   "metadata": {},
   "source": [
    "#### svm"
   ]
  },
  {
   "cell_type": "code",
   "execution_count": 32,
   "id": "cfbf4d32",
   "metadata": {},
   "outputs": [],
   "source": [
    "model_svmc1 = SVC(kernel='rbf',C =0.1,random_state=42)\n",
    "\n",
    "start_time = time.time()\n",
    "model_svmc1.fit(X_train,y_train)\n",
    "training = time.time() - start_time\n",
    "training_time.append(training)\n",
    "\n",
    "start_time = time.time()\n",
    "y_preS = model_svmc1.predict(X_test)\n",
    "testing = time.time() - start_time\n",
    "testing_time.append(testing )\n",
    "\n",
    "a = accuracy_score(y_test,y_preS)\n",
    "acc.append(a)"
   ]
  },
  {
   "cell_type": "code",
   "execution_count": 33,
   "id": "d237fa60",
   "metadata": {},
   "outputs": [
    {
     "name": "stdout",
     "output_type": "stream",
     "text": [
      "0.5494444444444444\n"
     ]
    }
   ],
   "source": [
    "model_svmc100 = SVC(kernel='rbf',C =100,random_state=42)\n",
    "start_time = time.time()\n",
    "\n",
    "model_svmc100.fit(X_train,y_train)\n",
    "\n",
    "training = time.time() - start_time\n",
    "training_time.append(training)\n",
    "\n",
    "start_time = time.time()\n",
    "y_preS = model_svmc100.predict(X_test)\n",
    "testing = time.time() - start_time\n",
    "testing_time.append(testing )\n",
    "\n",
    "a = accuracy_score(y_test,y_preS)\n",
    "acc.append(a)\n",
    "print(a)"
   ]
  },
  {
   "cell_type": "code",
   "execution_count": 34,
   "id": "6a43ff83",
   "metadata": {},
   "outputs": [
    {
     "name": "stdout",
     "output_type": "stream",
     "text": [
      "0.6194444444444445\n"
     ]
    }
   ],
   "source": [
    "model_svmco_1 = SVC(kernel='rbf',C =10000,random_state=42)\n",
    "\n",
    "start_time = time.time()\n",
    "model_svmco_1.fit(X_train,y_train)\n",
    "training = time.time() - start_time\n",
    "training_time.append(training)\n",
    "\n",
    "start_time = time.time()\n",
    "y_preS = model_svmco_1.predict(X_test)\n",
    "\n",
    "testing = time.time() - start_time\n",
    "testing_time.append(testing )\n",
    "\n",
    "a = accuracy_score(y_test,y_preS)\n",
    "acc.append(a)\n",
    "print(a)"
   ]
  },
  {
   "cell_type": "markdown",
   "id": "41c44d9b",
   "metadata": {},
   "source": [
    "#### GBoost"
   ]
  },
  {
   "cell_type": "code",
   "execution_count": 35,
   "id": "fc2a8c45",
   "metadata": {},
   "outputs": [
    {
     "name": "stdout",
     "output_type": "stream",
     "text": [
      "0.7977777777777778\n"
     ]
    }
   ],
   "source": [
    "gb = GradientBoostingClassifier(n_estimators=500,random_state=42)\n",
    "start_time = time.time()\n",
    "gb.fit(X_train,y_train)\n",
    "\n",
    "training = time.time() - start_time\n",
    "training_time.append(training)\n",
    "\n",
    "start_time = time.time()\n",
    "y_preg = gb.predict(X_test)\n",
    "testing = time.time() - start_time\n",
    "testing_time.append(testing )\n",
    "\n",
    "\n",
    "a = accuracy_score(y_test,y_preg)\n",
    "acc.append(a)\n",
    "print(a)"
   ]
  },
  {
   "cell_type": "code",
   "execution_count": 36,
   "id": "313c0760",
   "metadata": {},
   "outputs": [
    {
     "name": "stdout",
     "output_type": "stream",
     "text": [
      "14.704645156860352\n"
     ]
    }
   ],
   "source": [
    "print(training)"
   ]
  },
  {
   "cell_type": "code",
   "execution_count": 37,
   "id": "8f5e3cab",
   "metadata": {},
   "outputs": [
    {
     "data": {
      "image/png": "[encoded data removed]",
      "text/plain": [
       "<Figure size 1008x576 with 1 Axes>"
      ]
     },
     "metadata": {
      "needs_background": "light"
     },
     "output_type": "display_data"
    }
   ],
   "source": [
    "\n",
    "models = ['Random_forestmxd 15','Random_forestmxd 7','SVM c 0.1', 'SVM c 100', 'SVM c 10000','GB']\n",
    "\n",
    "plt.figure(figsize=(14, 8))\n",
    "plt.bar(models, acc ,color =['r','y','b','g','b','r'] )\n",
    "\n",
    "plt.title('Accuracy of Trained Models')\n",
    "plt.xlabel('Models')\n",
    "plt.ylabel('Accuracy')\n",
    "plt.ylim(0, 1) \n",
    "\n",
    "plt.show()"
   ]
  },
  {
   "cell_type": "code",
   "execution_count": 38,
   "id": "88592e86",
   "metadata": {},
   "outputs": [
    {
     "data": {
      "image/png": "[encoded data removed]",
      "text/plain": [
       "<Figure size 1008x576 with 1 Axes>"
      ]
     },
     "metadata": {
      "needs_background": "light"
     },
     "output_type": "display_data"
    }
   ],
   "source": [
    "\n",
    "models = ['Random_forestmxd 15','Random_forestmxd 7','SVM c 0.1', 'SVM c 100', 'SVM c 10000','GB']\n",
    "\n",
    "plt.figure(figsize=(14, 8))\n",
    "plt.bar(models, training_time ,color =['r','y','b','g','b','r'] )\n",
    "\n",
    "plt.title('time traing')\n",
    "plt.xlabel('Models')\n",
    "plt.ylabel('time in sec') \n",
    "\n",
    "plt.show()"
   ]
  },
  {
   "cell_type": "code",
   "execution_count": 39,
   "id": "e2014ba4",
   "metadata": {},
   "outputs": [
    {
     "data": {
      "image/png": "[encoded data removed]",
      "text/plain": [
       "<Figure size 1008x576 with 1 Axes>"
      ]
     },
     "metadata": {
      "needs_background": "light"
     },
     "output_type": "display_data"
    }
   ],
   "source": [
    "\n",
    "models = ['Random_forestmxd 15','Random_forestmxd 7','SVM c 0.1', 'SVM c 100', 'SVM c 10000','GB']\n",
    "\n",
    "plt.figure(figsize=(14, 8))\n",
    "plt.bar(models, testing_time ,color =['r','y','b','g','b','r'] )\n",
    "\n",
    "plt.title('test time')\n",
    "plt.xlabel('Models')\n",
    "plt.ylabel('time in sec') \n",
    "\n",
    "plt.show()"
   ]
  },
  {
   "cell_type": "code",
   "execution_count": null,
   "id": "39367cee",
   "metadata": {},
   "outputs": [],
   "source": []
  },
  {
   "cell_type": "code",
   "execution_count": null,
   "id": "432751ea",
   "metadata": {},
   "outputs": [],
   "source": []
  }
 ],
 "metadata": {
  "kernelspec": {
   "display_name": "Python 3",
   "language": "python",
   "name": "python3"
  },
  "language_info": {
   "codemirror_mode": {
    "name": "ipython",
    "version": 3
   },
   "file_extension": ".py",
   "mimetype": "text/x-python",
   "name": "python",
   "nbconvert_exporter": "python",
   "pygments_lexer": "ipython3",
   "version": "3.9.12"
  }
 },
 "nbformat": 4,
 "nbformat_minor": 5
}
