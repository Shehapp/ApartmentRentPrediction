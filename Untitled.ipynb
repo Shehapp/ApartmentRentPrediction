{
 "cells": [
  {
   "cell_type": "code",
   "execution_count": 1,
   "id": "701cefdb",
   "metadata": {},
   "outputs": [],
   "source": [
    "import pandas as pd \n",
    "import numpy as np \n",
    "import matplotlib.pyplot as plt \n",
    "import seaborn as sns"
   ]
  },
  {
   "cell_type": "code",
   "execution_count": 2,
   "id": "7220b488",
   "metadata": {},
   "outputs": [],
   "source": [
    "data = pd.read_csv(\"ApartmentRentPrediction.csv\")"
   ]
  },
  {
   "cell_type": "code",
   "execution_count": 3,
   "id": "8af1a653",
   "metadata": {},
   "outputs": [],
   "source": [
    "df = data.copy()"
   ]
  },
  {
   "cell_type": "code",
   "execution_count": 4,
   "id": "300120e6",
   "metadata": {},
   "outputs": [
    {
     "name": "stdout",
     "output_type": "stream",
     "text": [
      "<class 'pandas.core.frame.DataFrame'>\n",
      "RangeIndex: 9000 entries, 0 to 8999\n",
      "Data columns (total 22 columns):\n",
      " #   Column         Non-Null Count  Dtype  \n",
      "---  ------         --------------  -----  \n",
      " 0   id             9000 non-null   int64  \n",
      " 1   category       9000 non-null   object \n",
      " 2   title          9000 non-null   object \n",
      " 3   body           9000 non-null   object \n",
      " 4   amenities      5815 non-null   object \n",
      " 5   bathrooms      8970 non-null   float64\n",
      " 6   bedrooms       8993 non-null   float64\n",
      " 7   currency       9000 non-null   object \n",
      " 8   fee            9000 non-null   object \n",
      " 9   has_photo      9000 non-null   object \n",
      " 10  pets_allowed   5249 non-null   object \n",
      " 11  price          9000 non-null   int64  \n",
      " 12  price_display  9000 non-null   object \n",
      " 13  price_type     9000 non-null   object \n",
      " 14  square_feet    9000 non-null   int64  \n",
      " 15  address        6029 non-null   object \n",
      " 16  cityname       8934 non-null   object \n",
      " 17  state          8934 non-null   object \n",
      " 18  latitude       8993 non-null   float64\n",
      " 19  longitude      8993 non-null   float64\n",
      " 20  source         9000 non-null   object \n",
      " 21  time           9000 non-null   int64  \n",
      "dtypes: float64(4), int64(4), object(14)\n",
      "memory usage: 1.5+ MB\n"
     ]
    }
   ],
   "source": [
    "data.info()"
   ]
  },
  {
   "cell_type": "code",
   "execution_count": 5,
   "id": "d10dd7d4",
   "metadata": {},
   "outputs": [
    {
     "name": "stdout",
     "output_type": "stream",
     "text": [
      "id\n",
      "(9000,)\n",
      "category\n",
      "(3,)\n",
      "title\n",
      "(8441,)\n",
      "body\n",
      "(8969,)\n",
      "amenities\n",
      "(2093,)\n",
      "bathrooms\n",
      "(14,)\n",
      "bedrooms\n",
      "(10,)\n",
      "currency\n",
      "(1,)\n",
      "fee\n",
      "(1,)\n",
      "has_photo\n",
      "(3,)\n",
      "pets_allowed\n",
      "(3,)\n",
      "price\n",
      "(1646,)\n",
      "price_display\n",
      "(1647,)\n",
      "price_type\n",
      "(3,)\n",
      "square_feet\n",
      "(1682,)\n",
      "address\n",
      "(6016,)\n",
      "cityname\n",
      "(1497,)\n",
      "state\n",
      "(50,)\n",
      "latitude\n",
      "(2257,)\n",
      "longitude\n",
      "(2254,)\n",
      "source\n",
      "(11,)\n",
      "time\n",
      "(5886,)\n"
     ]
    }
   ],
   "source": [
    "#columns with  more than 5000 distinct values should be removed or preprocessed to include less range \n",
    "object_columns_bt5_lt30=[]\n",
    "object_columns_lt5=[]\n",
    "for i  in data.columns:\n",
    "    print(i)\n",
    "    print( data[i].value_counts().shape)\n",
    "    if(data[i].value_counts().shape[0]<=5 and type(data[i][0]) == str ):\n",
    "        object_columns_lt5.append(i)\n",
    "    elif(data[i].value_counts().shape[0]<=30 and data[i].value_counts().shape[0]>5 and type(data[i][0]) == str ):\n",
    "        object_columns_bt5_lt30.append(i)"
   ]
  },
  {
   "cell_type": "code",
   "execution_count": 6,
   "id": "3db38d13",
   "metadata": {},
   "outputs": [
    {
     "data": {
      "text/plain": [
       "['category', 'currency', 'fee', 'has_photo', 'pets_allowed', 'price_type']"
      ]
     },
     "execution_count": 6,
     "metadata": {},
     "output_type": "execute_result"
    }
   ],
   "source": [
    "object_columns_lt5"
   ]
  },
  {
   "cell_type": "code",
   "execution_count": 7,
   "id": "2820c795",
   "metadata": {},
   "outputs": [
    {
     "data": {
      "text/html": [
       "<div>\n",
       "<style scoped>\n",
       "    .dataframe tbody tr th:only-of-type {\n",
       "        vertical-align: middle;\n",
       "    }\n",
       "\n",
       "    .dataframe tbody tr th {\n",
       "        vertical-align: top;\n",
       "    }\n",
       "\n",
       "    .dataframe thead th {\n",
       "        text-align: right;\n",
       "    }\n",
       "</style>\n",
       "<table border=\"1\" class=\"dataframe\">\n",
       "  <thead>\n",
       "    <tr style=\"text-align: right;\">\n",
       "      <th></th>\n",
       "      <th>id</th>\n",
       "      <th>bathrooms</th>\n",
       "      <th>bedrooms</th>\n",
       "      <th>price</th>\n",
       "      <th>square_feet</th>\n",
       "      <th>latitude</th>\n",
       "      <th>longitude</th>\n",
       "      <th>time</th>\n",
       "    </tr>\n",
       "  </thead>\n",
       "  <tbody>\n",
       "    <tr>\n",
       "      <th>count</th>\n",
       "      <td>9.000000e+03</td>\n",
       "      <td>8970.000000</td>\n",
       "      <td>8993.000000</td>\n",
       "      <td>9000.000000</td>\n",
       "      <td>9000.000000</td>\n",
       "      <td>8993.00000</td>\n",
       "      <td>8993.000000</td>\n",
       "      <td>9.000000e+03</td>\n",
       "    </tr>\n",
       "    <tr>\n",
       "      <th>mean</th>\n",
       "      <td>5.623668e+09</td>\n",
       "      <td>1.380769</td>\n",
       "      <td>1.744023</td>\n",
       "      <td>1487.286222</td>\n",
       "      <td>947.138667</td>\n",
       "      <td>37.67689</td>\n",
       "      <td>-94.778612</td>\n",
       "      <td>1.574906e+09</td>\n",
       "    </tr>\n",
       "    <tr>\n",
       "      <th>std</th>\n",
       "      <td>7.007402e+07</td>\n",
       "      <td>0.616171</td>\n",
       "      <td>0.942446</td>\n",
       "      <td>1088.561190</td>\n",
       "      <td>668.806214</td>\n",
       "      <td>5.51527</td>\n",
       "      <td>15.769232</td>\n",
       "      <td>3.755142e+06</td>\n",
       "    </tr>\n",
       "    <tr>\n",
       "      <th>min</th>\n",
       "      <td>5.508654e+09</td>\n",
       "      <td>1.000000</td>\n",
       "      <td>0.000000</td>\n",
       "      <td>200.000000</td>\n",
       "      <td>106.000000</td>\n",
       "      <td>21.31550</td>\n",
       "      <td>-158.022100</td>\n",
       "      <td>1.568744e+09</td>\n",
       "    </tr>\n",
       "    <tr>\n",
       "      <th>25%</th>\n",
       "      <td>5.509250e+09</td>\n",
       "      <td>1.000000</td>\n",
       "      <td>1.000000</td>\n",
       "      <td>950.000000</td>\n",
       "      <td>650.000000</td>\n",
       "      <td>33.66200</td>\n",
       "      <td>-101.858700</td>\n",
       "      <td>1.568781e+09</td>\n",
       "    </tr>\n",
       "    <tr>\n",
       "      <th>50%</th>\n",
       "      <td>5.668610e+09</td>\n",
       "      <td>1.000000</td>\n",
       "      <td>2.000000</td>\n",
       "      <td>1275.000000</td>\n",
       "      <td>802.000000</td>\n",
       "      <td>38.75550</td>\n",
       "      <td>-93.707700</td>\n",
       "      <td>1.577358e+09</td>\n",
       "    </tr>\n",
       "    <tr>\n",
       "      <th>75%</th>\n",
       "      <td>5.668626e+09</td>\n",
       "      <td>2.000000</td>\n",
       "      <td>2.000000</td>\n",
       "      <td>1695.000000</td>\n",
       "      <td>1100.000000</td>\n",
       "      <td>41.34980</td>\n",
       "      <td>-82.446800</td>\n",
       "      <td>1.577359e+09</td>\n",
       "    </tr>\n",
       "    <tr>\n",
       "      <th>max</th>\n",
       "      <td>5.668663e+09</td>\n",
       "      <td>8.500000</td>\n",
       "      <td>9.000000</td>\n",
       "      <td>52500.000000</td>\n",
       "      <td>40000.000000</td>\n",
       "      <td>61.59400</td>\n",
       "      <td>-70.191600</td>\n",
       "      <td>1.577362e+09</td>\n",
       "    </tr>\n",
       "  </tbody>\n",
       "</table>\n",
       "</div>"
      ],
      "text/plain": [
       "                 id    bathrooms     bedrooms         price   square_feet  \\\n",
       "count  9.000000e+03  8970.000000  8993.000000   9000.000000   9000.000000   \n",
       "mean   5.623668e+09     1.380769     1.744023   1487.286222    947.138667   \n",
       "std    7.007402e+07     0.616171     0.942446   1088.561190    668.806214   \n",
       "min    5.508654e+09     1.000000     0.000000    200.000000    106.000000   \n",
       "25%    5.509250e+09     1.000000     1.000000    950.000000    650.000000   \n",
       "50%    5.668610e+09     1.000000     2.000000   1275.000000    802.000000   \n",
       "75%    5.668626e+09     2.000000     2.000000   1695.000000   1100.000000   \n",
       "max    5.668663e+09     8.500000     9.000000  52500.000000  40000.000000   \n",
       "\n",
       "         latitude    longitude          time  \n",
       "count  8993.00000  8993.000000  9.000000e+03  \n",
       "mean     37.67689   -94.778612  1.574906e+09  \n",
       "std       5.51527    15.769232  3.755142e+06  \n",
       "min      21.31550  -158.022100  1.568744e+09  \n",
       "25%      33.66200  -101.858700  1.568781e+09  \n",
       "50%      38.75550   -93.707700  1.577358e+09  \n",
       "75%      41.34980   -82.446800  1.577359e+09  \n",
       "max      61.59400   -70.191600  1.577362e+09  "
      ]
     },
     "execution_count": 7,
     "metadata": {},
     "output_type": "execute_result"
    }
   ],
   "source": [
    "data.describe()"
   ]
  },
  {
   "cell_type": "code",
   "execution_count": 8,
   "id": "ff17357c",
   "metadata": {
    "scrolled": true
   },
   "outputs": [
    {
     "data": {
      "text/html": [
       "<div>\n",
       "<style scoped>\n",
       "    .dataframe tbody tr th:only-of-type {\n",
       "        vertical-align: middle;\n",
       "    }\n",
       "\n",
       "    .dataframe tbody tr th {\n",
       "        vertical-align: top;\n",
       "    }\n",
       "\n",
       "    .dataframe thead th {\n",
       "        text-align: right;\n",
       "    }\n",
       "</style>\n",
       "<table border=\"1\" class=\"dataframe\">\n",
       "  <thead>\n",
       "    <tr style=\"text-align: right;\">\n",
       "      <th></th>\n",
       "      <th>id</th>\n",
       "      <th>category</th>\n",
       "      <th>title</th>\n",
       "      <th>body</th>\n",
       "      <th>amenities</th>\n",
       "      <th>bathrooms</th>\n",
       "      <th>bedrooms</th>\n",
       "      <th>currency</th>\n",
       "      <th>fee</th>\n",
       "      <th>has_photo</th>\n",
       "      <th>...</th>\n",
       "      <th>price_display</th>\n",
       "      <th>price_type</th>\n",
       "      <th>square_feet</th>\n",
       "      <th>address</th>\n",
       "      <th>cityname</th>\n",
       "      <th>state</th>\n",
       "      <th>latitude</th>\n",
       "      <th>longitude</th>\n",
       "      <th>source</th>\n",
       "      <th>time</th>\n",
       "    </tr>\n",
       "  </thead>\n",
       "  <tbody>\n",
       "    <tr>\n",
       "      <th>0</th>\n",
       "      <td>5508832632</td>\n",
       "      <td>housing/rent/apartment</td>\n",
       "      <td>Two BR - $1,194/mo - Apartment - come and see ...</td>\n",
       "      <td>Come experience. in Cary, NC offering recently...</td>\n",
       "      <td>Clubhouse,Fireplace,Gym,Patio/Deck,Playground,...</td>\n",
       "      <td>2.5</td>\n",
       "      <td>2.0</td>\n",
       "      <td>USD</td>\n",
       "      <td>No</td>\n",
       "      <td>Thumbnail</td>\n",
       "      <td>...</td>\n",
       "      <td>$1,194</td>\n",
       "      <td>Monthly</td>\n",
       "      <td>800</td>\n",
       "      <td>NaN</td>\n",
       "      <td>Cary</td>\n",
       "      <td>NC</td>\n",
       "      <td>35.7585</td>\n",
       "      <td>-78.7783</td>\n",
       "      <td>RentDigs.com</td>\n",
       "      <td>1568755960</td>\n",
       "    </tr>\n",
       "    <tr>\n",
       "      <th>1</th>\n",
       "      <td>5664576849</td>\n",
       "      <td>housing/rent/apartment</td>\n",
       "      <td>One BR 640 West Wilson Street</td>\n",
       "      <td>This unit is located at 640 West Wilson Street...</td>\n",
       "      <td>Cable or Satellite,Dishwasher,Elevator,Garbage...</td>\n",
       "      <td>1.0</td>\n",
       "      <td>1.0</td>\n",
       "      <td>USD</td>\n",
       "      <td>No</td>\n",
       "      <td>Thumbnail</td>\n",
       "      <td>...</td>\n",
       "      <td>$1,370</td>\n",
       "      <td>Monthly</td>\n",
       "      <td>795</td>\n",
       "      <td>640 West Wilson St</td>\n",
       "      <td>Madison</td>\n",
       "      <td>WI</td>\n",
       "      <td>43.0724</td>\n",
       "      <td>-89.4003</td>\n",
       "      <td>RentLingo</td>\n",
       "      <td>1577015508</td>\n",
       "    </tr>\n",
       "    <tr>\n",
       "      <th>2</th>\n",
       "      <td>5668619365</td>\n",
       "      <td>housing/rent/apartment</td>\n",
       "      <td>One BR 2777 Sw Archer Rd</td>\n",
       "      <td>This unit is located at 2777 Sw Archer Rd, Gai...</td>\n",
       "      <td>Basketball,Cable or Satellite,Dishwasher,Inter...</td>\n",
       "      <td>1.0</td>\n",
       "      <td>1.0</td>\n",
       "      <td>USD</td>\n",
       "      <td>No</td>\n",
       "      <td>Thumbnail</td>\n",
       "      <td>...</td>\n",
       "      <td>$1,009</td>\n",
       "      <td>Monthly</td>\n",
       "      <td>560</td>\n",
       "      <td>2777 SW Archer Road</td>\n",
       "      <td>Gainesville</td>\n",
       "      <td>FL</td>\n",
       "      <td>29.6533</td>\n",
       "      <td>-82.3656</td>\n",
       "      <td>RentLingo</td>\n",
       "      <td>1577358921</td>\n",
       "    </tr>\n",
       "    <tr>\n",
       "      <th>3</th>\n",
       "      <td>5668632604</td>\n",
       "      <td>housing/rent/apartment</td>\n",
       "      <td>One BR 534-542 Park Avenue</td>\n",
       "      <td>This unit is located at 534-542 Park Avenue, O...</td>\n",
       "      <td>NaN</td>\n",
       "      <td>1.0</td>\n",
       "      <td>1.0</td>\n",
       "      <td>USD</td>\n",
       "      <td>No</td>\n",
       "      <td>Thumbnail</td>\n",
       "      <td>...</td>\n",
       "      <td>$695</td>\n",
       "      <td>Monthly</td>\n",
       "      <td>600</td>\n",
       "      <td>534-542 Park Ave</td>\n",
       "      <td>Omaha</td>\n",
       "      <td>NE</td>\n",
       "      <td>41.2562</td>\n",
       "      <td>-96.0404</td>\n",
       "      <td>RentLingo</td>\n",
       "      <td>1577359849</td>\n",
       "    </tr>\n",
       "    <tr>\n",
       "      <th>4</th>\n",
       "      <td>5668637441</td>\n",
       "      <td>housing/rent/apartment</td>\n",
       "      <td>Three BR 2216 S Palm Grove Ave</td>\n",
       "      <td>This unit is located at 2216 S Palm Grove Ave,...</td>\n",
       "      <td>NaN</td>\n",
       "      <td>3.0</td>\n",
       "      <td>3.0</td>\n",
       "      <td>USD</td>\n",
       "      <td>No</td>\n",
       "      <td>Thumbnail</td>\n",
       "      <td>...</td>\n",
       "      <td>$3,695</td>\n",
       "      <td>Monthly</td>\n",
       "      <td>1600</td>\n",
       "      <td>2216 S Palm Grove Avenue</td>\n",
       "      <td>Los Angeles</td>\n",
       "      <td>CA</td>\n",
       "      <td>34.0372</td>\n",
       "      <td>-118.2972</td>\n",
       "      <td>RentLingo</td>\n",
       "      <td>1577360159</td>\n",
       "    </tr>\n",
       "  </tbody>\n",
       "</table>\n",
       "<p>5 rows × 22 columns</p>\n",
       "</div>"
      ],
      "text/plain": [
       "           id                category  \\\n",
       "0  5508832632  housing/rent/apartment   \n",
       "1  5664576849  housing/rent/apartment   \n",
       "2  5668619365  housing/rent/apartment   \n",
       "3  5668632604  housing/rent/apartment   \n",
       "4  5668637441  housing/rent/apartment   \n",
       "\n",
       "                                               title  \\\n",
       "0  Two BR - $1,194/mo - Apartment - come and see ...   \n",
       "1                      One BR 640 West Wilson Street   \n",
       "2                           One BR 2777 Sw Archer Rd   \n",
       "3                         One BR 534-542 Park Avenue   \n",
       "4                     Three BR 2216 S Palm Grove Ave   \n",
       "\n",
       "                                                body  \\\n",
       "0  Come experience. in Cary, NC offering recently...   \n",
       "1  This unit is located at 640 West Wilson Street...   \n",
       "2  This unit is located at 2777 Sw Archer Rd, Gai...   \n",
       "3  This unit is located at 534-542 Park Avenue, O...   \n",
       "4  This unit is located at 2216 S Palm Grove Ave,...   \n",
       "\n",
       "                                           amenities  bathrooms  bedrooms  \\\n",
       "0  Clubhouse,Fireplace,Gym,Patio/Deck,Playground,...        2.5       2.0   \n",
       "1  Cable or Satellite,Dishwasher,Elevator,Garbage...        1.0       1.0   \n",
       "2  Basketball,Cable or Satellite,Dishwasher,Inter...        1.0       1.0   \n",
       "3                                                NaN        1.0       1.0   \n",
       "4                                                NaN        3.0       3.0   \n",
       "\n",
       "  currency fee  has_photo  ... price_display  price_type square_feet  \\\n",
       "0      USD  No  Thumbnail  ...       $1,194      Monthly         800   \n",
       "1      USD  No  Thumbnail  ...       $1,370      Monthly         795   \n",
       "2      USD  No  Thumbnail  ...       $1,009      Monthly         560   \n",
       "3      USD  No  Thumbnail  ...         $695      Monthly         600   \n",
       "4      USD  No  Thumbnail  ...       $3,695      Monthly        1600   \n",
       "\n",
       "                    address     cityname state latitude longitude  \\\n",
       "0                       NaN         Cary    NC  35.7585  -78.7783   \n",
       "1        640 West Wilson St      Madison    WI  43.0724  -89.4003   \n",
       "2       2777 SW Archer Road  Gainesville    FL  29.6533  -82.3656   \n",
       "3          534-542 Park Ave        Omaha    NE  41.2562  -96.0404   \n",
       "4  2216 S Palm Grove Avenue  Los Angeles    CA  34.0372 -118.2972   \n",
       "\n",
       "         source        time  \n",
       "0  RentDigs.com  1568755960  \n",
       "1     RentLingo  1577015508  \n",
       "2     RentLingo  1577358921  \n",
       "3     RentLingo  1577359849  \n",
       "4     RentLingo  1577360159  \n",
       "\n",
       "[5 rows x 22 columns]"
      ]
     },
     "execution_count": 8,
     "metadata": {},
     "output_type": "execute_result"
    }
   ],
   "source": [
    "data.head(5)"
   ]
  },
  {
   "cell_type": "code",
   "execution_count": 9,
   "id": "4db07182",
   "metadata": {
    "scrolled": false
   },
   "outputs": [
    {
     "name": "stdout",
     "output_type": "stream",
     "text": [
      "<class 'pandas.core.frame.DataFrame'>\n",
      "RangeIndex: 9000 entries, 0 to 8999\n",
      "Data columns (total 22 columns):\n",
      " #   Column         Non-Null Count  Dtype  \n",
      "---  ------         --------------  -----  \n",
      " 0   id             9000 non-null   int64  \n",
      " 1   category       9000 non-null   object \n",
      " 2   title          9000 non-null   object \n",
      " 3   body           9000 non-null   object \n",
      " 4   amenities      5815 non-null   object \n",
      " 5   bathrooms      8970 non-null   float64\n",
      " 6   bedrooms       8993 non-null   float64\n",
      " 7   currency       9000 non-null   object \n",
      " 8   fee            9000 non-null   object \n",
      " 9   has_photo      9000 non-null   object \n",
      " 10  pets_allowed   5249 non-null   object \n",
      " 11  price          9000 non-null   int64  \n",
      " 12  price_display  9000 non-null   object \n",
      " 13  price_type     9000 non-null   object \n",
      " 14  square_feet    9000 non-null   int64  \n",
      " 15  address        6029 non-null   object \n",
      " 16  cityname       8934 non-null   object \n",
      " 17  state          8934 non-null   object \n",
      " 18  latitude       8993 non-null   float64\n",
      " 19  longitude      8993 non-null   float64\n",
      " 20  source         9000 non-null   object \n",
      " 21  time           9000 non-null   int64  \n",
      "dtypes: float64(4), int64(4), object(14)\n",
      "memory usage: 1.5+ MB\n"
     ]
    }
   ],
   "source": [
    "df.info()"
   ]
  },
  {
   "cell_type": "code",
   "execution_count": 10,
   "id": "60cb246b",
   "metadata": {},
   "outputs": [
    {
     "data": {
      "text/plain": [
       "['category', 'currency', 'fee', 'has_photo', 'pets_allowed', 'price_type']"
      ]
     },
     "execution_count": 10,
     "metadata": {},
     "output_type": "execute_result"
    }
   ],
   "source": [
    "object_columns_lt5"
   ]
  },
  {
   "cell_type": "markdown",
   "id": "4af19837",
   "metadata": {},
   "source": [
    "## Null values"
   ]
  },
  {
   "cell_type": "code",
   "execution_count": 11,
   "id": "7110634a",
   "metadata": {
    "scrolled": true
   },
   "outputs": [
    {
     "data": {
      "text/plain": [
       "id                  0\n",
       "category            0\n",
       "title               0\n",
       "body                0\n",
       "amenities        3185\n",
       "bathrooms          30\n",
       "bedrooms            7\n",
       "currency            0\n",
       "fee                 0\n",
       "has_photo           0\n",
       "pets_allowed     3751\n",
       "price               0\n",
       "price_display       0\n",
       "price_type          0\n",
       "square_feet         0\n",
       "address          2971\n",
       "cityname           66\n",
       "state              66\n",
       "latitude            7\n",
       "longitude           7\n",
       "source              0\n",
       "time                0\n",
       "dtype: int64"
      ]
     },
     "execution_count": 11,
     "metadata": {},
     "output_type": "execute_result"
    }
   ],
   "source": [
    "df.isna().sum()"
   ]
  },
  {
   "cell_type": "code",
   "execution_count": 12,
   "id": "4f89f0be",
   "metadata": {},
   "outputs": [],
   "source": [
    "object_columns_na = (\"amenities\",\"pets_allowed\",\"address\",\"cityname\",\"state\",\"price_type\")"
   ]
  },
  {
   "cell_type": "code",
   "execution_count": 13,
   "id": "88f67a28",
   "metadata": {},
   "outputs": [
    {
     "name": "stdout",
     "output_type": "stream",
     "text": [
      "=================================\n",
      "amenities\n",
      "Parking                                                                                                         212\n",
      "Dishwasher,Refrigerator                                                                                         200\n",
      "Pool                                                                                                            148\n",
      "Dishwasher,Parking,Pool                                                                                         134\n",
      "Dishwasher                                                                                                      133\n",
      "                                                                                                               ... \n",
      "Dishwasher,Garbage Disposal,Gated,Hot Tub,Parking,Patio/Deck,Pool,Refrigerator,Storage                            1\n",
      "Cable or Satellite,Dishwasher,Fireplace,Internet Access,Parking,Patio/Deck,Pool,Refrigerator,Storage              1\n",
      "AC,Basketball,Cable or Satellite,Dishwasher,Gym,Parking,Patio/Deck,Playground,Pool,Refrigerator,Washer Dryer      1\n",
      "AC,Basketball,Cable or Satellite,Clubhouse,Elevator,Fireplace,Gated,Gym,Parking,Pool,Storage,Washer Dryer         1\n",
      "Dishwasher,Fireplace,Parking,Pool,Refrigerator,Storage                                                            1\n",
      "Name: amenities, Length: 2093, dtype: int64\n",
      "=================================\n",
      "pets_allowed\n",
      "Cats,Dogs    4702\n",
      "Cats          433\n",
      "Dogs          114\n",
      "Name: pets_allowed, dtype: int64\n",
      "=================================\n",
      "address\n",
      "500 Sleepy Hollow Rd           3\n",
      "908 8th SW St                  3\n",
      "7098 Fernwood St               2\n",
      "2571 Lake Worth Road           2\n",
      "#4 Pahrump Valley Boulevard    2\n",
      "                              ..\n",
      "8 South 8th St                 1\n",
      "277-279 Columbus Ave           1\n",
      "9860 Fairfax Square            1\n",
      "5700 S Blackstone Avenue       1\n",
      "5505 Zelzah Ave                1\n",
      "Name: address, Length: 6016, dtype: int64\n",
      "=================================\n",
      "cityname\n",
      "Austin         482\n",
      "Dallas         194\n",
      "Houston        173\n",
      "San Antonio    169\n",
      "Los Angeles    151\n",
      "              ... \n",
      "Santa Ana        1\n",
      "Coppell          1\n",
      "Fernley          1\n",
      "Chubbuck         1\n",
      "Camas            1\n",
      "Name: cityname, Length: 1497, dtype: int64\n",
      "=================================\n",
      "state\n",
      "TX    1588\n",
      "CA     863\n",
      "WA     471\n",
      "NC     400\n",
      "MD     373\n",
      "NJ     341\n",
      "GA     332\n",
      "FL     297\n",
      "CO     292\n",
      "OH     284\n",
      "WI     264\n",
      "IL     262\n",
      "IN     216\n",
      "MO     215\n",
      "MN     201\n",
      "OR     184\n",
      "VA     182\n",
      "IA     163\n",
      "MI     162\n",
      "PA     161\n",
      "OK     154\n",
      "MA     138\n",
      "AZ     115\n",
      "NV     108\n",
      "ND      97\n",
      "CT      89\n",
      "NE      89\n",
      "TN      86\n",
      "KS      76\n",
      "UT      74\n",
      "DC      71\n",
      "SC      71\n",
      "NY      63\n",
      "NH      61\n",
      "LA      61\n",
      "SD      59\n",
      "AR      54\n",
      "AL      52\n",
      "AK      42\n",
      "KY      40\n",
      "ID      16\n",
      "VT      14\n",
      "HI      11\n",
      "RI      10\n",
      "NM       9\n",
      "MS       7\n",
      "MT       7\n",
      "DE       5\n",
      "WV       3\n",
      "WY       1\n",
      "Name: state, dtype: int64\n",
      "=================================\n",
      "price_type\n",
      "Monthly           8998\n",
      "Weekly               1\n",
      "Monthly|Weekly       1\n",
      "Name: price_type, dtype: int64\n"
     ]
    }
   ],
   "source": [
    "for i in object_columns_na:\n",
    "    print(\"=================================\")\n",
    "    print(i)\n",
    "    print(df[i].value_counts())"
   ]
  },
  {
   "cell_type": "code",
   "execution_count": 14,
   "id": "7ba5e786",
   "metadata": {},
   "outputs": [],
   "source": [
    "#unknown city can be predicted from state but now for simplicity will be replaced with mode \n",
    "\n",
    "from statistics import mode\n",
    "df[\"amenities\"].fillna(\"Parking\", inplace=True)\n",
    "df[\"pets_allowed\"].fillna(mode(df[\"pets_allowed\"]), inplace=True)\n",
    "df[\"cityname\"].fillna(mode(df[\"cityname\"]), inplace=True)\n",
    "df[\"state\"].fillna(mode(df[\"state\"]), inplace=True)\n"
   ]
  },
  {
   "cell_type": "code",
   "execution_count": 15,
   "id": "78af0a14",
   "metadata": {},
   "outputs": [],
   "source": [
    "import re\n",
    "def extract_road_name(address):\n",
    "    \n",
    "    pattern = r'\\d*\\s+([\\w\\s]+)\\s+\\w+$'\n",
    "    match = re.search(pattern, address)\n",
    "    \n",
    "    if match:\n",
    "        road_name = match.group(1)\n",
    "        return road_name\n",
    "    else:\n",
    "        \n",
    "        return None"
   ]
  },
  {
   "cell_type": "code",
   "execution_count": 16,
   "id": "89d313ff",
   "metadata": {},
   "outputs": [],
   "source": [
    "df[\"address\"] = df[\"address\"].apply(lambda x: extract_road_name(x) if pd.notnull(x) else x)"
   ]
  },
  {
   "cell_type": "code",
   "execution_count": 17,
   "id": "f8a0f92a",
   "metadata": {},
   "outputs": [],
   "source": [
    "df[\"address\"].fillna(method='ffill', inplace=True)\n"
   ]
  },
  {
   "cell_type": "code",
   "execution_count": 18,
   "id": "ada8a3ad",
   "metadata": {},
   "outputs": [
    {
     "data": {
      "text/plain": [
       "E                 89\n",
       "W                 69\n",
       "S                 53\n",
       "N                 52\n",
       "West              40\n",
       "                  ..\n",
       "N Blair            1\n",
       "Briarthorne        1\n",
       "River Crossing     1\n",
       "Wickslow           1\n",
       "Zelzah             1\n",
       "Name: address, Length: 4304, dtype: int64"
      ]
     },
     "execution_count": 18,
     "metadata": {},
     "output_type": "execute_result"
    }
   ],
   "source": [
    "df[\"address\"].value_counts()"
   ]
  },
  {
   "cell_type": "code",
   "execution_count": 19,
   "id": "087cc2ca",
   "metadata": {},
   "outputs": [
    {
     "name": "stdout",
     "output_type": "stream",
     "text": [
      "<class 'pandas.core.frame.DataFrame'>\n",
      "RangeIndex: 9000 entries, 0 to 8999\n",
      "Data columns (total 22 columns):\n",
      " #   Column         Non-Null Count  Dtype  \n",
      "---  ------         --------------  -----  \n",
      " 0   id             9000 non-null   int64  \n",
      " 1   category       9000 non-null   object \n",
      " 2   title          9000 non-null   object \n",
      " 3   body           9000 non-null   object \n",
      " 4   amenities      9000 non-null   object \n",
      " 5   bathrooms      8970 non-null   float64\n",
      " 6   bedrooms       8993 non-null   float64\n",
      " 7   currency       9000 non-null   object \n",
      " 8   fee            9000 non-null   object \n",
      " 9   has_photo      9000 non-null   object \n",
      " 10  pets_allowed   9000 non-null   object \n",
      " 11  price          9000 non-null   int64  \n",
      " 12  price_display  9000 non-null   object \n",
      " 13  price_type     9000 non-null   object \n",
      " 14  square_feet    9000 non-null   int64  \n",
      " 15  address        8999 non-null   object \n",
      " 16  cityname       9000 non-null   object \n",
      " 17  state          9000 non-null   object \n",
      " 18  latitude       8993 non-null   float64\n",
      " 19  longitude      8993 non-null   float64\n",
      " 20  source         9000 non-null   object \n",
      " 21  time           9000 non-null   int64  \n",
      "dtypes: float64(4), int64(4), object(14)\n",
      "memory usage: 1.5+ MB\n"
     ]
    }
   ],
   "source": [
    "df.info()"
   ]
  },
  {
   "cell_type": "code",
   "execution_count": 20,
   "id": "bd8b6c0e",
   "metadata": {},
   "outputs": [
    {
     "data": {
      "image/png": "[encoded data removed]",
      "text/plain": [
       "<Figure size 1440x576 with 6 Axes>"
      ]
     },
     "metadata": {
      "needs_background": "light"
     },
     "output_type": "display_data"
    }
   ],
   "source": [
    "\n",
    "#plot columns having ditinct values less than 5 \n",
    "num_rows = 2\n",
    "num_cols = 3\n",
    "fig, axs = plt.subplots(num_rows, num_cols, figsize=(20, 8))\n",
    "\n",
    "axs = axs.flatten()\n",
    "for i, column in enumerate(object_columns_lt5):\n",
    "    row = i // num_cols\n",
    "    col = i % num_cols\n",
    "    axs[i].bar(df[column].unique(), df[column].value_counts())  # Plotting as a bar plot\n",
    "    axs[i].set_title(column)\n",
    "plt.tight_layout()\n",
    "plt.show()\n"
   ]
  },
  {
   "cell_type": "markdown",
   "id": "8c77bec4",
   "metadata": {},
   "source": [
    "### fee,currency have one value should be dropped\n",
    "### price type same has only one weekly and one monthly better drop it \n",
    "### may trying to combine Has_photos columns(thumbnail,yes) test on the model \n"
   ]
  },
  {
   "cell_type": "code",
   "execution_count": 21,
   "id": "d9772f78",
   "metadata": {},
   "outputs": [
    {
     "data": {
      "image/png": "[encoded data removed]",
      "text/plain": [
       "<Figure size 1440x1440 with 1 Axes>"
      ]
     },
     "metadata": {
      "needs_background": "light"
     },
     "output_type": "display_data"
    }
   ],
   "source": [
    "plt.figure(figsize=(20,20))\n",
    "for column in object_columns_bt5_lt30:\n",
    "    plt.bar(df[column].unique(), df[column].value_counts())  \n",
    "    plt.title(column)\n",
    "plt.tight_layout()\n",
    "plt.show()"
   ]
  },
  {
   "cell_type": "markdown",
   "id": "38dd84c2",
   "metadata": {},
   "source": []
  },
  {
   "cell_type": "markdown",
   "id": "39e07285",
   "metadata": {},
   "source": [
    "# tarek -> object columns preprocessing and plotting\n",
    "# shehap - > int/float preprocessing and plotting "
   ]
  },
  {
   "cell_type": "code",
   "execution_count": 22,
   "id": "ddf3b231",
   "metadata": {
    "scrolled": true
   },
   "outputs": [
    {
     "name": "stdout",
     "output_type": "stream",
     "text": [
      "<class 'pandas.core.frame.DataFrame'>\n",
      "RangeIndex: 9000 entries, 0 to 8999\n",
      "Data columns (total 22 columns):\n",
      " #   Column         Non-Null Count  Dtype  \n",
      "---  ------         --------------  -----  \n",
      " 0   id             9000 non-null   int64  \n",
      " 1   category       9000 non-null   object \n",
      " 2   title          9000 non-null   object \n",
      " 3   body           9000 non-null   object \n",
      " 4   amenities      9000 non-null   object \n",
      " 5   bathrooms      8970 non-null   float64\n",
      " 6   bedrooms       8993 non-null   float64\n",
      " 7   currency       9000 non-null   object \n",
      " 8   fee            9000 non-null   object \n",
      " 9   has_photo      9000 non-null   object \n",
      " 10  pets_allowed   9000 non-null   object \n",
      " 11  price          9000 non-null   int64  \n",
      " 12  price_display  9000 non-null   object \n",
      " 13  price_type     9000 non-null   object \n",
      " 14  square_feet    9000 non-null   int64  \n",
      " 15  address        8999 non-null   object \n",
      " 16  cityname       9000 non-null   object \n",
      " 17  state          9000 non-null   object \n",
      " 18  latitude       8993 non-null   float64\n",
      " 19  longitude      8993 non-null   float64\n",
      " 20  source         9000 non-null   object \n",
      " 21  time           9000 non-null   int64  \n",
      "dtypes: float64(4), int64(4), object(14)\n",
      "memory usage: 1.5+ MB\n"
     ]
    }
   ],
   "source": [
    "df.info()"
   ]
  },
  {
   "cell_type": "code",
   "execution_count": 23,
   "id": "86ef0183",
   "metadata": {},
   "outputs": [
    {
     "data": {
      "text/plain": [
       "count     9000.000000\n",
       "mean      1487.286222\n",
       "std       1088.561190\n",
       "min        200.000000\n",
       "25%        950.000000\n",
       "50%       1275.000000\n",
       "75%       1695.000000\n",
       "max      52500.000000\n",
       "Name: price, dtype: float64"
      ]
     },
     "execution_count": 23,
     "metadata": {},
     "output_type": "execute_result"
    }
   ],
   "source": [
    "df[\"price\"].describe()"
   ]
  },
  {
   "cell_type": "markdown",
   "id": "6e518525",
   "metadata": {},
   "source": [
    "#### adding  a price category column to visulize the relation between category columns and the target column"
   ]
  },
  {
   "cell_type": "code",
   "execution_count": 24,
   "id": "5155f66c",
   "metadata": {},
   "outputs": [],
   "source": [
    "\n",
    "bins = [0, 950.000000, 1695.000000 , float('inf')]\n",
    "labels = ['Low', 'Mid', 'High']\n",
    "\n",
    "df['price_category'] = pd.cut(df['price'], bins=bins, labels=labels, right=False)\n"
   ]
  },
  {
   "cell_type": "code",
   "execution_count": 25,
   "id": "608cd5e9",
   "metadata": {},
   "outputs": [
    {
     "data": {
      "text/plain": [
       "Mid     4469\n",
       "High    2288\n",
       "Low     2243\n",
       "Name: price_category, dtype: int64"
      ]
     },
     "execution_count": 25,
     "metadata": {},
     "output_type": "execute_result"
    }
   ],
   "source": [
    "df[\"price_category\"].value_counts()"
   ]
  },
  {
   "cell_type": "code",
   "execution_count": 26,
   "id": "0573e875",
   "metadata": {
    "scrolled": false
   },
   "outputs": [
    {
     "data": {
      "text/plain": [
       "<AxesSubplot:xlabel='source'>"
      ]
     },
     "execution_count": 26,
     "metadata": {},
     "output_type": "execute_result"
    },
    {
     "data": {
      "image/png": "[encoded data removed]",
      "text/plain": [
       "<Figure size 1440x720 with 1 Axes>"
      ]
     },
     "metadata": {
      "needs_background": "light"
     },
     "output_type": "display_data"
    }
   ],
   "source": [
    "\n",
    "CrosstabResult=pd.crosstab(index=df[\"source\"],columns=df['price_category'])\n",
    " \n",
    "CrosstabResult.plot.bar(figsize=(20,10), rot=0)"
   ]
  },
  {
   "cell_type": "markdown",
   "id": "045e55a7",
   "metadata": {},
   "source": [
    "##### renting from rentlingo privide  a chance of a low price digs is the opposite "
   ]
  },
  {
   "cell_type": "code",
   "execution_count": 27,
   "id": "36ce6399",
   "metadata": {},
   "outputs": [
    {
     "data": {
      "image/png": "[encoded data removed]",
      "text/plain": [
       "<Figure size 1440x720 with 6 Axes>"
      ]
     },
     "metadata": {
      "needs_background": "light"
     },
     "output_type": "display_data"
    }
   ],
   "source": [
    "\n",
    "num_rows = 2\n",
    "num_cols = 3\n",
    "fig, axs = plt.subplots(num_rows, num_cols, figsize=(20, 10))\n",
    "\n",
    "axs = axs.flatten()\n",
    "for i, column in enumerate(object_columns_lt5):\n",
    "    row = i // num_cols\n",
    "    col = i % num_cols\n",
    "    CrosstabResult = pd.crosstab(index=df[column], columns=df['price_category'])\n",
    "    CrosstabResult.plot(kind='bar', ax=axs[i], stacked=True)  # Plotting crosstab as a bar plot\n",
    "    axs[i].set_title(column)\n",
    "    axs[i].set_xlabel(column)\n",
    "    axs[i].set_ylabel('Frequency')\n",
    "\n",
    "plt.tight_layout()\n",
    "plt.show()\n"
   ]
  },
  {
   "cell_type": "markdown",
   "id": "ea1abc59",
   "metadata": {},
   "source": [
    "#### it doesn't seem we have a dominant feature here "
   ]
  },
  {
   "cell_type": "code",
   "execution_count": 28,
   "id": "2ab73de3",
   "metadata": {},
   "outputs": [
    {
     "data": {
      "text/plain": [
       "<AxesSubplot:xlabel='state'>"
      ]
     },
     "execution_count": 28,
     "metadata": {},
     "output_type": "execute_result"
    },
    {
     "data": {
      "image/png": "[encoded data removed]",
      "text/plain": [
       "<Figure size 1440x720 with 1 Axes>"
      ]
     },
     "metadata": {
      "needs_background": "light"
     },
     "output_type": "display_data"
    }
   ],
   "source": [
    "\n",
    "CrosstabResult=pd.crosstab(index=df[\"state\"],columns=df['price_category'])\n",
    " \n",
    "CrosstabResult.plot.bar(figsize=(20,10), rot=0)"
   ]
  },
  {
   "cell_type": "markdown",
   "id": "8ad58769",
   "metadata": {},
   "source": [
    "#### most of the data divided betweeb  tx and ca may be adding city to state column generate a more diverse column \n",
    "#### being in Ca&NJ is a high price\n",
    "#### being in IA&IN is a low price "
   ]
  },
  {
   "cell_type": "code",
   "execution_count": 29,
   "id": "e10f1efa",
   "metadata": {},
   "outputs": [],
   "source": [
    "df[\"citypstate\"]=df[\"cityname\"]+df[\"state\"]"
   ]
  },
  {
   "cell_type": "code",
   "execution_count": 30,
   "id": "8f2d179d",
   "metadata": {},
   "outputs": [
    {
     "data": {
      "image/png": "[encoded data removed]",
      "text/plain": [
       "<Figure size 1440x720 with 1 Axes>"
      ]
     },
     "metadata": {
      "needs_background": "light"
     },
     "output_type": "display_data"
    }
   ],
   "source": [
    "import pandas as pd\n",
    "import matplotlib.pyplot as plt\n",
    "\n",
    "citystate_counts = df['citypstate'].value_counts()\n",
    "filtered_citystates = citystate_counts[citystate_counts > 100].index\n",
    "filtered_df = df[df['citypstate'].isin(filtered_citystates)]\n",
    "CrosstabResult = pd.crosstab(index=filtered_df['citypstate'], columns=df['price_category'])\n",
    "CrosstabResult.plot.bar(figsize=(20, 10), rot=0)\n",
    "plt.title('Crosstab of Price Category by City State (Freq > 100)')\n",
    "plt.xlabel('City State')\n",
    "plt.ylabel('Frequency')\n",
    "plt.show()\n"
   ]
  },
  {
   "cell_type": "markdown",
   "id": "b57268e7",
   "metadata": {},
   "source": [
    "#### losAngles is the highest  houston tx is the lowest\n",
    "#### def we will need to one hot encode this "
   ]
  },
  {
   "cell_type": "code",
   "execution_count": 31,
   "id": "ef8f6874",
   "metadata": {},
   "outputs": [
    {
     "data": {
      "text/plain": [
       "AustinTX          548\n",
       "DallasTX          180\n",
       "HoustonTX         173\n",
       "San AntonioTX     169\n",
       "Los AngelesCA     151\n",
       "                 ... \n",
       "WestchaseFL         1\n",
       "O FallonMO          1\n",
       "SanfordFL           1\n",
       "CollingswoodNJ      1\n",
       "CamasWA             1\n",
       "Name: citypstate, Length: 1679, dtype: int64"
      ]
     },
     "execution_count": 31,
     "metadata": {},
     "output_type": "execute_result"
    }
   ],
   "source": [
    "df[\"citypstate\"].value_counts()\n"
   ]
  },
  {
   "cell_type": "code",
   "execution_count": 32,
   "id": "ce9f79a2",
   "metadata": {},
   "outputs": [
    {
     "name": "stdout",
     "output_type": "stream",
     "text": [
      "<class 'pandas.core.frame.DataFrame'>\n",
      "RangeIndex: 9000 entries, 0 to 8999\n",
      "Data columns (total 24 columns):\n",
      " #   Column          Non-Null Count  Dtype   \n",
      "---  ------          --------------  -----   \n",
      " 0   id              9000 non-null   int64   \n",
      " 1   category        9000 non-null   object  \n",
      " 2   title           9000 non-null   object  \n",
      " 3   body            9000 non-null   object  \n",
      " 4   amenities       9000 non-null   object  \n",
      " 5   bathrooms       8970 non-null   float64 \n",
      " 6   bedrooms        8993 non-null   float64 \n",
      " 7   currency        9000 non-null   object  \n",
      " 8   fee             9000 non-null   object  \n",
      " 9   has_photo       9000 non-null   object  \n",
      " 10  pets_allowed    9000 non-null   object  \n",
      " 11  price           9000 non-null   int64   \n",
      " 12  price_display   9000 non-null   object  \n",
      " 13  price_type      9000 non-null   object  \n",
      " 14  square_feet     9000 non-null   int64   \n",
      " 15  address         8999 non-null   object  \n",
      " 16  cityname        9000 non-null   object  \n",
      " 17  state           9000 non-null   object  \n",
      " 18  latitude        8993 non-null   float64 \n",
      " 19  longitude       8993 non-null   float64 \n",
      " 20  source          9000 non-null   object  \n",
      " 21  time            9000 non-null   int64   \n",
      " 22  price_category  9000 non-null   category\n",
      " 23  citypstate      9000 non-null   object  \n",
      "dtypes: category(1), float64(4), int64(4), object(15)\n",
      "memory usage: 1.6+ MB\n"
     ]
    }
   ],
   "source": [
    "df.info()"
   ]
  },
  {
   "cell_type": "markdown",
   "id": "7d5631ae",
   "metadata": {},
   "source": [
    "### finding a good representation for title,body,amienetes\n",
    "\n"
   ]
  },
  {
   "cell_type": "code",
   "execution_count": 33,
   "id": "5158b82b",
   "metadata": {},
   "outputs": [],
   "source": [
    "df[\"body_count\"]=df[\"body\"].apply(lambda x : len(str(x).replace(\" \", \"\")))\n",
    "df[\"title_count\"]=df[\"title\"].apply(lambda x : len(str(x).replace(\" \", \"\")))\n"
   ]
  },
  {
   "cell_type": "code",
   "execution_count": 34,
   "id": "36bda7f0",
   "metadata": {
    "scrolled": false
   },
   "outputs": [
    {
     "data": {
      "image/png": "[encoded data removed]",
      "text/plain": [
       "<Figure size 720x360 with 2 Axes>"
      ]
     },
     "metadata": {
      "needs_background": "light"
     },
     "output_type": "display_data"
    }
   ],
   "source": [
    "fig, (ax1, ax2) = plt.subplots(1, 2, figsize=(10, 5))\n",
    "\n",
    "ax1.hist(df['title_count'])\n",
    "ax1.set_title('Tilte Count Histogram')\n",
    "\n",
    "ax2.hist(df['body_count'])\n",
    "ax2.set_title('body Count Histogram')\n",
    "\n",
    "plt.show()"
   ]
  },
  {
   "cell_type": "markdown",
   "id": "98c23b1d",
   "metadata": {},
   "source": [
    "#### dealing with the body_count it seems that the bins 300,650( note those are not a bins for a normal distibution)\n",
    "#### dealing with the title_count it seems that the bins 18,48( note those are not a bins for a normal distibution)"
   ]
  },
  {
   "cell_type": "code",
   "execution_count": 35,
   "id": "b8a6b49b",
   "metadata": {},
   "outputs": [],
   "source": [
    "\n",
    "bins1 = [0, 300, 750, float('inf')]\n",
    "labels = ['sm', 'av', 'High']\n",
    "bins2= [0, 18, 48, float('inf')]\n",
    "body_count_category = pd.cut(df['body_count'], bins=bins1, labels=labels, right=False)\n",
    "title_count_category = pd.cut(df['title_count'], bins=bins2, labels=labels, right=False)"
   ]
  },
  {
   "cell_type": "code",
   "execution_count": 36,
   "id": "e3228d93",
   "metadata": {},
   "outputs": [
    {
     "data": {
      "text/plain": [
       "av      7488\n",
       "sm       990\n",
       "High     522\n",
       "Name: title_count, dtype: int64"
      ]
     },
     "execution_count": 36,
     "metadata": {},
     "output_type": "execute_result"
    }
   ],
   "source": [
    "title_count_category.value_counts()"
   ]
  },
  {
   "cell_type": "code",
   "execution_count": 37,
   "id": "10edb698",
   "metadata": {},
   "outputs": [
    {
     "data": {
      "text/plain": [
       "<AxesSubplot:xlabel='title_count'>"
      ]
     },
     "execution_count": 37,
     "metadata": {},
     "output_type": "execute_result"
    },
    {
     "data": {
      "image/png": "[encoded data removed]",
      "text/plain": [
       "<Figure size 1440x720 with 1 Axes>"
      ]
     },
     "metadata": {
      "needs_background": "light"
     },
     "output_type": "display_data"
    },
    {
     "data": {
      "image/png": "[encoded data removed]",
      "text/plain": [
       "<Figure size 1440x720 with 1 Axes>"
      ]
     },
     "metadata": {
      "needs_background": "light"
     },
     "output_type": "display_data"
    }
   ],
   "source": [
    "\n",
    "CrosstabResult=pd.crosstab(index=body_count_category,columns=df['price_category'])\n",
    " \n",
    "CrosstabResult.plot.bar(figsize=(20,10), rot=0)\n",
    "\n",
    "CrosstabResult=pd.crosstab(index=title_count_category,columns=df['price_category'])\n",
    " \n",
    "CrosstabResult.plot.bar(figsize=(20,10), rot=0)"
   ]
  },
  {
   "cell_type": "markdown",
   "id": "26d7b225",
   "metadata": {},
   "source": [
    "#### a bigger title means a chance of it being more expensive \n",
    "#### a smaller title  means a chance of it being less expensive\n",
    "#### replacing title,body with title_count,body_count"
   ]
  },
  {
   "cell_type": "code",
   "execution_count": null,
   "id": "990a9c3b",
   "metadata": {},
   "outputs": [],
   "source": []
  },
  {
   "cell_type": "code",
   "execution_count": null,
   "id": "11930880",
   "metadata": {},
   "outputs": [],
   "source": []
  },
  {
   "cell_type": "code",
   "execution_count": null,
   "id": "f658e94b",
   "metadata": {},
   "outputs": [],
   "source": []
  },
  {
   "cell_type": "code",
   "execution_count": null,
   "id": "c78e056a",
   "metadata": {},
   "outputs": [],
   "source": []
  },
  {
   "cell_type": "code",
   "execution_count": null,
   "id": "2051f74f",
   "metadata": {},
   "outputs": [],
   "source": []
  },
  {
   "cell_type": "code",
   "execution_count": 38,
   "id": "404e27cc",
   "metadata": {},
   "outputs": [
    {
     "name": "stdout",
     "output_type": "stream",
     "text": [
      "<class 'pandas.core.frame.DataFrame'>\n",
      "RangeIndex: 9000 entries, 0 to 8999\n",
      "Data columns (total 26 columns):\n",
      " #   Column          Non-Null Count  Dtype   \n",
      "---  ------          --------------  -----   \n",
      " 0   id              9000 non-null   int64   \n",
      " 1   category        9000 non-null   object  \n",
      " 2   title           9000 non-null   object  \n",
      " 3   body            9000 non-null   object  \n",
      " 4   amenities       9000 non-null   object  \n",
      " 5   bathrooms       8970 non-null   float64 \n",
      " 6   bedrooms        8993 non-null   float64 \n",
      " 7   currency        9000 non-null   object  \n",
      " 8   fee             9000 non-null   object  \n",
      " 9   has_photo       9000 non-null   object  \n",
      " 10  pets_allowed    9000 non-null   object  \n",
      " 11  price           9000 non-null   int64   \n",
      " 12  price_display   9000 non-null   object  \n",
      " 13  price_type      9000 non-null   object  \n",
      " 14  square_feet     9000 non-null   int64   \n",
      " 15  address         8999 non-null   object  \n",
      " 16  cityname        9000 non-null   object  \n",
      " 17  state           9000 non-null   object  \n",
      " 18  latitude        8993 non-null   float64 \n",
      " 19  longitude       8993 non-null   float64 \n",
      " 20  source          9000 non-null   object  \n",
      " 21  time            9000 non-null   int64   \n",
      " 22  price_category  9000 non-null   category\n",
      " 23  citypstate      9000 non-null   object  \n",
      " 24  body_count      9000 non-null   int64   \n",
      " 25  title_count     9000 non-null   int64   \n",
      "dtypes: category(1), float64(4), int64(6), object(15)\n",
      "memory usage: 1.7+ MB\n"
     ]
    }
   ],
   "source": [
    "df.info()"
   ]
  },
  {
   "cell_type": "code",
   "execution_count": 39,
   "id": "8d7954f2",
   "metadata": {},
   "outputs": [
    {
     "data": {
      "text/plain": [
       "E                 89\n",
       "W                 69\n",
       "S                 53\n",
       "N                 52\n",
       "West              40\n",
       "                  ..\n",
       "N Blair            1\n",
       "Briarthorne        1\n",
       "River Crossing     1\n",
       "Wickslow           1\n",
       "Zelzah             1\n",
       "Name: address, Length: 4304, dtype: int64"
      ]
     },
     "execution_count": 39,
     "metadata": {},
     "output_type": "execute_result"
    }
   ],
   "source": [
    "df[\"address\"].value_counts()"
   ]
  },
  {
   "cell_type": "markdown",
   "id": "cc3d1e6f",
   "metadata": {},
   "source": [
    "### replacing amenities with num of ocuurence of the most freq words "
   ]
  },
  {
   "cell_type": "code",
   "execution_count": 40,
   "id": "ac336756",
   "metadata": {},
   "outputs": [],
   "source": [
    "from collections import Counter\n",
    "words = ' '.join(df['amenities']).split(',')\n",
    "word_counts = Counter(words)\n",
    "top_15_words = [word for word, _ in word_counts.most_common(20)]"
   ]
  },
  {
   "cell_type": "code",
   "execution_count": 41,
   "id": "f0e0d678",
   "metadata": {
    "scrolled": true
   },
   "outputs": [],
   "source": [
    "top_15_words.append('Parking')"
   ]
  },
  {
   "cell_type": "code",
   "execution_count": 42,
   "id": "68f4ff3d",
   "metadata": {},
   "outputs": [],
   "source": [
    "for i, row in df.iterrows():\n",
    "    text = row['amenities']\n",
    "    found = False  # Initialize found flag for each row\n",
    "    a = 0\n",
    "    for word in top_15_words:\n",
    "        if word in text:\n",
    "            found = True\n",
    "            text = text.replace(word, str(top_15_words.index(word) + 1))\n",
    "            a = a+1\n",
    "    \n",
    "    text  = str(a)\n",
    "    if not found:\n",
    "        text = str(0)\n",
    "        \n",
    "    df.at[i, 'amenities'] = text\n"
   ]
  },
  {
   "cell_type": "code",
   "execution_count": 43,
   "id": "7db17479",
   "metadata": {},
   "outputs": [
    {
     "data": {
      "text/plain": [
       "1     3964\n",
       "3      982\n",
       "2      879\n",
       "4      747\n",
       "5      543\n",
       "6      453\n",
       "7      352\n",
       "8      305\n",
       "9      252\n",
       "10     220\n",
       "11     157\n",
       "12      56\n",
       "13      37\n",
       "0       35\n",
       "14      16\n",
       "16       2\n",
       "Name: amenities, dtype: int64"
      ]
     },
     "execution_count": 43,
     "metadata": {},
     "output_type": "execute_result"
    }
   ],
   "source": [
    "df[\"amenities\"].value_counts()"
   ]
  },
  {
   "cell_type": "code",
   "execution_count": 44,
   "id": "011bac7d",
   "metadata": {},
   "outputs": [
    {
     "data": {
      "text/plain": [
       "<AxesSubplot:xlabel='amenities'>"
      ]
     },
     "execution_count": 44,
     "metadata": {},
     "output_type": "execute_result"
    },
    {
     "data": {
      "image/png": "[encoded data removed]",
      "text/plain": [
       "<Figure size 1440x720 with 1 Axes>"
      ]
     },
     "metadata": {
      "needs_background": "light"
     },
     "output_type": "display_data"
    }
   ],
   "source": [
    "CrosstabResult=pd.crosstab(index=df[\"amenities\"],columns=df['price_category'])\n",
    " \n",
    "CrosstabResult.plot.bar(figsize=(20,10), rot=0)"
   ]
  },
  {
   "cell_type": "markdown",
   "id": "eabb0344",
   "metadata": {},
   "source": [
    "### dealing with encoding \n",
    "#### category,currency,fee,price_type,address , source label_encoder \n",
    "#### has_photos ,pets_alloweed one_hot encoding\n",
    "#### price_display should be float and then drop it\n",
    "#### freq encoder  city , state ,citypstate\n",
    "#### drop price category "
   ]
  },
  {
   "cell_type": "code",
   "execution_count": 45,
   "id": "54c9e635",
   "metadata": {},
   "outputs": [
    {
     "name": "stdout",
     "output_type": "stream",
     "text": [
      "<class 'pandas.core.frame.DataFrame'>\n",
      "RangeIndex: 9000 entries, 0 to 8999\n",
      "Data columns (total 26 columns):\n",
      " #   Column          Non-Null Count  Dtype   \n",
      "---  ------          --------------  -----   \n",
      " 0   id              9000 non-null   int64   \n",
      " 1   category        9000 non-null   object  \n",
      " 2   title           9000 non-null   object  \n",
      " 3   body            9000 non-null   object  \n",
      " 4   amenities       9000 non-null   object  \n",
      " 5   bathrooms       8970 non-null   float64 \n",
      " 6   bedrooms        8993 non-null   float64 \n",
      " 7   currency        9000 non-null   object  \n",
      " 8   fee             9000 non-null   object  \n",
      " 9   has_photo       9000 non-null   object  \n",
      " 10  pets_allowed    9000 non-null   object  \n",
      " 11  price           9000 non-null   int64   \n",
      " 12  price_display   9000 non-null   object  \n",
      " 13  price_type      9000 non-null   object  \n",
      " 14  square_feet     9000 non-null   int64   \n",
      " 15  address         8999 non-null   object  \n",
      " 16  cityname        9000 non-null   object  \n",
      " 17  state           9000 non-null   object  \n",
      " 18  latitude        8993 non-null   float64 \n",
      " 19  longitude       8993 non-null   float64 \n",
      " 20  source          9000 non-null   object  \n",
      " 21  time            9000 non-null   int64   \n",
      " 22  price_category  9000 non-null   category\n",
      " 23  citypstate      9000 non-null   object  \n",
      " 24  body_count      9000 non-null   int64   \n",
      " 25  title_count     9000 non-null   int64   \n",
      "dtypes: category(1), float64(4), int64(6), object(15)\n",
      "memory usage: 1.7+ MB\n"
     ]
    }
   ],
   "source": [
    "df.info()"
   ]
  },
  {
   "cell_type": "code",
   "execution_count": 46,
   "id": "6ae22f8a",
   "metadata": {},
   "outputs": [],
   "source": [
    "## columns to drop after encoding\n",
    "columns_to_dop=['category','source','cityname','state','citypstate','price_category','currency','fee','price_type','address','title','body']"
   ]
  },
  {
   "cell_type": "code",
   "execution_count": 47,
   "id": "deded5a7",
   "metadata": {},
   "outputs": [],
   "source": [
    "import pandas as pd\n",
    "from sklearn.preprocessing import LabelEncoder\n",
    "\n",
    "label_encoder = LabelEncoder()\n",
    "df['category_encoded'] = label_encoder.fit_transform(df['category'])\n",
    "df['source_encoded'] = label_encoder.fit_transform(df['source'])\n",
    "df['currency_encoded'] = label_encoder.fit_transform(df['currency'])\n",
    "df['fee_encoded'] = label_encoder.fit_transform(df['fee'])\n",
    "df['price_type_enc'] = label_encoder.fit_transform(df['price_type'])\n",
    "df['address_encoded'] = label_encoder.fit_transform(df['address'])\n"
   ]
  },
  {
   "cell_type": "code",
   "execution_count": 48,
   "id": "365f1f18",
   "metadata": {},
   "outputs": [],
   "source": [
    "df = pd.get_dummies(df, columns=['has_photo', 'pets_allowed']) "
   ]
  },
  {
   "cell_type": "code",
   "execution_count": 49,
   "id": "7a03109b",
   "metadata": {},
   "outputs": [],
   "source": [
    "freq_encoder_city = df.groupby('cityname').size() / len(df)\n",
    "freq_encoder_state = df.groupby('state').size() / len(df)\n",
    "freq_encoder_city_state = df.groupby('citypstate').size() / len(df)\n",
    "\n",
    "df['city_freq_encoded'] = df['cityname'].map(freq_encoder_city)\n",
    "df['state_freq_encoded'] = df['state'].map(freq_encoder_state)\n",
    "df['city_state_freq_encoded'] = df['citypstate'].map(freq_encoder_city_state)"
   ]
  },
  {
   "cell_type": "code",
   "execution_count": 50,
   "id": "2175cf28",
   "metadata": {},
   "outputs": [
    {
     "name": "stdout",
     "output_type": "stream",
     "text": [
      "<class 'pandas.core.frame.DataFrame'>\n",
      "RangeIndex: 9000 entries, 0 to 8999\n",
      "Data columns (total 39 columns):\n",
      " #   Column                   Non-Null Count  Dtype   \n",
      "---  ------                   --------------  -----   \n",
      " 0   id                       9000 non-null   int64   \n",
      " 1   category                 9000 non-null   object  \n",
      " 2   title                    9000 non-null   object  \n",
      " 3   body                     9000 non-null   object  \n",
      " 4   amenities                9000 non-null   object  \n",
      " 5   bathrooms                8970 non-null   float64 \n",
      " 6   bedrooms                 8993 non-null   float64 \n",
      " 7   currency                 9000 non-null   object  \n",
      " 8   fee                      9000 non-null   object  \n",
      " 9   price                    9000 non-null   int64   \n",
      " 10  price_display            9000 non-null   object  \n",
      " 11  price_type               9000 non-null   object  \n",
      " 12  square_feet              9000 non-null   int64   \n",
      " 13  address                  8999 non-null   object  \n",
      " 14  cityname                 9000 non-null   object  \n",
      " 15  state                    9000 non-null   object  \n",
      " 16  latitude                 8993 non-null   float64 \n",
      " 17  longitude                8993 non-null   float64 \n",
      " 18  source                   9000 non-null   object  \n",
      " 19  time                     9000 non-null   int64   \n",
      " 20  price_category           9000 non-null   category\n",
      " 21  citypstate               9000 non-null   object  \n",
      " 22  body_count               9000 non-null   int64   \n",
      " 23  title_count              9000 non-null   int64   \n",
      " 24  category_encoded         9000 non-null   int32   \n",
      " 25  source_encoded           9000 non-null   int32   \n",
      " 26  currency_encoded         9000 non-null   int32   \n",
      " 27  fee_encoded              9000 non-null   int32   \n",
      " 28  price_type_enc           9000 non-null   int32   \n",
      " 29  address_encoded          9000 non-null   int32   \n",
      " 30  has_photo_No             9000 non-null   uint8   \n",
      " 31  has_photo_Thumbnail      9000 non-null   uint8   \n",
      " 32  has_photo_Yes            9000 non-null   uint8   \n",
      " 33  pets_allowed_Cats        9000 non-null   uint8   \n",
      " 34  pets_allowed_Cats,Dogs   9000 non-null   uint8   \n",
      " 35  pets_allowed_Dogs        9000 non-null   uint8   \n",
      " 36  city_freq_encoded        9000 non-null   float64 \n",
      " 37  state_freq_encoded       9000 non-null   float64 \n",
      " 38  city_state_freq_encoded  9000 non-null   float64 \n",
      "dtypes: category(1), float64(7), int32(6), int64(6), object(13), uint8(6)\n",
      "memory usage: 2.1+ MB\n"
     ]
    }
   ],
   "source": [
    "df.info()"
   ]
  },
  {
   "cell_type": "code",
   "execution_count": 51,
   "id": "7be211b4",
   "metadata": {},
   "outputs": [],
   "source": [
    "df.drop(columns=columns_to_dop,axis=1,inplace=True)"
   ]
  },
  {
   "cell_type": "markdown",
   "id": "b2db414f",
   "metadata": {},
   "source": [
    "#### converting amenitites and price_display to int/float"
   ]
  },
  {
   "cell_type": "code",
   "execution_count": 56,
   "id": "21f43e0b",
   "metadata": {},
   "outputs": [
    {
     "ename": "AttributeError",
     "evalue": "Can only use .str accessor with string values!",
     "output_type": "error",
     "traceback": [
      "\u001b[1;31m---------------------------------------------------------------------------\u001b[0m",
      "\u001b[1;31mAttributeError\u001b[0m                            Traceback (most recent call last)",
      "Input \u001b[1;32mIn [56]\u001b[0m, in \u001b[0;36m<cell line: 2>\u001b[1;34m()\u001b[0m\n\u001b[0;32m      1\u001b[0m df[\u001b[38;5;124m\"\u001b[39m\u001b[38;5;124mamenities\u001b[39m\u001b[38;5;124m\"\u001b[39m]\u001b[38;5;241m=\u001b[39mdf[\u001b[38;5;124m\"\u001b[39m\u001b[38;5;124mamenities\u001b[39m\u001b[38;5;124m\"\u001b[39m]\u001b[38;5;241m.\u001b[39mastype(\u001b[38;5;28mint\u001b[39m)\n\u001b[1;32m----> 2\u001b[0m df[\u001b[38;5;124m'\u001b[39m\u001b[38;5;124mprice_display\u001b[39m\u001b[38;5;124m'\u001b[39m] \u001b[38;5;241m=\u001b[39m \u001b[43mdf\u001b[49m\u001b[43m[\u001b[49m\u001b[38;5;124;43m'\u001b[39;49m\u001b[38;5;124;43mprice_display\u001b[39;49m\u001b[38;5;124;43m'\u001b[39;49m\u001b[43m]\u001b[49m\u001b[38;5;241;43m.\u001b[39;49m\u001b[43mstr\u001b[49m\u001b[38;5;241m.\u001b[39mreplace(\u001b[38;5;124mr\u001b[39m\u001b[38;5;124m'\u001b[39m\u001b[38;5;124m[^\u001b[39m\u001b[38;5;124m\\\u001b[39m\u001b[38;5;124md.]\u001b[39m\u001b[38;5;124m'\u001b[39m, \u001b[38;5;124m'\u001b[39m\u001b[38;5;124m'\u001b[39m, regex\u001b[38;5;241m=\u001b[39m\u001b[38;5;28;01mTrue\u001b[39;00m)\u001b[38;5;241m.\u001b[39mastype(\u001b[38;5;28mfloat\u001b[39m)\n",
      "File \u001b[1;32m~\\anaconda3\\lib\\site-packages\\pandas\\core\\generic.py:5575\u001b[0m, in \u001b[0;36mNDFrame.__getattr__\u001b[1;34m(self, name)\u001b[0m\n\u001b[0;32m   5568\u001b[0m \u001b[38;5;28;01mif\u001b[39;00m (\n\u001b[0;32m   5569\u001b[0m     name \u001b[38;5;129;01mnot\u001b[39;00m \u001b[38;5;129;01min\u001b[39;00m \u001b[38;5;28mself\u001b[39m\u001b[38;5;241m.\u001b[39m_internal_names_set\n\u001b[0;32m   5570\u001b[0m     \u001b[38;5;129;01mand\u001b[39;00m name \u001b[38;5;129;01mnot\u001b[39;00m \u001b[38;5;129;01min\u001b[39;00m \u001b[38;5;28mself\u001b[39m\u001b[38;5;241m.\u001b[39m_metadata\n\u001b[0;32m   5571\u001b[0m     \u001b[38;5;129;01mand\u001b[39;00m name \u001b[38;5;129;01mnot\u001b[39;00m \u001b[38;5;129;01min\u001b[39;00m \u001b[38;5;28mself\u001b[39m\u001b[38;5;241m.\u001b[39m_accessors\n\u001b[0;32m   5572\u001b[0m     \u001b[38;5;129;01mand\u001b[39;00m \u001b[38;5;28mself\u001b[39m\u001b[38;5;241m.\u001b[39m_info_axis\u001b[38;5;241m.\u001b[39m_can_hold_identifiers_and_holds_name(name)\n\u001b[0;32m   5573\u001b[0m ):\n\u001b[0;32m   5574\u001b[0m     \u001b[38;5;28;01mreturn\u001b[39;00m \u001b[38;5;28mself\u001b[39m[name]\n\u001b[1;32m-> 5575\u001b[0m \u001b[38;5;28;01mreturn\u001b[39;00m \u001b[38;5;28;43mobject\u001b[39;49m\u001b[38;5;241;43m.\u001b[39;49m\u001b[38;5;21;43m__getattribute__\u001b[39;49m\u001b[43m(\u001b[49m\u001b[38;5;28;43mself\u001b[39;49m\u001b[43m,\u001b[49m\u001b[43m \u001b[49m\u001b[43mname\u001b[49m\u001b[43m)\u001b[49m\n",
      "File \u001b[1;32m~\\anaconda3\\lib\\site-packages\\pandas\\core\\accessor.py:182\u001b[0m, in \u001b[0;36mCachedAccessor.__get__\u001b[1;34m(self, obj, cls)\u001b[0m\n\u001b[0;32m    179\u001b[0m \u001b[38;5;28;01mif\u001b[39;00m obj \u001b[38;5;129;01mis\u001b[39;00m \u001b[38;5;28;01mNone\u001b[39;00m:\n\u001b[0;32m    180\u001b[0m     \u001b[38;5;66;03m# we're accessing the attribute of the class, i.e., Dataset.geo\u001b[39;00m\n\u001b[0;32m    181\u001b[0m     \u001b[38;5;28;01mreturn\u001b[39;00m \u001b[38;5;28mself\u001b[39m\u001b[38;5;241m.\u001b[39m_accessor\n\u001b[1;32m--> 182\u001b[0m accessor_obj \u001b[38;5;241m=\u001b[39m \u001b[38;5;28;43mself\u001b[39;49m\u001b[38;5;241;43m.\u001b[39;49m\u001b[43m_accessor\u001b[49m\u001b[43m(\u001b[49m\u001b[43mobj\u001b[49m\u001b[43m)\u001b[49m\n\u001b[0;32m    183\u001b[0m \u001b[38;5;66;03m# Replace the property with the accessor object. Inspired by:\u001b[39;00m\n\u001b[0;32m    184\u001b[0m \u001b[38;5;66;03m# https://www.pydanny.com/cached-property.html\u001b[39;00m\n\u001b[0;32m    185\u001b[0m \u001b[38;5;66;03m# We need to use object.__setattr__ because we overwrite __setattr__ on\u001b[39;00m\n\u001b[0;32m    186\u001b[0m \u001b[38;5;66;03m# NDFrame\u001b[39;00m\n\u001b[0;32m    187\u001b[0m \u001b[38;5;28mobject\u001b[39m\u001b[38;5;241m.\u001b[39m\u001b[38;5;21m__setattr__\u001b[39m(obj, \u001b[38;5;28mself\u001b[39m\u001b[38;5;241m.\u001b[39m_name, accessor_obj)\n",
      "File \u001b[1;32m~\\anaconda3\\lib\\site-packages\\pandas\\core\\strings\\accessor.py:177\u001b[0m, in \u001b[0;36mStringMethods.__init__\u001b[1;34m(self, data)\u001b[0m\n\u001b[0;32m    174\u001b[0m \u001b[38;5;28;01mdef\u001b[39;00m \u001b[38;5;21m__init__\u001b[39m(\u001b[38;5;28mself\u001b[39m, data):\n\u001b[0;32m    175\u001b[0m     \u001b[38;5;28;01mfrom\u001b[39;00m \u001b[38;5;21;01mpandas\u001b[39;00m\u001b[38;5;21;01m.\u001b[39;00m\u001b[38;5;21;01mcore\u001b[39;00m\u001b[38;5;21;01m.\u001b[39;00m\u001b[38;5;21;01marrays\u001b[39;00m\u001b[38;5;21;01m.\u001b[39;00m\u001b[38;5;21;01mstring_\u001b[39;00m \u001b[38;5;28;01mimport\u001b[39;00m StringDtype\n\u001b[1;32m--> 177\u001b[0m     \u001b[38;5;28mself\u001b[39m\u001b[38;5;241m.\u001b[39m_inferred_dtype \u001b[38;5;241m=\u001b[39m \u001b[38;5;28;43mself\u001b[39;49m\u001b[38;5;241;43m.\u001b[39;49m\u001b[43m_validate\u001b[49m\u001b[43m(\u001b[49m\u001b[43mdata\u001b[49m\u001b[43m)\u001b[49m\n\u001b[0;32m    178\u001b[0m     \u001b[38;5;28mself\u001b[39m\u001b[38;5;241m.\u001b[39m_is_categorical \u001b[38;5;241m=\u001b[39m is_categorical_dtype(data\u001b[38;5;241m.\u001b[39mdtype)\n\u001b[0;32m    179\u001b[0m     \u001b[38;5;28mself\u001b[39m\u001b[38;5;241m.\u001b[39m_is_string \u001b[38;5;241m=\u001b[39m \u001b[38;5;28misinstance\u001b[39m(data\u001b[38;5;241m.\u001b[39mdtype, StringDtype)\n",
      "File \u001b[1;32m~\\anaconda3\\lib\\site-packages\\pandas\\core\\strings\\accessor.py:231\u001b[0m, in \u001b[0;36mStringMethods._validate\u001b[1;34m(data)\u001b[0m\n\u001b[0;32m    228\u001b[0m inferred_dtype \u001b[38;5;241m=\u001b[39m lib\u001b[38;5;241m.\u001b[39minfer_dtype(values, skipna\u001b[38;5;241m=\u001b[39m\u001b[38;5;28;01mTrue\u001b[39;00m)\n\u001b[0;32m    230\u001b[0m \u001b[38;5;28;01mif\u001b[39;00m inferred_dtype \u001b[38;5;129;01mnot\u001b[39;00m \u001b[38;5;129;01min\u001b[39;00m allowed_types:\n\u001b[1;32m--> 231\u001b[0m     \u001b[38;5;28;01mraise\u001b[39;00m \u001b[38;5;167;01mAttributeError\u001b[39;00m(\u001b[38;5;124m\"\u001b[39m\u001b[38;5;124mCan only use .str accessor with string values!\u001b[39m\u001b[38;5;124m\"\u001b[39m)\n\u001b[0;32m    232\u001b[0m \u001b[38;5;28;01mreturn\u001b[39;00m inferred_dtype\n",
      "\u001b[1;31mAttributeError\u001b[0m: Can only use .str accessor with string values!"
     ]
    }
   ],
   "source": [
    "df[\"amenities\"]=df[\"amenities\"].astype(int)\n",
    "df['price_display'] = df['price_display'].str.replace(r'[^\\d.]', '', regex=True).astype(float)"
   ]
  },
  {
   "cell_type": "markdown",
   "id": "718939af",
   "metadata": {},
   "source": []
  },
  {
   "cell_type": "code",
   "execution_count": 57,
   "id": "bce9a008",
   "metadata": {
    "scrolled": true
   },
   "outputs": [
    {
     "name": "stdout",
     "output_type": "stream",
     "text": [
      "<class 'pandas.core.frame.DataFrame'>\n",
      "RangeIndex: 9000 entries, 0 to 8999\n",
      "Data columns (total 27 columns):\n",
      " #   Column                   Non-Null Count  Dtype  \n",
      "---  ------                   --------------  -----  \n",
      " 0   id                       9000 non-null   int64  \n",
      " 1   amenities                9000 non-null   int32  \n",
      " 2   bathrooms                8970 non-null   float64\n",
      " 3   bedrooms                 8993 non-null   float64\n",
      " 4   price                    9000 non-null   int64  \n",
      " 5   price_display            9000 non-null   float64\n",
      " 6   square_feet              9000 non-null   int64  \n",
      " 7   latitude                 8993 non-null   float64\n",
      " 8   longitude                8993 non-null   float64\n",
      " 9   time                     9000 non-null   int64  \n",
      " 10  body_count               9000 non-null   int64  \n",
      " 11  title_count              9000 non-null   int64  \n",
      " 12  category_encoded         9000 non-null   int32  \n",
      " 13  source_encoded           9000 non-null   int32  \n",
      " 14  currency_encoded         9000 non-null   int32  \n",
      " 15  fee_encoded              9000 non-null   int32  \n",
      " 16  price_type_enc           9000 non-null   int32  \n",
      " 17  address_encoded          9000 non-null   int32  \n",
      " 18  has_photo_No             9000 non-null   uint8  \n",
      " 19  has_photo_Thumbnail      9000 non-null   uint8  \n",
      " 20  has_photo_Yes            9000 non-null   uint8  \n",
      " 21  pets_allowed_Cats        9000 non-null   uint8  \n",
      " 22  pets_allowed_Cats,Dogs   9000 non-null   uint8  \n",
      " 23  pets_allowed_Dogs        9000 non-null   uint8  \n",
      " 24  city_freq_encoded        9000 non-null   float64\n",
      " 25  state_freq_encoded       9000 non-null   float64\n",
      " 26  city_state_freq_encoded  9000 non-null   float64\n",
      "dtypes: float64(8), int32(7), int64(6), uint8(6)\n",
      "memory usage: 1.3 MB\n"
     ]
    }
   ],
   "source": [
    "df.info()"
   ]
  },
  {
   "cell_type": "code",
   "execution_count": 64,
   "id": "6773c793",
   "metadata": {},
   "outputs": [
    {
     "data": {
      "image/png": "[encoded data removed]",
      "text/plain": [
       "<Figure size 1080x432 with 1 Axes>"
      ]
     },
     "metadata": {
      "needs_background": "light"
     },
     "output_type": "display_data"
    }
   ],
   "source": [
    "plt.figure(figsize=(15, 6))  # Set the figure size\n",
    "df['price_display'].plot()  # Plot the data\n",
    "plt.xlabel('Index')  # Set the x-axis label\n",
    "plt.ylabel('Price Display')  # Set the y-axis label\n",
    "plt.xlim(0, len(df) - 1)  # Set the limit for x-axis\n",
    "plt.show()"
   ]
  },
  {
   "cell_type": "code",
   "execution_count": 65,
   "id": "869b121f",
   "metadata": {},
   "outputs": [
    {
     "name": "stdout",
     "output_type": "stream",
     "text": [
      "<class 'pandas.core.frame.DataFrame'>\n",
      "RangeIndex: 9000 entries, 0 to 8999\n",
      "Data columns (total 27 columns):\n",
      " #   Column                   Non-Null Count  Dtype  \n",
      "---  ------                   --------------  -----  \n",
      " 0   id                       9000 non-null   int64  \n",
      " 1   amenities                9000 non-null   int32  \n",
      " 2   bathrooms                8970 non-null   float64\n",
      " 3   bedrooms                 8993 non-null   float64\n",
      " 4   price                    9000 non-null   int64  \n",
      " 5   price_display            9000 non-null   float64\n",
      " 6   square_feet              9000 non-null   int64  \n",
      " 7   latitude                 8993 non-null   float64\n",
      " 8   longitude                8993 non-null   float64\n",
      " 9   time                     9000 non-null   int64  \n",
      " 10  body_count               9000 non-null   int64  \n",
      " 11  title_count              9000 non-null   int64  \n",
      " 12  category_encoded         9000 non-null   int32  \n",
      " 13  source_encoded           9000 non-null   int32  \n",
      " 14  currency_encoded         9000 non-null   int32  \n",
      " 15  fee_encoded              9000 non-null   int32  \n",
      " 16  price_type_enc           9000 non-null   int32  \n",
      " 17  address_encoded          9000 non-null   int32  \n",
      " 18  has_photo_No             9000 non-null   uint8  \n",
      " 19  has_photo_Thumbnail      9000 non-null   uint8  \n",
      " 20  has_photo_Yes            9000 non-null   uint8  \n",
      " 21  pets_allowed_Cats        9000 non-null   uint8  \n",
      " 22  pets_allowed_Cats,Dogs   9000 non-null   uint8  \n",
      " 23  pets_allowed_Dogs        9000 non-null   uint8  \n",
      " 24  city_freq_encoded        9000 non-null   float64\n",
      " 25  state_freq_encoded       9000 non-null   float64\n",
      " 26  city_state_freq_encoded  9000 non-null   float64\n",
      "dtypes: float64(8), int32(7), int64(6), uint8(6)\n",
      "memory usage: 1.3 MB\n"
     ]
    }
   ],
   "source": [
    "df.info()"
   ]
  },
  {
   "cell_type": "code",
   "execution_count": null,
   "id": "6ce01ba3",
   "metadata": {},
   "outputs": [],
   "source": []
  }
 ],
 "metadata": {
  "kernelspec": {
   "display_name": "Python 3",
   "language": "python",
   "name": "python3"
  },
  "language_info": {
   "codemirror_mode": {
    "name": "ipython",
    "version": 3
   },
   "file_extension": ".py",
   "mimetype": "text/x-python",
   "name": "python",
   "nbconvert_exporter": "python",
   "pygments_lexer": "ipython3",
   "version": "3.9.12"
  }
 },
 "nbformat": 4,
 "nbformat_minor": 5
}
